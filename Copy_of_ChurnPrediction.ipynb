{
  "nbformat": 4,
  "nbformat_minor": 0,
  "metadata": {
    "kernelspec": {
      "display_name": "Python 3",
      "language": "python",
      "name": "python3"
    },
    "language_info": {
      "codemirror_mode": {
        "name": "ipython",
        "version": 3
      },
      "file_extension": ".py",
      "mimetype": "text/x-python",
      "name": "python",
      "nbconvert_exporter": "python",
      "pygments_lexer": "ipython3",
      "version": "3.7.6"
    },
    "colab": {
      "name": "Copy of ChurnPrediction.ipynb",
      "provenance": [],
      "collapsed_sections": []
    },
    "widgets": {
      "application/vnd.jupyter.widget-state+json": {
        "4b1285b09cdd416e9a5db63140a3432f": {
          "model_module": "catboost-widget",
          "model_name": "CatboostWidgetModel",
          "model_module_version": "^1.0.0",
          "state": {
            "_view_name": "CatboostWidgetView",
            "_dom_classes": [],
            "_model_name": "CatboostWidgetModel",
            "data": {
              "catboost_info": {
                "content": {
                  "data": {
                    "meta": {
                      "name": "experiment",
                      "parameters": "",
                      "test_metrics": [],
                      "learn_sets": [
                        "learn"
                      ],
                      "launch_mode": "Train",
                      "learn_metrics": [
                        {
                          "best_value": "Min",
                          "name": "CrossEntropy"
                        },
                        {
                          "best_value": "Max",
                          "name": "Accuracy"
                        }
                      ],
                      "iteration_count": 1000,
                      "test_sets": []
                    },
                    "iterations": [
                      {
                        "passed_time": 0.06506571785,
                        "iteration": 0,
                        "remaining_time": 65.00065213,
                        "learn": [
                          0.672346051,
                          0.7820376287
                        ]
                      },
                      {
                        "passed_time": 0.1166350412,
                        "iteration": 1,
                        "remaining_time": 58.20088556,
                        "learn": [
                          0.6537743069,
                          0.78257011
                        ]
                      },
                      {
                        "passed_time": 0.1661821547,
                        "iteration": 2,
                        "remaining_time": 55.22786943,
                        "learn": [
                          0.6368155153,
                          0.783457579
                        ]
                      },
                      {
                        "passed_time": 0.1969439169,
                        "iteration": 3,
                        "remaining_time": 49.0390353,
                        "learn": [
                          0.6238009549,
                          0.78257011
                        ]
                      },
                      {
                        "passed_time": 0.2772473244,
                        "iteration": 4,
                        "remaining_time": 55.17221755,
                        "learn": [
                          0.6090176855,
                          0.785942492
                        ]
                      },
                      {
                        "passed_time": 0.2944249861,
                        "iteration": 5,
                        "remaining_time": 48.77640604,
                        "learn": [
                          0.5952955696,
                          0.7857649982
                        ]
                      },
                      {
                        "passed_time": 0.3136168909,
                        "iteration": 6,
                        "remaining_time": 44.48879609,
                        "learn": [
                          0.5828999258,
                          0.7878949237
                        ]
                      },
                      {
                        "passed_time": 0.3349349449,
                        "iteration": 7,
                        "remaining_time": 41.53193317,
                        "learn": [
                          0.5723189772,
                          0.7880724175
                        ]
                      },
                      {
                        "passed_time": 0.355524183,
                        "iteration": 8,
                        "remaining_time": 39.14716282,
                        "learn": [
                          0.5616562736,
                          0.788427405
                        ]
                      },
                      {
                        "passed_time": 0.3741179382,
                        "iteration": 9,
                        "remaining_time": 37.03767589,
                        "learn": [
                          0.5511200963,
                          0.7887823926
                        ]
                      },
                      {
                        "passed_time": 0.3942153102,
                        "iteration": 10,
                        "remaining_time": 35.44354016,
                        "learn": [
                          0.541972205,
                          0.7870074547
                        ]
                      },
                      {
                        "passed_time": 0.4135603005,
                        "iteration": 11,
                        "remaining_time": 34.04979807,
                        "learn": [
                          0.5329485147,
                          0.786829961
                        ]
                      },
                      {
                        "passed_time": 0.4295545239,
                        "iteration": 12,
                        "remaining_time": 32.61310116,
                        "learn": [
                          0.5250714865,
                          0.7870074547
                        ]
                      },
                      {
                        "passed_time": 0.4480330398,
                        "iteration": 13,
                        "remaining_time": 31.55432695,
                        "learn": [
                          0.5182361884,
                          0.7866524672
                        ]
                      },
                      {
                        "passed_time": 0.4670825414,
                        "iteration": 14,
                        "remaining_time": 30.67175355,
                        "learn": [
                          0.5115661026,
                          0.7896698616
                        ]
                      },
                      {
                        "passed_time": 0.4782550953,
                        "iteration": 15,
                        "remaining_time": 29.41268836,
                        "learn": [
                          0.5062657488,
                          0.7910898119
                        ]
                      },
                      {
                        "passed_time": 0.5002012096,
                        "iteration": 16,
                        "remaining_time": 28.92339936,
                        "learn": [
                          0.5007473524,
                          0.7944621938
                        ]
                      },
                      {
                        "passed_time": 0.5157945074,
                        "iteration": 17,
                        "remaining_time": 28.1394559,
                        "learn": [
                          0.4954144863,
                          0.7967696131
                        ]
                      },
                      {
                        "passed_time": 0.5685093976,
                        "iteration": 18,
                        "remaining_time": 29.35303785,
                        "learn": [
                          0.4897013617,
                          0.7981895634
                        ]
                      },
                      {
                        "passed_time": 0.589346341,
                        "iteration": 19,
                        "remaining_time": 28.87797071,
                        "learn": [
                          0.4847492878,
                          0.7974795882
                        ]
                      },
                      {
                        "passed_time": 0.6102449645,
                        "iteration": 20,
                        "remaining_time": 28.44903906,
                        "learn": [
                          0.4803072675,
                          0.7974795882
                        ]
                      },
                      {
                        "passed_time": 0.6308511471,
                        "iteration": 21,
                        "remaining_time": 28.04420099,
                        "learn": [
                          0.4754501292,
                          0.7980120696
                        ]
                      },
                      {
                        "passed_time": 0.6510337471,
                        "iteration": 22,
                        "remaining_time": 27.65478134,
                        "learn": [
                          0.4714147181,
                          0.7981895634
                        ]
                      },
                      {
                        "passed_time": 0.6709787043,
                        "iteration": 23,
                        "remaining_time": 27.28646731,
                        "learn": [
                          0.4684591415,
                          0.7974795882
                        ]
                      },
                      {
                        "passed_time": 0.6925361202,
                        "iteration": 24,
                        "remaining_time": 27.00890869,
                        "learn": [
                          0.4653033082,
                          0.7983670572
                        ]
                      },
                      {
                        "passed_time": 0.7174489791,
                        "iteration": 25,
                        "remaining_time": 26.87674253,
                        "learn": [
                          0.4619057754,
                          0.8004969826
                        ]
                      },
                      {
                        "passed_time": 0.7307711763,
                        "iteration": 26,
                        "remaining_time": 26.33482794,
                        "learn": [
                          0.4593409002,
                          0.8008519702
                        ]
                      },
                      {
                        "passed_time": 0.7480661929,
                        "iteration": 27,
                        "remaining_time": 25.96858355,
                        "learn": [
                          0.4563771208,
                          0.8008519702
                        ]
                      },
                      {
                        "passed_time": 0.7676164627,
                        "iteration": 28,
                        "remaining_time": 25.70191673,
                        "learn": [
                          0.4538086301,
                          0.8008519702
                        ]
                      },
                      {
                        "passed_time": 0.7861472442,
                        "iteration": 29,
                        "remaining_time": 25.4187609,
                        "learn": [
                          0.4515276218,
                          0.8006744764
                        ]
                      },
                      {
                        "passed_time": 0.7939355883,
                        "iteration": 30,
                        "remaining_time": 24.81688984,
                        "learn": [
                          0.4501091956,
                          0.8013844515
                        ]
                      },
                      {
                        "passed_time": 0.814201722,
                        "iteration": 31,
                        "remaining_time": 24.62960209,
                        "learn": [
                          0.4477097328,
                          0.8024494143
                        ]
                      },
                      {
                        "passed_time": 0.834994797,
                        "iteration": 32,
                        "remaining_time": 24.46787784,
                        "learn": [
                          0.4454228179,
                          0.8019169329
                        ]
                      },
                      {
                        "passed_time": 0.8546893725,
                        "iteration": 33,
                        "remaining_time": 24.28323335,
                        "learn": [
                          0.4433429521,
                          0.8020944267
                        ]
                      },
                      {
                        "passed_time": 0.8700464388,
                        "iteration": 34,
                        "remaining_time": 23.98842324,
                        "learn": [
                          0.4416136138,
                          0.8028044018
                        ]
                      },
                      {
                        "passed_time": 0.8880276621,
                        "iteration": 35,
                        "remaining_time": 23.7794074,
                        "learn": [
                          0.4396585577,
                          0.8029818956
                        ]
                      },
                      {
                        "passed_time": 0.8975434307,
                        "iteration": 36,
                        "remaining_time": 23.36038713,
                        "learn": [
                          0.4385490433,
                          0.8026269081
                        ]
                      },
                      {
                        "passed_time": 0.916729719,
                        "iteration": 37,
                        "remaining_time": 23.20773657,
                        "learn": [
                          0.4369298214,
                          0.8038693646
                        ]
                      },
                      {
                        "passed_time": 0.9363115891,
                        "iteration": 38,
                        "remaining_time": 23.07167787,
                        "learn": [
                          0.43517218,
                          0.8044018459
                        ]
                      },
                      {
                        "passed_time": 0.9566589327,
                        "iteration": 39,
                        "remaining_time": 22.95981439,
                        "learn": [
                          0.4332795624,
                          0.8047568335
                        ]
                      },
                      {
                        "passed_time": 0.9925982502,
                        "iteration": 40,
                        "remaining_time": 23.21711517,
                        "learn": [
                          0.4317426502,
                          0.8040468584
                        ]
                      },
                      {
                        "passed_time": 1.013794293,
                        "iteration": 41,
                        "remaining_time": 23.12416507,
                        "learn": [
                          0.4302120333,
                          0.8040468584
                        ]
                      },
                      {
                        "passed_time": 1.036766199,
                        "iteration": 42,
                        "remaining_time": 23.07407565,
                        "learn": [
                          0.4289515157,
                          0.8036918708
                        ]
                      },
                      {
                        "passed_time": 1.05783693,
                        "iteration": 43,
                        "remaining_time": 22.98391149,
                        "learn": [
                          0.427619045,
                          0.8054668087
                        ]
                      },
                      {
                        "passed_time": 1.080868771,
                        "iteration": 44,
                        "remaining_time": 22.93843726,
                        "learn": [
                          0.4265876579,
                          0.8044018459
                        ]
                      },
                      {
                        "passed_time": 1.100903507,
                        "iteration": 45,
                        "remaining_time": 22.83178143,
                        "learn": [
                          0.4256151029,
                          0.8058217962
                        ]
                      },
                      {
                        "passed_time": 1.118077272,
                        "iteration": 46,
                        "remaining_time": 22.67080086,
                        "learn": [
                          0.4242539175,
                          0.8056443024
                        ]
                      },
                      {
                        "passed_time": 1.137846256,
                        "iteration": 47,
                        "remaining_time": 22.56728408,
                        "learn": [
                          0.422969728,
                          0.8070642528
                        ]
                      },
                      {
                        "passed_time": 1.16313429,
                        "iteration": 48,
                        "remaining_time": 22.57430021,
                        "learn": [
                          0.421886961,
                          0.8075967341
                        ]
                      },
                      {
                        "passed_time": 1.172802095,
                        "iteration": 49,
                        "remaining_time": 22.2832398,
                        "learn": [
                          0.4210254429,
                          0.8074192403
                        ]
                      },
                      {
                        "passed_time": 1.190087138,
                        "iteration": 50,
                        "remaining_time": 22.14495478,
                        "learn": [
                          0.4200722623,
                          0.8070642528
                        ]
                      },
                      {
                        "passed_time": 1.207072968,
                        "iteration": 51,
                        "remaining_time": 22.00586873,
                        "learn": [
                          0.4192051648,
                          0.8079517217
                        ]
                      },
                      {
                        "passed_time": 1.227359021,
                        "iteration": 52,
                        "remaining_time": 21.93035836,
                        "learn": [
                          0.4182344656,
                          0.806886759
                        ]
                      },
                      {
                        "passed_time": 1.248917058,
                        "iteration": 53,
                        "remaining_time": 21.8791766,
                        "learn": [
                          0.4172661152,
                          0.8074192403
                        ]
                      },
                      {
                        "passed_time": 1.271110793,
                        "iteration": 54,
                        "remaining_time": 21.83999453,
                        "learn": [
                          0.4166330746,
                          0.8083067093
                        ]
                      },
                      {
                        "passed_time": 1.291033185,
                        "iteration": 55,
                        "remaining_time": 21.76313084,
                        "learn": [
                          0.4156947441,
                          0.8083067093
                        ]
                      },
                      {
                        "passed_time": 1.31055551,
                        "iteration": 56,
                        "remaining_time": 21.68164642,
                        "learn": [
                          0.4148867676,
                          0.8088391906
                        ]
                      },
                      {
                        "passed_time": 1.332022231,
                        "iteration": 57,
                        "remaining_time": 21.63387831,
                        "learn": [
                          0.4140254861,
                          0.8086616968
                        ]
                      },
                      {
                        "passed_time": 1.355091896,
                        "iteration": 58,
                        "remaining_time": 21.61256736,
                        "learn": [
                          0.4134415043,
                          0.8091941782
                        ]
                      },
                      {
                        "passed_time": 1.375688167,
                        "iteration": 59,
                        "remaining_time": 21.55244795,
                        "learn": [
                          0.4124568168,
                          0.809371672
                        ]
                      },
                      {
                        "passed_time": 1.396320658,
                        "iteration": 60,
                        "remaining_time": 21.49418194,
                        "learn": [
                          0.4119745792,
                          0.8097266596
                        ]
                      },
                      {
                        "passed_time": 1.416410797,
                        "iteration": 61,
                        "remaining_time": 21.42892464,
                        "learn": [
                          0.4113152998,
                          0.8097266596
                        ]
                      },
                      {
                        "passed_time": 1.43519459,
                        "iteration": 62,
                        "remaining_time": 21.34567193,
                        "learn": [
                          0.4106398851,
                          0.8091941782
                        ]
                      },
                      {
                        "passed_time": 1.454697422,
                        "iteration": 63,
                        "remaining_time": 21.2749498,
                        "learn": [
                          0.4099386926,
                          0.8084842031
                        ]
                      },
                      {
                        "passed_time": 1.47112981,
                        "iteration": 64,
                        "remaining_time": 21.1616365,
                        "learn": [
                          0.40936355,
                          0.8088391906
                        ]
                      },
                      {
                        "passed_time": 1.492157075,
                        "iteration": 65,
                        "remaining_time": 21.11628345,
                        "learn": [
                          0.4087003945,
                          0.809371672
                        ]
                      },
                      {
                        "passed_time": 1.497872249,
                        "iteration": 66,
                        "remaining_time": 20.85842998,
                        "learn": [
                          0.4085975495,
                          0.8097266596
                        ]
                      },
                      {
                        "passed_time": 1.516847203,
                        "iteration": 67,
                        "remaining_time": 20.78972931,
                        "learn": [
                          0.4076700665,
                          0.8100816471
                        ]
                      },
                      {
                        "passed_time": 1.533814908,
                        "iteration": 68,
                        "remaining_time": 20.69538665,
                        "learn": [
                          0.4070904947,
                          0.8100816471
                        ]
                      },
                      {
                        "passed_time": 1.551427863,
                        "iteration": 69,
                        "remaining_time": 20.61182733,
                        "learn": [
                          0.4066917107,
                          0.8097266596
                        ]
                      },
                      {
                        "passed_time": 1.571758853,
                        "iteration": 70,
                        "remaining_time": 20.56568978,
                        "learn": [
                          0.4061662968,
                          0.8099041534
                        ]
                      },
                      {
                        "passed_time": 1.593007098,
                        "iteration": 71,
                        "remaining_time": 20.53209149,
                        "learn": [
                          0.4055726303,
                          0.8099041534
                        ]
                      },
                      {
                        "passed_time": 1.603658083,
                        "iteration": 72,
                        "remaining_time": 20.36426086,
                        "learn": [
                          0.4053244698,
                          0.8099041534
                        ]
                      },
                      {
                        "passed_time": 1.62384654,
                        "iteration": 73,
                        "remaining_time": 20.32002562,
                        "learn": [
                          0.4048878801,
                          0.8107916223
                        ]
                      },
                      {
                        "passed_time": 1.643215686,
                        "iteration": 74,
                        "remaining_time": 20.26632679,
                        "learn": [
                          0.4045151949,
                          0.8106141285
                        ]
                      },
                      {
                        "passed_time": 1.668388292,
                        "iteration": 75,
                        "remaining_time": 20.28408923,
                        "learn": [
                          0.4041699973,
                          0.8106141285
                        ]
                      },
                      {
                        "passed_time": 1.688674261,
                        "iteration": 76,
                        "remaining_time": 20.24216029,
                        "learn": [
                          0.4037047469,
                          0.8109691161
                        ]
                      },
                      {
                        "passed_time": 1.706532421,
                        "iteration": 77,
                        "remaining_time": 20.17208836,
                        "learn": [
                          0.4033122754,
                          0.8122115726
                        ]
                      },
                      {
                        "passed_time": 1.724887813,
                        "iteration": 78,
                        "remaining_time": 20.10913513,
                        "learn": [
                          0.4029045016,
                          0.8122115726
                        ]
                      },
                      {
                        "passed_time": 1.742757618,
                        "iteration": 79,
                        "remaining_time": 20.04171261,
                        "learn": [
                          0.4023101093,
                          0.812744054
                        ]
                      },
                      {
                        "passed_time": 1.767431853,
                        "iteration": 80,
                        "remaining_time": 20.05271448,
                        "learn": [
                          0.4019848777,
                          0.8129215477
                        ]
                      },
                      {
                        "passed_time": 1.786399857,
                        "iteration": 81,
                        "remaining_time": 19.99896426,
                        "learn": [
                          0.4016365278,
                          0.8132765353
                        ]
                      },
                      {
                        "passed_time": 1.806570363,
                        "iteration": 82,
                        "remaining_time": 19.95933762,
                        "learn": [
                          0.4011885087,
                          0.8129215477
                        ]
                      },
                      {
                        "passed_time": 1.825961,
                        "iteration": 83,
                        "remaining_time": 19.91166995,
                        "learn": [
                          0.4008515856,
                          0.8136315229
                        ]
                      },
                      {
                        "passed_time": 1.843348589,
                        "iteration": 84,
                        "remaining_time": 19.8431054,
                        "learn": [
                          0.4005317374,
                          0.8132765353
                        ]
                      },
                      {
                        "passed_time": 1.864535902,
                        "iteration": 85,
                        "remaining_time": 19.81611412,
                        "learn": [
                          0.4002712432,
                          0.8134540291
                        ]
                      },
                      {
                        "passed_time": 1.890580106,
                        "iteration": 86,
                        "remaining_time": 19.84022571,
                        "learn": [
                          0.3998535349,
                          0.8141640043
                        ]
                      },
                      {
                        "passed_time": 1.915473783,
                        "iteration": 87,
                        "remaining_time": 19.85127375,
                        "learn": [
                          0.3995416666,
                          0.8146964856
                        ]
                      },
                      {
                        "passed_time": 1.93954441,
                        "iteration": 88,
                        "remaining_time": 19.85308942,
                        "learn": [
                          0.399406955,
                          0.814341498
                        ]
                      },
                      {
                        "passed_time": 1.96367819,
                        "iteration": 89,
                        "remaining_time": 19.85496836,
                        "learn": [
                          0.399018327,
                          0.8138090167
                        ]
                      },
                      {
                        "passed_time": 1.997683362,
                        "iteration": 90,
                        "remaining_time": 19.95488106,
                        "learn": [
                          0.3983898786,
                          0.8154064608
                        ]
                      },
                      {
                        "passed_time": 2.024972871,
                        "iteration": 91,
                        "remaining_time": 19.98560181,
                        "learn": [
                          0.3982512521,
                          0.815228967
                        ]
                      },
                      {
                        "passed_time": 2.042493567,
                        "iteration": 92,
                        "remaining_time": 19.91980285,
                        "learn": [
                          0.3978818797,
                          0.8146964856
                        ]
                      },
                      {
                        "passed_time": 2.061446766,
                        "iteration": 93,
                        "remaining_time": 19.86883798,
                        "learn": [
                          0.3975801203,
                          0.8146964856
                        ]
                      },
                      {
                        "passed_time": 2.08402593,
                        "iteration": 94,
                        "remaining_time": 19.85308912,
                        "learn": [
                          0.3972337727,
                          0.814341498
                        ]
                      },
                      {
                        "passed_time": 2.102698365,
                        "iteration": 95,
                        "remaining_time": 19.8004096,
                        "learn": [
                          0.3969134628,
                          0.8150514732
                        ]
                      },
                      {
                        "passed_time": 2.115655862,
                        "iteration": 96,
                        "remaining_time": 19.69522932,
                        "learn": [
                          0.3968169478,
                          0.8150514732
                        ]
                      },
                      {
                        "passed_time": 2.134218688,
                        "iteration": 97,
                        "remaining_time": 19.64352303,
                        "learn": [
                          0.3965801788,
                          0.8155839546
                        ]
                      },
                      {
                        "passed_time": 2.153680199,
                        "iteration": 98,
                        "remaining_time": 19.60066525,
                        "learn": [
                          0.3962066541,
                          0.8146964856
                        ]
                      },
                      {
                        "passed_time": 2.159458598,
                        "iteration": 99,
                        "remaining_time": 19.43512738,
                        "learn": [
                          0.3961679849,
                          0.8148739794
                        ]
                      },
                      {
                        "passed_time": 2.180934645,
                        "iteration": 100,
                        "remaining_time": 19.41247768,
                        "learn": [
                          0.3960507402,
                          0.8146964856
                        ]
                      },
                      {
                        "passed_time": 2.199238179,
                        "iteration": 101,
                        "remaining_time": 19.36192044,
                        "learn": [
                          0.3958146101,
                          0.8148739794
                        ]
                      },
                      {
                        "passed_time": 2.217969789,
                        "iteration": 102,
                        "remaining_time": 19.31571749,
                        "learn": [
                          0.3956826466,
                          0.815228967
                        ]
                      },
                      {
                        "passed_time": 2.237722171,
                        "iteration": 103,
                        "remaining_time": 19.27883716,
                        "learn": [
                          0.395445437,
                          0.8155839546
                        ]
                      },
                      {
                        "passed_time": 2.258859278,
                        "iteration": 104,
                        "remaining_time": 19.25408622,
                        "learn": [
                          0.3952569451,
                          0.8157614483
                        ]
                      },
                      {
                        "passed_time": 2.279664996,
                        "iteration": 105,
                        "remaining_time": 19.22660855,
                        "learn": [
                          0.3949238561,
                          0.8155839546
                        ]
                      },
                      {
                        "passed_time": 2.300362642,
                        "iteration": 106,
                        "remaining_time": 19.19835364,
                        "learn": [
                          0.3946065014,
                          0.8150514732
                        ]
                      },
                      {
                        "passed_time": 2.323360897,
                        "iteration": 107,
                        "remaining_time": 19.18924,
                        "learn": [
                          0.3942673282,
                          0.815228967
                        ]
                      },
                      {
                        "passed_time": 2.34427826,
                        "iteration": 108,
                        "remaining_time": 19.16286174,
                        "learn": [
                          0.3938314728,
                          0.8157614483
                        ]
                      },
                      {
                        "passed_time": 2.369708483,
                        "iteration": 109,
                        "remaining_time": 19.17309591,
                        "learn": [
                          0.3937319387,
                          0.8155839546
                        ]
                      },
                      {
                        "passed_time": 2.390249116,
                        "iteration": 110,
                        "remaining_time": 19.1435267,
                        "learn": [
                          0.3934580836,
                          0.8159389421
                        ]
                      },
                      {
                        "passed_time": 2.39976052,
                        "iteration": 111,
                        "remaining_time": 19.02667269,
                        "learn": [
                          0.3934243137,
                          0.8159389421
                        ]
                      },
                      {
                        "passed_time": 2.415046509,
                        "iteration": 112,
                        "remaining_time": 18.95704649,
                        "learn": [
                          0.3933308172,
                          0.8161164359
                        ]
                      },
                      {
                        "passed_time": 2.434935885,
                        "iteration": 113,
                        "remaining_time": 18.92415083,
                        "learn": [
                          0.3931969378,
                          0.8157614483
                        ]
                      },
                      {
                        "passed_time": 2.454527241,
                        "iteration": 114,
                        "remaining_time": 18.8891879,
                        "learn": [
                          0.393099822,
                          0.8159389421
                        ]
                      },
                      {
                        "passed_time": 2.462431963,
                        "iteration": 115,
                        "remaining_time": 18.76542979,
                        "learn": [
                          0.3929833917,
                          0.8162939297
                        ]
                      },
                      {
                        "passed_time": 2.482231691,
                        "iteration": 116,
                        "remaining_time": 18.73342379,
                        "learn": [
                          0.3926666329,
                          0.8164714235
                        ]
                      },
                      {
                        "passed_time": 2.504130976,
                        "iteration": 117,
                        "remaining_time": 18.71731798,
                        "learn": [
                          0.3924698921,
                          0.8170039049
                        ]
                      },
                      {
                        "passed_time": 2.524676489,
                        "iteration": 118,
                        "remaining_time": 18.69109233,
                        "learn": [
                          0.3923181964,
                          0.8170039049
                        ]
                      },
                      {
                        "passed_time": 2.54517794,
                        "iteration": 119,
                        "remaining_time": 18.66463822,
                        "learn": [
                          0.3921749918,
                          0.8168264111
                        ]
                      },
                      {
                        "passed_time": 2.569258967,
                        "iteration": 120,
                        "remaining_time": 18.66428622,
                        "learn": [
                          0.3919895405,
                          0.8170039049
                        ]
                      },
                      {
                        "passed_time": 2.587764433,
                        "iteration": 121,
                        "remaining_time": 18.62341944,
                        "learn": [
                          0.39167665,
                          0.8168264111
                        ]
                      },
                      {
                        "passed_time": 2.607475618,
                        "iteration": 122,
                        "remaining_time": 18.59151315,
                        "learn": [
                          0.3916039619,
                          0.8168264111
                        ]
                      },
                      {
                        "passed_time": 2.627542563,
                        "iteration": 123,
                        "remaining_time": 18.56231682,
                        "learn": [
                          0.3914112152,
                          0.8170039049
                        ]
                      },
                      {
                        "passed_time": 2.635389516,
                        "iteration": 124,
                        "remaining_time": 18.44772661,
                        "learn": [
                          0.3913837991,
                          0.8170039049
                        ]
                      },
                      {
                        "passed_time": 2.640464563,
                        "iteration": 125,
                        "remaining_time": 18.31560339,
                        "learn": [
                          0.3913793424,
                          0.8170039049
                        ]
                      },
                      {
                        "passed_time": 2.661096609,
                        "iteration": 126,
                        "remaining_time": 18.29242,
                        "learn": [
                          0.3910741846,
                          0.8168264111
                        ]
                      },
                      {
                        "passed_time": 2.678574082,
                        "iteration": 127,
                        "remaining_time": 18.24778593,
                        "learn": [
                          0.3907634816,
                          0.8170039049
                        ]
                      },
                      {
                        "passed_time": 2.698928409,
                        "iteration": 128,
                        "remaining_time": 18.22299724,
                        "learn": [
                          0.3906682262,
                          0.8171813987
                        ]
                      },
                      {
                        "passed_time": 2.719160238,
                        "iteration": 129,
                        "remaining_time": 18.19745698,
                        "learn": [
                          0.390438162,
                          0.8171813987
                        ]
                      },
                      {
                        "passed_time": 2.740784629,
                        "iteration": 130,
                        "remaining_time": 18.18123544,
                        "learn": [
                          0.3903146233,
                          0.8173588924
                        ]
                      },
                      {
                        "passed_time": 2.760914361,
                        "iteration": 131,
                        "remaining_time": 18.15510352,
                        "learn": [
                          0.3900430422,
                          0.8171813987
                        ]
                      },
                      {
                        "passed_time": 2.782772724,
                        "iteration": 132,
                        "remaining_time": 18.14033046,
                        "learn": [
                          0.3898363875,
                          0.8175363862
                        ]
                      },
                      {
                        "passed_time": 2.802401266,
                        "iteration": 133,
                        "remaining_time": 18.11104101,
                        "learn": [
                          0.3896219929,
                          0.8178913738
                        ]
                      },
                      {
                        "passed_time": 2.822103995,
                        "iteration": 134,
                        "remaining_time": 18.08237004,
                        "learn": [
                          0.3895497098,
                          0.8175363862
                        ]
                      },
                      {
                        "passed_time": 2.829947183,
                        "iteration": 135,
                        "remaining_time": 17.97848798,
                        "learn": [
                          0.3895254934,
                          0.8175363862
                        ]
                      },
                      {
                        "passed_time": 2.849408557,
                        "iteration": 136,
                        "remaining_time": 17.94919405,
                        "learn": [
                          0.3892446429,
                          0.8178913738
                        ]
                      },
                      {
                        "passed_time": 2.869849738,
                        "iteration": 137,
                        "remaining_time": 17.92616285,
                        "learn": [
                          0.3890864622,
                          0.8178913738
                        ]
                      },
                      {
                        "passed_time": 2.888457575,
                        "iteration": 138,
                        "remaining_time": 17.89181275,
                        "learn": [
                          0.3889629122,
                          0.8178913738
                        ]
                      },
                      {
                        "passed_time": 2.895395682,
                        "iteration": 139,
                        "remaining_time": 17.78600205,
                        "learn": [
                          0.388935987,
                          0.8178913738
                        ]
                      },
                      {
                        "passed_time": 2.912091137,
                        "iteration": 140,
                        "remaining_time": 17.74103749,
                        "learn": [
                          0.3888057681,
                          0.8175363862
                        ]
                      },
                      {
                        "passed_time": 2.93287901,
                        "iteration": 141,
                        "remaining_time": 17.72119853,
                        "learn": [
                          0.3884652617,
                          0.81771388
                        ]
                      },
                      {
                        "passed_time": 2.955048922,
                        "iteration": 142,
                        "remaining_time": 17.70962885,
                        "learn": [
                          0.3881859207,
                          0.8171813987
                        ]
                      },
                      {
                        "passed_time": 2.975489246,
                        "iteration": 143,
                        "remaining_time": 17.68763052,
                        "learn": [
                          0.3881287149,
                          0.8171813987
                        ]
                      },
                      {
                        "passed_time": 2.993548691,
                        "iteration": 144,
                        "remaining_time": 17.65161469,
                        "learn": [
                          0.3879996232,
                          0.8170039049
                        ]
                      },
                      {
                        "passed_time": 3.035840663,
                        "iteration": 145,
                        "remaining_time": 17.75758853,
                        "learn": [
                          0.3879217901,
                          0.8170039049
                        ]
                      },
                      {
                        "passed_time": 3.055873874,
                        "iteration": 146,
                        "remaining_time": 17.73238377,
                        "learn": [
                          0.3878003698,
                          0.8170039049
                        ]
                      },
                      {
                        "passed_time": 3.083166518,
                        "iteration": 147,
                        "remaining_time": 17.74903968,
                        "learn": [
                          0.3876430383,
                          0.8171813987
                        ]
                      },
                      {
                        "passed_time": 3.114104158,
                        "iteration": 148,
                        "remaining_time": 17.78592375,
                        "learn": [
                          0.3874533164,
                          0.8175363862
                        ]
                      },
                      {
                        "passed_time": 3.135001592,
                        "iteration": 149,
                        "remaining_time": 17.76500902,
                        "learn": [
                          0.3873352549,
                          0.81771388
                        ]
                      },
                      {
                        "passed_time": 3.146605644,
                        "iteration": 150,
                        "remaining_time": 17.69184233,
                        "learn": [
                          0.3873024173,
                          0.8175363862
                        ]
                      },
                      {
                        "passed_time": 3.165913001,
                        "iteration": 151,
                        "remaining_time": 17.662462,
                        "learn": [
                          0.3869716377,
                          0.8173588924
                        ]
                      },
                      {
                        "passed_time": 3.185541816,
                        "iteration": 152,
                        "remaining_time": 17.63499293,
                        "learn": [
                          0.3866412337,
                          0.8173588924
                        ]
                      },
                      {
                        "passed_time": 3.206022876,
                        "iteration": 153,
                        "remaining_time": 17.61230749,
                        "learn": [
                          0.3865199128,
                          0.8166489173
                        ]
                      },
                      {
                        "passed_time": 3.226637433,
                        "iteration": 154,
                        "remaining_time": 17.59037826,
                        "learn": [
                          0.3864133136,
                          0.8168264111
                        ]
                      },
                      {
                        "passed_time": 3.246426893,
                        "iteration": 155,
                        "remaining_time": 17.56400191,
                        "learn": [
                          0.3863137637,
                          0.8168264111
                        ]
                      },
                      {
                        "passed_time": 3.268147009,
                        "iteration": 156,
                        "remaining_time": 17.54807598,
                        "learn": [
                          0.3862618868,
                          0.8164714235
                        ]
                      },
                      {
                        "passed_time": 3.286872117,
                        "iteration": 157,
                        "remaining_time": 17.51611596,
                        "learn": [
                          0.3860759302,
                          0.8164714235
                        ]
                      },
                      {
                        "passed_time": 3.307133845,
                        "iteration": 158,
                        "remaining_time": 17.49245009,
                        "learn": [
                          0.3859909881,
                          0.8168264111
                        ]
                      },
                      {
                        "passed_time": 3.319079818,
                        "iteration": 159,
                        "remaining_time": 17.42516905,
                        "learn": [
                          0.3859033334,
                          0.8166489173
                        ]
                      },
                      {
                        "passed_time": 3.336593966,
                        "iteration": 160,
                        "remaining_time": 17.38759216,
                        "learn": [
                          0.3857798151,
                          0.8164714235
                        ]
                      },
                      {
                        "passed_time": 3.360257757,
                        "iteration": 161,
                        "remaining_time": 17.38207408,
                        "learn": [
                          0.3856488636,
                          0.8170039049
                        ]
                      },
                      {
                        "passed_time": 3.378762316,
                        "iteration": 162,
                        "remaining_time": 17.34984085,
                        "learn": [
                          0.3854860945,
                          0.8164714235
                        ]
                      },
                      {
                        "passed_time": 3.395536289,
                        "iteration": 163,
                        "remaining_time": 17.30895328,
                        "learn": [
                          0.3854013635,
                          0.8164714235
                        ]
                      },
                      {
                        "passed_time": 3.412200658,
                        "iteration": 164,
                        "remaining_time": 17.26780333,
                        "learn": [
                          0.385289489,
                          0.8166489173
                        ]
                      },
                      {
                        "passed_time": 3.432950744,
                        "iteration": 165,
                        "remaining_time": 17.24747542,
                        "learn": [
                          0.3850434502,
                          0.8180688676
                        ]
                      },
                      {
                        "passed_time": 3.45953404,
                        "iteration": 166,
                        "remaining_time": 17.25623865,
                        "learn": [
                          0.3849488561,
                          0.81771388
                        ]
                      },
                      {
                        "passed_time": 3.481005616,
                        "iteration": 167,
                        "remaining_time": 17.23926591,
                        "learn": [
                          0.3846811106,
                          0.8175363862
                        ]
                      },
                      {
                        "passed_time": 3.500838304,
                        "iteration": 168,
                        "remaining_time": 17.21418125,
                        "learn": [
                          0.3845205215,
                          0.81771388
                        ]
                      },
                      {
                        "passed_time": 3.521914489,
                        "iteration": 169,
                        "remaining_time": 17.19522956,
                        "learn": [
                          0.3844706478,
                          0.8180688676
                        ]
                      },
                      {
                        "passed_time": 3.534830557,
                        "iteration": 170,
                        "remaining_time": 17.13669317,
                        "learn": [
                          0.3844195936,
                          0.8184238552
                        ]
                      },
                      {
                        "passed_time": 3.553366545,
                        "iteration": 171,
                        "remaining_time": 17.10574127,
                        "learn": [
                          0.3843950035,
                          0.8184238552
                        ]
                      },
                      {
                        "passed_time": 3.581554048,
                        "iteration": 172,
                        "remaining_time": 17.12107051,
                        "learn": [
                          0.3843166844,
                          0.8187788427
                        ]
                      },
                      {
                        "passed_time": 3.602504856,
                        "iteration": 173,
                        "remaining_time": 17.10154604,
                        "learn": [
                          0.3842596865,
                          0.818601349
                        ]
                      },
                      {
                        "passed_time": 3.615945099,
                        "iteration": 174,
                        "remaining_time": 17.04659832,
                        "learn": [
                          0.3842471756,
                          0.818601349
                        ]
                      },
                      {
                        "passed_time": 3.638738797,
                        "iteration": 175,
                        "remaining_time": 17.03591346,
                        "learn": [
                          0.3840840989,
                          0.8184238552
                        ]
                      },
                      {
                        "passed_time": 3.660375992,
                        "iteration": 176,
                        "remaining_time": 17.01971436,
                        "learn": [
                          0.3838701059,
                          0.8180688676
                        ]
                      },
                      {
                        "passed_time": 3.687697463,
                        "iteration": 177,
                        "remaining_time": 17.02970402,
                        "learn": [
                          0.3837815578,
                          0.818601349
                        ]
                      },
                      {
                        "passed_time": 3.706884366,
                        "iteration": 178,
                        "remaining_time": 17.00196684,
                        "learn": [
                          0.3835597663,
                          0.8189563365
                        ]
                      },
                      {
                        "passed_time": 3.728388756,
                        "iteration": 179,
                        "remaining_time": 16.98488211,
                        "learn": [
                          0.383487125,
                          0.8193113241
                        ]
                      },
                      {
                        "passed_time": 3.745495696,
                        "iteration": 180,
                        "remaining_time": 16.94785069,
                        "learn": [
                          0.383402048,
                          0.8194888179
                        ]
                      },
                      {
                        "passed_time": 3.765697416,
                        "iteration": 181,
                        "remaining_time": 16.92494773,
                        "learn": [
                          0.3832554745,
                          0.8196663117
                        ]
                      },
                      {
                        "passed_time": 3.786173986,
                        "iteration": 182,
                        "remaining_time": 16.90330135,
                        "learn": [
                          0.3831901508,
                          0.8198438055
                        ]
                      },
                      {
                        "passed_time": 3.80521163,
                        "iteration": 183,
                        "remaining_time": 16.87528636,
                        "learn": [
                          0.3830841683,
                          0.820198793
                        ]
                      },
                      {
                        "passed_time": 3.82598345,
                        "iteration": 184,
                        "remaining_time": 16.85500817,
                        "learn": [
                          0.3829072633,
                          0.820198793
                        ]
                      },
                      {
                        "passed_time": 3.845650247,
                        "iteration": 185,
                        "remaining_time": 16.82988871,
                        "learn": [
                          0.3828643999,
                          0.8205537806
                        ]
                      },
                      {
                        "passed_time": 3.865786727,
                        "iteration": 186,
                        "remaining_time": 16.80686957,
                        "learn": [
                          0.3828073846,
                          0.8205537806
                        ]
                      },
                      {
                        "passed_time": 3.885447268,
                        "iteration": 187,
                        "remaining_time": 16.78182544,
                        "learn": [
                          0.3827592889,
                          0.8207312744
                        ]
                      },
                      {
                        "passed_time": 3.905905253,
                        "iteration": 188,
                        "remaining_time": 16.76026011,
                        "learn": [
                          0.3825391635,
                          0.8207312744
                        ]
                      },
                      {
                        "passed_time": 3.923873569,
                        "iteration": 189,
                        "remaining_time": 16.72809258,
                        "learn": [
                          0.3822374989,
                          0.8203762868
                        ]
                      },
                      {
                        "passed_time": 3.943282641,
                        "iteration": 190,
                        "remaining_time": 16.70217621,
                        "learn": [
                          0.3821177655,
                          0.8203762868
                        ]
                      },
                      {
                        "passed_time": 3.962920775,
                        "iteration": 191,
                        "remaining_time": 16.67729159,
                        "learn": [
                          0.3820378177,
                          0.8209087682
                        ]
                      },
                      {
                        "passed_time": 3.982084583,
                        "iteration": 192,
                        "remaining_time": 16.65047802,
                        "learn": [
                          0.3820274799,
                          0.8207312744
                        ]
                      },
                      {
                        "passed_time": 4.001783527,
                        "iteration": 193,
                        "remaining_time": 16.62596661,
                        "learn": [
                          0.3818295406,
                          0.821086262
                        ]
                      },
                      {
                        "passed_time": 4.033534131,
                        "iteration": 194,
                        "remaining_time": 16.65125629,
                        "learn": [
                          0.3817988264,
                          0.8214412496
                        ]
                      },
                      {
                        "passed_time": 4.060410067,
                        "iteration": 195,
                        "remaining_time": 16.65596783,
                        "learn": [
                          0.3816653684,
                          0.821086262
                        ]
                      },
                      {
                        "passed_time": 4.078937559,
                        "iteration": 196,
                        "remaining_time": 16.62632924,
                        "learn": [
                          0.3813393838,
                          0.8214412496
                        ]
                      },
                      {
                        "passed_time": 4.097442715,
                        "iteration": 197,
                        "remaining_time": 16.59671241,
                        "learn": [
                          0.3813219094,
                          0.8214412496
                        ]
                      },
                      {
                        "passed_time": 4.116845512,
                        "iteration": 198,
                        "remaining_time": 16.57082038,
                        "learn": [
                          0.3811935718,
                          0.8212637558
                        ]
                      },
                      {
                        "passed_time": 4.135519919,
                        "iteration": 199,
                        "remaining_time": 16.54207967,
                        "learn": [
                          0.3810333853,
                          0.8212637558
                        ]
                      },
                      {
                        "passed_time": 4.15402125,
                        "iteration": 200,
                        "remaining_time": 16.51275114,
                        "learn": [
                          0.3809440745,
                          0.8216187433
                        ]
                      },
                      {
                        "passed_time": 4.170491827,
                        "iteration": 201,
                        "remaining_time": 16.47550732,
                        "learn": [
                          0.3808545995,
                          0.8212637558
                        ]
                      },
                      {
                        "passed_time": 4.189109492,
                        "iteration": 202,
                        "remaining_time": 16.44689786,
                        "learn": [
                          0.3807341045,
                          0.8212637558
                        ]
                      },
                      {
                        "passed_time": 4.210131428,
                        "iteration": 203,
                        "remaining_time": 16.42776773,
                        "learn": [
                          0.3806725277,
                          0.8216187433
                        ]
                      },
                      {
                        "passed_time": 4.221084013,
                        "iteration": 204,
                        "remaining_time": 16.36956971,
                        "learn": [
                          0.3806485152,
                          0.8214412496
                        ]
                      },
                      {
                        "passed_time": 4.24011355,
                        "iteration": 205,
                        "remaining_time": 16.34296193,
                        "learn": [
                          0.3805618021,
                          0.8214412496
                        ]
                      },
                      {
                        "passed_time": 4.260293264,
                        "iteration": 206,
                        "remaining_time": 16.32083362,
                        "learn": [
                          0.3803545165,
                          0.8214412496
                        ]
                      },
                      {
                        "passed_time": 4.265849222,
                        "iteration": 207,
                        "remaining_time": 16.24304127,
                        "learn": [
                          0.3803517781,
                          0.8214412496
                        ]
                      },
                      {
                        "passed_time": 4.2869461,
                        "iteration": 208,
                        "remaining_time": 16.22475773,
                        "learn": [
                          0.380216722,
                          0.8219737309
                        ]
                      },
                      {
                        "passed_time": 4.307338417,
                        "iteration": 209,
                        "remaining_time": 16.2037969,
                        "learn": [
                          0.3801189529,
                          0.8221512247
                        ]
                      },
                      {
                        "passed_time": 4.327373367,
                        "iteration": 210,
                        "remaining_time": 16.18150515,
                        "learn": [
                          0.3800195404,
                          0.8217962371
                        ]
                      },
                      {
                        "passed_time": 4.332567466,
                        "iteration": 211,
                        "remaining_time": 16.10407153,
                        "learn": [
                          0.380018561,
                          0.8217962371
                        ]
                      },
                      {
                        "passed_time": 4.354839997,
                        "iteration": 212,
                        "remaining_time": 16.0904182,
                        "learn": [
                          0.3798302255,
                          0.8217962371
                        ]
                      },
                      {
                        "passed_time": 4.375375831,
                        "iteration": 213,
                        "remaining_time": 16.07030562,
                        "learn": [
                          0.3797945659,
                          0.8217962371
                        ]
                      },
                      {
                        "passed_time": 4.394930442,
                        "iteration": 214,
                        "remaining_time": 16.0466065,
                        "learn": [
                          0.379684719,
                          0.8223287185
                        ]
                      },
                      {
                        "passed_time": 4.415556244,
                        "iteration": 215,
                        "remaining_time": 16.02683377,
                        "learn": [
                          0.3795797874,
                          0.8221512247
                        ]
                      },
                      {
                        "passed_time": 4.439634855,
                        "iteration": 216,
                        "remaining_time": 16.01951194,
                        "learn": [
                          0.3793235494,
                          0.8223287185
                        ]
                      },
                      {
                        "passed_time": 4.461329864,
                        "iteration": 217,
                        "remaining_time": 16.00348602,
                        "learn": [
                          0.3792385606,
                          0.8225062123
                        ]
                      },
                      {
                        "passed_time": 4.483270189,
                        "iteration": 218,
                        "remaining_time": 15.98828319,
                        "learn": [
                          0.3789926259,
                          0.8226837061
                        ]
                      },
                      {
                        "passed_time": 4.503916407,
                        "iteration": 219,
                        "remaining_time": 15.9684309,
                        "learn": [
                          0.3789338911,
                          0.8228611999
                        ]
                      },
                      {
                        "passed_time": 4.523727252,
                        "iteration": 220,
                        "remaining_time": 15.94562683,
                        "learn": [
                          0.3788601962,
                          0.8226837061
                        ]
                      },
                      {
                        "passed_time": 4.545818737,
                        "iteration": 221,
                        "remaining_time": 15.93084224,
                        "learn": [
                          0.378706461,
                          0.8228611999
                        ]
                      },
                      {
                        "passed_time": 4.577020206,
                        "iteration": 222,
                        "remaining_time": 15.94773408,
                        "learn": [
                          0.3785892178,
                          0.8226837061
                        ]
                      },
                      {
                        "passed_time": 4.598913112,
                        "iteration": 223,
                        "remaining_time": 15.931949,
                        "learn": [
                          0.3785588609,
                          0.8225062123
                        ]
                      },
                      {
                        "passed_time": 4.618856916,
                        "iteration": 224,
                        "remaining_time": 15.90939604,
                        "learn": [
                          0.3783997535,
                          0.8228611999
                        ]
                      },
                      {
                        "passed_time": 4.6378071,
                        "iteration": 225,
                        "remaining_time": 15.88346326,
                        "learn": [
                          0.3782076007,
                          0.8230386936
                        ]
                      },
                      {
                        "passed_time": 4.642378098,
                        "iteration": 226,
                        "remaining_time": 15.80862674,
                        "learn": [
                          0.3781939031,
                          0.8228611999
                        ]
                      },
                      {
                        "passed_time": 4.662521715,
                        "iteration": 227,
                        "remaining_time": 15.78713493,
                        "learn": [
                          0.37807871,
                          0.8223287185
                        ]
                      },
                      {
                        "passed_time": 4.667284283,
                        "iteration": 228,
                        "remaining_time": 15.71386979,
                        "learn": [
                          0.3780694349,
                          0.8223287185
                        ]
                      },
                      {
                        "passed_time": 4.6874334,
                        "iteration": 229,
                        "remaining_time": 15.69271182,
                        "learn": [
                          0.378021241,
                          0.8223287185
                        ]
                      },
                      {
                        "passed_time": 4.696569946,
                        "iteration": 230,
                        "remaining_time": 15.63490168,
                        "learn": [
                          0.3780059028,
                          0.8223287185
                        ]
                      },
                      {
                        "passed_time": 4.716354256,
                        "iteration": 231,
                        "remaining_time": 15.61275892,
                        "learn": [
                          0.3778863249,
                          0.8226837061
                        ]
                      },
                      {
                        "passed_time": 4.739019056,
                        "iteration": 232,
                        "remaining_time": 15.60011852,
                        "learn": [
                          0.3777917477,
                          0.8230386936
                        ]
                      },
                      {
                        "passed_time": 4.760356604,
                        "iteration": 233,
                        "remaining_time": 15.58304769,
                        "learn": [
                          0.3777562097,
                          0.8230386936
                        ]
                      },
                      {
                        "passed_time": 4.780891684,
                        "iteration": 234,
                        "remaining_time": 15.56332825,
                        "learn": [
                          0.3776384313,
                          0.8228611999
                        ]
                      },
                      {
                        "passed_time": 4.800304622,
                        "iteration": 235,
                        "remaining_time": 15.5399692,
                        "learn": [
                          0.3774250951,
                          0.8239261626
                        ]
                      },
                      {
                        "passed_time": 4.82216778,
                        "iteration": 236,
                        "remaining_time": 15.52453171,
                        "learn": [
                          0.3771493444,
                          0.8237486688
                        ]
                      },
                      {
                        "passed_time": 4.840292743,
                        "iteration": 237,
                        "remaining_time": 15.49707172,
                        "learn": [
                          0.3770404631,
                          0.823571175
                        ]
                      },
                      {
                        "passed_time": 4.860612801,
                        "iteration": 238,
                        "remaining_time": 15.47667925,
                        "learn": [
                          0.3769669068,
                          0.8233936812
                        ]
                      },
                      {
                        "passed_time": 4.885540875,
                        "iteration": 239,
                        "remaining_time": 15.47087944,
                        "learn": [
                          0.3768507808,
                          0.8233936812
                        ]
                      },
                      {
                        "passed_time": 4.905693526,
                        "iteration": 240,
                        "remaining_time": 15.44988127,
                        "learn": [
                          0.3767834866,
                          0.823571175
                        ]
                      },
                      {
                        "passed_time": 4.925656815,
                        "iteration": 241,
                        "remaining_time": 15.42829696,
                        "learn": [
                          0.3767281212,
                          0.8233936812
                        ]
                      },
                      {
                        "passed_time": 4.929042971,
                        "iteration": 242,
                        "remaining_time": 15.35508448,
                        "learn": [
                          0.3767281031,
                          0.8233936812
                        ]
                      },
                      {
                        "passed_time": 4.950405367,
                        "iteration": 243,
                        "remaining_time": 15.33814122,
                        "learn": [
                          0.3765171028,
                          0.8244586439
                        ]
                      },
                      {
                        "passed_time": 4.964909777,
                        "iteration": 244,
                        "remaining_time": 15.30002809,
                        "learn": [
                          0.3764713597,
                          0.8244586439
                        ]
                      },
                      {
                        "passed_time": 4.985851381,
                        "iteration": 245,
                        "remaining_time": 15.28183716,
                        "learn": [
                          0.376370259,
                          0.8246361377
                        ]
                      },
                      {
                        "passed_time": 5.008564848,
                        "iteration": 246,
                        "remaining_time": 15.26902563,
                        "learn": [
                          0.3763474,
                          0.8244586439
                        ]
                      },
                      {
                        "passed_time": 5.026404807,
                        "iteration": 247,
                        "remaining_time": 15.24135651,
                        "learn": [
                          0.3762689979,
                          0.8248136315
                        ]
                      },
                      {
                        "passed_time": 5.077714514,
                        "iteration": 248,
                        "remaining_time": 15.31471325,
                        "learn": [
                          0.3761917005,
                          0.8248136315
                        ]
                      },
                      {
                        "passed_time": 5.09877472,
                        "iteration": 249,
                        "remaining_time": 15.29632416,
                        "learn": [
                          0.3760857362,
                          0.8251686191
                        ]
                      },
                      {
                        "passed_time": 5.120407173,
                        "iteration": 250,
                        "remaining_time": 15.27962141,
                        "learn": [
                          0.3759494454,
                          0.8251686191
                        ]
                      },
                      {
                        "passed_time": 5.139033877,
                        "iteration": 251,
                        "remaining_time": 15.2539577,
                        "learn": [
                          0.3758433726,
                          0.8246361377
                        ]
                      },
                      {
                        "passed_time": 5.159060524,
                        "iteration": 252,
                        "remaining_time": 15.23248305,
                        "learn": [
                          0.375775355,
                          0.8251686191
                        ]
                      },
                      {
                        "passed_time": 5.184952899,
                        "iteration": 253,
                        "remaining_time": 15.22824749,
                        "learn": [
                          0.3756044466,
                          0.8253461129
                        ]
                      },
                      {
                        "passed_time": 5.206200866,
                        "iteration": 254,
                        "remaining_time": 15.21027312,
                        "learn": [
                          0.3755323398,
                          0.8253461129
                        ]
                      },
                      {
                        "passed_time": 5.231177779,
                        "iteration": 255,
                        "remaining_time": 15.20311042,
                        "learn": [
                          0.3753788572,
                          0.8244586439
                        ]
                      },
                      {
                        "passed_time": 5.238381933,
                        "iteration": 256,
                        "remaining_time": 15.14442715,
                        "learn": [
                          0.375378288,
                          0.8244586439
                        ]
                      },
                      {
                        "passed_time": 5.2442683,
                        "iteration": 257,
                        "remaining_time": 15.08235302,
                        "learn": [
                          0.375377362,
                          0.8244586439
                        ]
                      },
                      {
                        "passed_time": 5.265175781,
                        "iteration": 258,
                        "remaining_time": 15.06368824,
                        "learn": [
                          0.3753049991,
                          0.8244586439
                        ]
                      },
                      {
                        "passed_time": 5.286271569,
                        "iteration": 259,
                        "remaining_time": 15.04554216,
                        "learn": [
                          0.375086922,
                          0.8242811502
                        ]
                      },
                      {
                        "passed_time": 5.307076518,
                        "iteration": 260,
                        "remaining_time": 15.02654999,
                        "learn": [
                          0.3749329561,
                          0.8242811502
                        ]
                      },
                      {
                        "passed_time": 5.323930255,
                        "iteration": 261,
                        "remaining_time": 14.99641423,
                        "learn": [
                          0.3748095869,
                          0.8244586439
                        ]
                      },
                      {
                        "passed_time": 5.344257526,
                        "iteration": 262,
                        "remaining_time": 14.9761133,
                        "learn": [
                          0.3747297347,
                          0.8244586439
                        ]
                      },
                      {
                        "passed_time": 5.353930797,
                        "iteration": 263,
                        "remaining_time": 14.9261101,
                        "learn": [
                          0.3747279172,
                          0.8244586439
                        ]
                      },
                      {
                        "passed_time": 5.375572541,
                        "iteration": 264,
                        "remaining_time": 14.90960686,
                        "learn": [
                          0.3744522013,
                          0.8244586439
                        ]
                      },
                      {
                        "passed_time": 5.3962609,
                        "iteration": 265,
                        "remaining_time": 14.89043421,
                        "learn": [
                          0.3743149163,
                          0.8248136315
                        ]
                      },
                      {
                        "passed_time": 5.41524169,
                        "iteration": 266,
                        "remaining_time": 14.86656239,
                        "learn": [
                          0.3742638533,
                          0.8253461129
                        ]
                      },
                      {
                        "passed_time": 5.435978983,
                        "iteration": 267,
                        "remaining_time": 14.84752468,
                        "learn": [
                          0.3741680908,
                          0.8251686191
                        ]
                      },
                      {
                        "passed_time": 5.457252168,
                        "iteration": 268,
                        "remaining_time": 14.82993061,
                        "learn": [
                          0.3741118738,
                          0.8251686191
                        ]
                      },
                      {
                        "passed_time": 5.482404091,
                        "iteration": 269,
                        "remaining_time": 14.82279625,
                        "learn": [
                          0.3739835858,
                          0.8249911253
                        ]
                      },
                      {
                        "passed_time": 5.501837238,
                        "iteration": 270,
                        "remaining_time": 14.80014519,
                        "learn": [
                          0.3737352041,
                          0.8249911253
                        ]
                      },
                      {
                        "passed_time": 5.523462555,
                        "iteration": 271,
                        "remaining_time": 14.78338507,
                        "learn": [
                          0.3736714694,
                          0.8249911253
                        ]
                      },
                      {
                        "passed_time": 5.54430295,
                        "iteration": 272,
                        "remaining_time": 14.76449906,
                        "learn": [
                          0.3735949001,
                          0.8251686191
                        ]
                      },
                      {
                        "passed_time": 5.563700255,
                        "iteration": 273,
                        "remaining_time": 14.74177513,
                        "learn": [
                          0.3735479834,
                          0.8251686191
                        ]
                      },
                      {
                        "passed_time": 5.590150241,
                        "iteration": 274,
                        "remaining_time": 14.73766882,
                        "learn": [
                          0.3734855163,
                          0.8249911253
                        ]
                      },
                      {
                        "passed_time": 5.595732793,
                        "iteration": 275,
                        "remaining_time": 14.67866138,
                        "learn": [
                          0.3734750325,
                          0.8249911253
                        ]
                      },
                      {
                        "passed_time": 5.617151646,
                        "iteration": 276,
                        "remaining_time": 14.66137415,
                        "learn": [
                          0.3732584163,
                          0.8251686191
                        ]
                      },
                      {
                        "passed_time": 5.628903549,
                        "iteration": 277,
                        "remaining_time": 14.61895094,
                        "learn": [
                          0.3732263383,
                          0.8251686191
                        ]
                      },
                      {
                        "passed_time": 5.652537023,
                        "iteration": 278,
                        "remaining_time": 14.60745231,
                        "learn": [
                          0.3732198624,
                          0.8251686191
                        ]
                      },
                      {
                        "passed_time": 5.672836722,
                        "iteration": 279,
                        "remaining_time": 14.58729443,
                        "learn": [
                          0.3731484829,
                          0.8253461129
                        ]
                      },
                      {
                        "passed_time": 5.692839335,
                        "iteration": 280,
                        "remaining_time": 14.56637538,
                        "learn": [
                          0.37299632,
                          0.8251686191
                        ]
                      },
                      {
                        "passed_time": 5.713732089,
                        "iteration": 281,
                        "remaining_time": 14.54772922,
                        "learn": [
                          0.3728157974,
                          0.8257011005
                        ]
                      },
                      {
                        "passed_time": 5.734657843,
                        "iteration": 282,
                        "remaining_time": 14.52915079,
                        "learn": [
                          0.3727399198,
                          0.8257011005
                        ]
                      },
                      {
                        "passed_time": 5.756599756,
                        "iteration": 283,
                        "remaining_time": 14.51311769,
                        "learn": [
                          0.3725199844,
                          0.8257011005
                        ]
                      },
                      {
                        "passed_time": 5.776094415,
                        "iteration": 284,
                        "remaining_time": 14.49090353,
                        "learn": [
                          0.3724818505,
                          0.8257011005
                        ]
                      },
                      {
                        "passed_time": 5.797507428,
                        "iteration": 285,
                        "remaining_time": 14.47349757,
                        "learn": [
                          0.3722575471,
                          0.8264110756
                        ]
                      },
                      {
                        "passed_time": 5.817695702,
                        "iteration": 286,
                        "remaining_time": 14.45302103,
                        "learn": [
                          0.3721448994,
                          0.8264110756
                        ]
                      },
                      {
                        "passed_time": 5.838147819,
                        "iteration": 287,
                        "remaining_time": 14.43319878,
                        "learn": [
                          0.372021315,
                          0.8264110756
                        ]
                      },
                      {
                        "passed_time": 5.857594839,
                        "iteration": 288,
                        "remaining_time": 14.41089941,
                        "learn": [
                          0.3718992858,
                          0.8265885694
                        ]
                      },
                      {
                        "passed_time": 5.877664227,
                        "iteration": 289,
                        "remaining_time": 14.39014345,
                        "learn": [
                          0.3716147965,
                          0.8264110756
                        ]
                      },
                      {
                        "passed_time": 5.895192069,
                        "iteration": 290,
                        "remaining_time": 14.36319992,
                        "learn": [
                          0.3715717404,
                          0.8262335818
                        ]
                      },
                      {
                        "passed_time": 5.918371371,
                        "iteration": 291,
                        "remaining_time": 14.35002373,
                        "learn": [
                          0.3714545788,
                          0.8262335818
                        ]
                      },
                      {
                        "passed_time": 5.927550891,
                        "iteration": 292,
                        "remaining_time": 14.30299822,
                        "learn": [
                          0.3713855207,
                          0.8262335818
                        ]
                      },
                      {
                        "passed_time": 5.94767825,
                        "iteration": 293,
                        "remaining_time": 14.28251988,
                        "learn": [
                          0.3712658792,
                          0.8262335818
                        ]
                      },
                      {
                        "passed_time": 5.966595456,
                        "iteration": 294,
                        "remaining_time": 14.25915185,
                        "learn": [
                          0.3711569668,
                          0.8265885694
                        ]
                      },
                      {
                        "passed_time": 5.986414078,
                        "iteration": 295,
                        "remaining_time": 14.23795781,
                        "learn": [
                          0.3710881637,
                          0.8264110756
                        ]
                      },
                      {
                        "passed_time": 6.009095122,
                        "iteration": 296,
                        "remaining_time": 14.22354839,
                        "learn": [
                          0.3710499502,
                          0.8264110756
                        ]
                      },
                      {
                        "passed_time": 6.031796886,
                        "iteration": 297,
                        "remaining_time": 14.20913226,
                        "learn": [
                          0.3708203367,
                          0.8262335818
                        ]
                      },
                      {
                        "passed_time": 6.063463266,
                        "iteration": 298,
                        "remaining_time": 14.21567809,
                        "learn": [
                          0.370728163,
                          0.826943557
                        ]
                      },
                      {
                        "passed_time": 6.111330901,
                        "iteration": 299,
                        "remaining_time": 14.2597721,
                        "learn": [
                          0.3706988227,
                          0.8267660632
                        ]
                      },
                      {
                        "passed_time": 6.136237515,
                        "iteration": 300,
                        "remaining_time": 14.24993363,
                        "learn": [
                          0.3704355624,
                          0.8272985446
                        ]
                      },
                      {
                        "passed_time": 6.158333385,
                        "iteration": 301,
                        "remaining_time": 14.23349902,
                        "learn": [
                          0.3702983447,
                          0.826943557
                        ]
                      },
                      {
                        "passed_time": 6.178050157,
                        "iteration": 302,
                        "remaining_time": 14.21155432,
                        "learn": [
                          0.3701716877,
                          0.8271210508
                        ]
                      },
                      {
                        "passed_time": 6.200447527,
                        "iteration": 303,
                        "remaining_time": 14.19576144,
                        "learn": [
                          0.3700752801,
                          0.8271210508
                        ]
                      },
                      {
                        "passed_time": 6.219976442,
                        "iteration": 304,
                        "remaining_time": 14.17338894,
                        "learn": [
                          0.3698957861,
                          0.8281860135
                        ]
                      },
                      {
                        "passed_time": 6.242843278,
                        "iteration": 305,
                        "remaining_time": 14.15860534,
                        "learn": [
                          0.3697914793,
                          0.8281860135
                        ]
                      },
                      {
                        "passed_time": 6.271238029,
                        "iteration": 306,
                        "remaining_time": 14.15624741,
                        "learn": [
                          0.3697546864,
                          0.8280085197
                        ]
                      },
                      {
                        "passed_time": 6.293260698,
                        "iteration": 307,
                        "remaining_time": 14.13940391,
                        "learn": [
                          0.3696582169,
                          0.8281860135
                        ]
                      },
                      {
                        "passed_time": 6.313089355,
                        "iteration": 308,
                        "remaining_time": 14.11762053,
                        "learn": [
                          0.3696177778,
                          0.8278310259
                        ]
                      },
                      {
                        "passed_time": 6.334760976,
                        "iteration": 309,
                        "remaining_time": 14.09995185,
                        "learn": [
                          0.3696044321,
                          0.8278310259
                        ]
                      },
                      {
                        "passed_time": 6.357238965,
                        "iteration": 310,
                        "remaining_time": 14.08404388,
                        "learn": [
                          0.3695158435,
                          0.8276535321
                        ]
                      },
                      {
                        "passed_time": 6.378933594,
                        "iteration": 311,
                        "remaining_time": 14.06636639,
                        "learn": [
                          0.3693890762,
                          0.8276535321
                        ]
                      },
                      {
                        "passed_time": 6.400011651,
                        "iteration": 312,
                        "remaining_time": 14.04730992,
                        "learn": [
                          0.3690854883,
                          0.8281860135
                        ]
                      },
                      {
                        "passed_time": 6.418549236,
                        "iteration": 313,
                        "remaining_time": 14.02269037,
                        "learn": [
                          0.3690030654,
                          0.8283635073
                        ]
                      },
                      {
                        "passed_time": 6.439186775,
                        "iteration": 314,
                        "remaining_time": 14.002676,
                        "learn": [
                          0.3688855574,
                          0.8283635073
                        ]
                      },
                      {
                        "passed_time": 6.458606393,
                        "iteration": 315,
                        "remaining_time": 13.98002143,
                        "learn": [
                          0.368784999,
                          0.8281860135
                        ]
                      },
                      {
                        "passed_time": 6.475741858,
                        "iteration": 316,
                        "remaining_time": 13.9524659,
                        "learn": [
                          0.3686744089,
                          0.8281860135
                        ]
                      },
                      {
                        "passed_time": 6.496037952,
                        "iteration": 317,
                        "remaining_time": 13.93175435,
                        "learn": [
                          0.3685727345,
                          0.8281860135
                        ]
                      },
                      {
                        "passed_time": 6.519316163,
                        "iteration": 318,
                        "remaining_time": 13.91741162,
                        "learn": [
                          0.3685051637,
                          0.8280085197
                        ]
                      },
                      {
                        "passed_time": 6.543442269,
                        "iteration": 319,
                        "remaining_time": 13.90481482,
                        "learn": [
                          0.3682971801,
                          0.8287184949
                        ]
                      },
                      {
                        "passed_time": 6.568595191,
                        "iteration": 320,
                        "remaining_time": 13.89431818,
                        "learn": [
                          0.3681980405,
                          0.8288959886
                        ]
                      },
                      {
                        "passed_time": 6.599053746,
                        "iteration": 321,
                        "remaining_time": 13.89490199,
                        "learn": [
                          0.3681561945,
                          0.8292509762
                        ]
                      },
                      {
                        "passed_time": 6.627433561,
                        "iteration": 322,
                        "remaining_time": 13.8909366,
                        "learn": [
                          0.3680789444,
                          0.82942847
                        ]
                      },
                      {
                        "passed_time": 6.648489762,
                        "iteration": 323,
                        "remaining_time": 13.87154037,
                        "learn": [
                          0.3679285123,
                          0.82942847
                        ]
                      },
                      {
                        "passed_time": 6.671985028,
                        "iteration": 324,
                        "remaining_time": 13.85719967,
                        "learn": [
                          0.3678189072,
                          0.82942847
                        ]
                      },
                      {
                        "passed_time": 6.692511209,
                        "iteration": 325,
                        "remaining_time": 13.83666428,
                        "learn": [
                          0.3675303666,
                          0.8296059638
                        ]
                      },
                      {
                        "passed_time": 6.718110309,
                        "iteration": 326,
                        "remaining_time": 13.82656954,
                        "learn": [
                          0.367338445,
                          0.8292509762
                        ]
                      },
                      {
                        "passed_time": 6.739675964,
                        "iteration": 327,
                        "remaining_time": 13.80811661,
                        "learn": [
                          0.3672852494,
                          0.8290734824
                        ]
                      },
                      {
                        "passed_time": 6.760001067,
                        "iteration": 328,
                        "remaining_time": 13.78711464,
                        "learn": [
                          0.3670093011,
                          0.8297834576
                        ]
                      },
                      {
                        "passed_time": 6.780037946,
                        "iteration": 329,
                        "remaining_time": 13.76553159,
                        "learn": [
                          0.3667720214,
                          0.8301384452
                        ]
                      },
                      {
                        "passed_time": 6.798782818,
                        "iteration": 330,
                        "remaining_time": 13.74134654,
                        "learn": [
                          0.3667547188,
                          0.8301384452
                        ]
                      },
                      {
                        "passed_time": 6.819838726,
                        "iteration": 331,
                        "remaining_time": 13.72184418,
                        "learn": [
                          0.3666255914,
                          0.8303159389
                        ]
                      },
                      {
                        "passed_time": 6.842263724,
                        "iteration": 332,
                        "remaining_time": 13.70507479,
                        "learn": [
                          0.3665432794,
                          0.8299609514
                        ]
                      },
                      {
                        "passed_time": 6.864004537,
                        "iteration": 333,
                        "remaining_time": 13.68690725,
                        "learn": [
                          0.3664628809,
                          0.8301384452
                        ]
                      },
                      {
                        "passed_time": 6.881980639,
                        "iteration": 334,
                        "remaining_time": 13.66124515,
                        "learn": [
                          0.3663591077,
                          0.8303159389
                        ]
                      },
                      {
                        "passed_time": 6.901972099,
                        "iteration": 335,
                        "remaining_time": 13.63961153,
                        "learn": [
                          0.365998533,
                          0.8299609514
                        ]
                      },
                      {
                        "passed_time": 6.925200979,
                        "iteration": 336,
                        "remaining_time": 13.62435682,
                        "learn": [
                          0.3657492327,
                          0.8304934327
                        ]
                      },
                      {
                        "passed_time": 6.948273108,
                        "iteration": 337,
                        "remaining_time": 13.60874792,
                        "learn": [
                          0.3656599458,
                          0.8306709265
                        ]
                      },
                      {
                        "passed_time": 6.968036582,
                        "iteration": 338,
                        "remaining_time": 13.5866436,
                        "learn": [
                          0.3655607026,
                          0.8308484203
                        ]
                      },
                      {
                        "passed_time": 6.989109845,
                        "iteration": 339,
                        "remaining_time": 13.56709558,
                        "learn": [
                          0.3654955215,
                          0.8308484203
                        ]
                      },
                      {
                        "passed_time": 7.010121979,
                        "iteration": 340,
                        "remaining_time": 13.54742048,
                        "learn": [
                          0.3653877625,
                          0.8308484203
                        ]
                      },
                      {
                        "passed_time": 7.029839627,
                        "iteration": 341,
                        "remaining_time": 13.525247,
                        "learn": [
                          0.3653134447,
                          0.8308484203
                        ]
                      },
                      {
                        "passed_time": 7.049973187,
                        "iteration": 342,
                        "remaining_time": 13.5038845,
                        "learn": [
                          0.364975151,
                          0.8308484203
                        ]
                      },
                      {
                        "passed_time": 7.08241894,
                        "iteration": 343,
                        "remaining_time": 13.50600821,
                        "learn": [
                          0.3648702919,
                          0.8308484203
                        ]
                      },
                      {
                        "passed_time": 7.124652933,
                        "iteration": 344,
                        "remaining_time": 13.52651499,
                        "learn": [
                          0.3647622873,
                          0.8315583955
                        ]
                      },
                      {
                        "passed_time": 7.144752551,
                        "iteration": 345,
                        "remaining_time": 13.5048213,
                        "learn": [
                          0.3646867365,
                          0.8315583955
                        ]
                      },
                      {
                        "passed_time": 7.16428423,
                        "iteration": 346,
                        "remaining_time": 13.48206802,
                        "learn": [
                          0.3644934231,
                          0.8324458644
                        ]
                      },
                      {
                        "passed_time": 7.184974107,
                        "iteration": 347,
                        "remaining_time": 13.46150321,
                        "learn": [
                          0.3643663037,
                          0.8322683706
                        ]
                      },
                      {
                        "passed_time": 7.203549773,
                        "iteration": 348,
                        "remaining_time": 13.43699399,
                        "learn": [
                          0.3643252357,
                          0.8320908768
                        ]
                      },
                      {
                        "passed_time": 7.221173858,
                        "iteration": 349,
                        "remaining_time": 13.41075145,
                        "learn": [
                          0.3642856351,
                          0.8320908768
                        ]
                      },
                      {
                        "passed_time": 7.240858976,
                        "iteration": 350,
                        "remaining_time": 13.38836888,
                        "learn": [
                          0.3641712642,
                          0.8320908768
                        ]
                      },
                      {
                        "passed_time": 7.26011879,
                        "iteration": 351,
                        "remaining_time": 13.36521868,
                        "learn": [
                          0.364159741,
                          0.8324458644
                        ]
                      },
                      {
                        "passed_time": 7.284682684,
                        "iteration": 352,
                        "remaining_time": 13.35181217,
                        "learn": [
                          0.363938237,
                          0.8324458644
                        ]
                      },
                      {
                        "passed_time": 7.304687646,
                        "iteration": 353,
                        "remaining_time": 13.33002322,
                        "learn": [
                          0.3636759471,
                          0.8326233582
                        ]
                      },
                      {
                        "passed_time": 7.324157754,
                        "iteration": 354,
                        "remaining_time": 13.30727254,
                        "learn": [
                          0.3635795048,
                          0.8320908768
                        ]
                      },
                      {
                        "passed_time": 7.34278991,
                        "iteration": 355,
                        "remaining_time": 13.28302444,
                        "learn": [
                          0.363523823,
                          0.8320908768
                        ]
                      },
                      {
                        "passed_time": 7.361464887,
                        "iteration": 356,
                        "remaining_time": 13.25888494,
                        "learn": [
                          0.3634698609,
                          0.8326233582
                        ]
                      },
                      {
                        "passed_time": 7.382435923,
                        "iteration": 357,
                        "remaining_time": 13.23889347,
                        "learn": [
                          0.363422933,
                          0.8322683706
                        ]
                      },
                      {
                        "passed_time": 7.402100649,
                        "iteration": 358,
                        "remaining_time": 13.21656411,
                        "learn": [
                          0.36335905,
                          0.832800852
                        ]
                      },
                      {
                        "passed_time": 7.419362261,
                        "iteration": 359,
                        "remaining_time": 13.18997735,
                        "learn": [
                          0.3633449242,
                          0.832800852
                        ]
                      },
                      {
                        "passed_time": 7.440894112,
                        "iteration": 360,
                        "remaining_time": 13.17100093,
                        "learn": [
                          0.3632407295,
                          0.8331558395
                        ]
                      },
                      {
                        "passed_time": 7.460454974,
                        "iteration": 361,
                        "remaining_time": 13.14853667,
                        "learn": [
                          0.3631440578,
                          0.8335108271
                        ]
                      },
                      {
                        "passed_time": 7.478970068,
                        "iteration": 362,
                        "remaining_time": 13.12425326,
                        "learn": [
                          0.3629782848,
                          0.8336883209
                        ]
                      },
                      {
                        "passed_time": 7.499404697,
                        "iteration": 363,
                        "remaining_time": 13.10335546,
                        "learn": [
                          0.3628838155,
                          0.8336883209
                        ]
                      },
                      {
                        "passed_time": 7.518360908,
                        "iteration": 364,
                        "remaining_time": 13.07988816,
                        "learn": [
                          0.3628026017,
                          0.8338658147
                        ]
                      },
                      {
                        "passed_time": 7.539644733,
                        "iteration": 365,
                        "remaining_time": 13.06047749,
                        "learn": [
                          0.3627386357,
                          0.8338658147
                        ]
                      },
                      {
                        "passed_time": 7.560702872,
                        "iteration": 366,
                        "remaining_time": 13.04066735,
                        "learn": [
                          0.3626419301,
                          0.8342208023
                        ]
                      },
                      {
                        "passed_time": 7.580871148,
                        "iteration": 367,
                        "remaining_time": 13.01932219,
                        "learn": [
                          0.3624983206,
                          0.8342208023
                        ]
                      },
                      {
                        "passed_time": 7.61008814,
                        "iteration": 368,
                        "remaining_time": 13.01345695,
                        "learn": [
                          0.362384209,
                          0.8343982961
                        ]
                      },
                      {
                        "passed_time": 7.631041515,
                        "iteration": 369,
                        "remaining_time": 12.99339501,
                        "learn": [
                          0.3623378365,
                          0.8342208023
                        ]
                      },
                      {
                        "passed_time": 7.648935305,
                        "iteration": 370,
                        "remaining_time": 12.96814099,
                        "learn": [
                          0.3622660474,
                          0.8343982961
                        ]
                      },
                      {
                        "passed_time": 7.670232453,
                        "iteration": 371,
                        "remaining_time": 12.94867199,
                        "learn": [
                          0.3621613872,
                          0.8345757898
                        ]
                      },
                      {
                        "passed_time": 7.690424768,
                        "iteration": 372,
                        "remaining_time": 12.927336,
                        "learn": [
                          0.3618849419,
                          0.8340433085
                        ]
                      },
                      {
                        "passed_time": 7.709036172,
                        "iteration": 373,
                        "remaining_time": 12.90336001,
                        "learn": [
                          0.3618756565,
                          0.8338658147
                        ]
                      },
                      {
                        "passed_time": 7.729163669,
                        "iteration": 374,
                        "remaining_time": 12.88193945,
                        "learn": [
                          0.3616006944,
                          0.8336883209
                        ]
                      },
                      {
                        "passed_time": 7.750226244,
                        "iteration": 375,
                        "remaining_time": 12.8620776,
                        "learn": [
                          0.3614948132,
                          0.8336883209
                        ]
                      },
                      {
                        "passed_time": 7.770266752,
                        "iteration": 376,
                        "remaining_time": 12.84052039,
                        "learn": [
                          0.3614023281,
                          0.8336883209
                        ]
                      },
                      {
                        "passed_time": 7.791435913,
                        "iteration": 377,
                        "remaining_time": 12.82082841,
                        "learn": [
                          0.3613418131,
                          0.8335108271
                        ]
                      },
                      {
                        "passed_time": 7.810857942,
                        "iteration": 378,
                        "remaining_time": 12.79826592,
                        "learn": [
                          0.3612913335,
                          0.8335108271
                        ]
                      },
                      {
                        "passed_time": 7.830765488,
                        "iteration": 379,
                        "remaining_time": 12.77651211,
                        "learn": [
                          0.3611984899,
                          0.8343982961
                        ]
                      },
                      {
                        "passed_time": 7.85216705,
                        "iteration": 380,
                        "remaining_time": 12.75719529,
                        "learn": [
                          0.361124459,
                          0.8343982961
                        ]
                      },
                      {
                        "passed_time": 7.873024651,
                        "iteration": 381,
                        "remaining_time": 12.73698752,
                        "learn": [
                          0.3610289339,
                          0.8343982961
                        ]
                      },
                      {
                        "passed_time": 7.893435466,
                        "iteration": 382,
                        "remaining_time": 12.71605661,
                        "learn": [
                          0.3609517406,
                          0.8345757898
                        ]
                      },
                      {
                        "passed_time": 7.914908561,
                        "iteration": 383,
                        "remaining_time": 12.69683248,
                        "learn": [
                          0.3608629989,
                          0.8345757898
                        ]
                      },
                      {
                        "passed_time": 7.935167142,
                        "iteration": 384,
                        "remaining_time": 12.6756566,
                        "learn": [
                          0.3606932988,
                          0.8347532836
                        ]
                      },
                      {
                        "passed_time": 7.954267099,
                        "iteration": 385,
                        "remaining_time": 12.65264248,
                        "learn": [
                          0.3606074199,
                          0.8347532836
                        ]
                      },
                      {
                        "passed_time": 7.973915393,
                        "iteration": 386,
                        "remaining_time": 12.63051715,
                        "learn": [
                          0.3605555367,
                          0.8347532836
                        ]
                      },
                      {
                        "passed_time": 7.995769426,
                        "iteration": 387,
                        "remaining_time": 12.61188373,
                        "learn": [
                          0.3605032154,
                          0.8347532836
                        ]
                      },
                      {
                        "passed_time": 8.015297011,
                        "iteration": 388,
                        "remaining_time": 12.58957962,
                        "learn": [
                          0.3604132047,
                          0.8351082712
                        ]
                      },
                      {
                        "passed_time": 8.035379818,
                        "iteration": 389,
                        "remaining_time": 12.56815818,
                        "learn": [
                          0.3603831982,
                          0.8349307774
                        ]
                      },
                      {
                        "passed_time": 8.054441823,
                        "iteration": 390,
                        "remaining_time": 12.54515363,
                        "learn": [
                          0.3603002322,
                          0.8349307774
                        ]
                      },
                      {
                        "passed_time": 8.075729552,
                        "iteration": 391,
                        "remaining_time": 12.52562135,
                        "learn": [
                          0.3601050324,
                          0.8354632588
                        ]
                      },
                      {
                        "passed_time": 8.129185049,
                        "iteration": 392,
                        "remaining_time": 12.55576419,
                        "learn": [
                          0.3600358197,
                          0.8354632588
                        ]
                      },
                      {
                        "passed_time": 8.162688319,
                        "iteration": 393,
                        "remaining_time": 12.55479472,
                        "learn": [
                          0.3598813377,
                          0.8356407526
                        ]
                      },
                      {
                        "passed_time": 8.185782079,
                        "iteration": 394,
                        "remaining_time": 12.53771686,
                        "learn": [
                          0.3597879333,
                          0.835285765
                        ]
                      },
                      {
                        "passed_time": 8.205832533,
                        "iteration": 395,
                        "remaining_time": 12.51596679,
                        "learn": [
                          0.3597582522,
                          0.8356407526
                        ]
                      },
                      {
                        "passed_time": 8.225084398,
                        "iteration": 396,
                        "remaining_time": 12.49301232,
                        "learn": [
                          0.3596379823,
                          0.8354632588
                        ]
                      },
                      {
                        "passed_time": 8.247019417,
                        "iteration": 397,
                        "remaining_time": 12.4741349,
                        "learn": [
                          0.3595430186,
                          0.8356407526
                        ]
                      },
                      {
                        "passed_time": 8.26774637,
                        "iteration": 398,
                        "remaining_time": 12.45342248,
                        "learn": [
                          0.3593956646,
                          0.8359957401
                        ]
                      },
                      {
                        "passed_time": 8.28993346,
                        "iteration": 399,
                        "remaining_time": 12.43490019,
                        "learn": [
                          0.3593241507,
                          0.8354632588
                        ]
                      },
                      {
                        "passed_time": 8.310346618,
                        "iteration": 400,
                        "remaining_time": 12.41370979,
                        "learn": [
                          0.3592565725,
                          0.8358182464
                        ]
                      },
                      {
                        "passed_time": 8.332103252,
                        "iteration": 401,
                        "remaining_time": 12.39452175,
                        "learn": [
                          0.3591426504,
                          0.8359957401
                        ]
                      },
                      {
                        "passed_time": 8.351898734,
                        "iteration": 402,
                        "remaining_time": 12.37241574,
                        "learn": [
                          0.359058375,
                          0.8359957401
                        ]
                      },
                      {
                        "passed_time": 8.371824143,
                        "iteration": 403,
                        "remaining_time": 12.35051284,
                        "learn": [
                          0.3589287832,
                          0.8359957401
                        ]
                      },
                      {
                        "passed_time": 8.391871577,
                        "iteration": 404,
                        "remaining_time": 12.32879898,
                        "learn": [
                          0.3588691286,
                          0.8359957401
                        ]
                      },
                      {
                        "passed_time": 8.413446024,
                        "iteration": 405,
                        "remaining_time": 12.30932743,
                        "learn": [
                          0.3586979121,
                          0.8363507277
                        ]
                      },
                      {
                        "passed_time": 8.432183205,
                        "iteration": 406,
                        "remaining_time": 12.28571165,
                        "learn": [
                          0.3584666983,
                          0.8367057153
                        ]
                      },
                      {
                        "passed_time": 8.45188149,
                        "iteration": 407,
                        "remaining_time": 12.26351432,
                        "learn": [
                          0.35838174,
                          0.8363507277
                        ]
                      },
                      {
                        "passed_time": 8.472310114,
                        "iteration": 408,
                        "remaining_time": 12.24238454,
                        "learn": [
                          0.3582671241,
                          0.8370607029
                        ]
                      },
                      {
                        "passed_time": 8.492983312,
                        "iteration": 409,
                        "remaining_time": 12.22161013,
                        "learn": [
                          0.3580055307,
                          0.8367057153
                        ]
                      },
                      {
                        "passed_time": 8.513024604,
                        "iteration": 410,
                        "remaining_time": 12.19993064,
                        "learn": [
                          0.3578878309,
                          0.8365282215
                        ]
                      },
                      {
                        "passed_time": 8.532276311,
                        "iteration": 411,
                        "remaining_time": 12.17713221,
                        "learn": [
                          0.3578409978,
                          0.8363507277
                        ]
                      },
                      {
                        "passed_time": 8.548485622,
                        "iteration": 412,
                        "remaining_time": 12.15002678,
                        "learn": [
                          0.3577761082,
                          0.8365282215
                        ]
                      },
                      {
                        "passed_time": 8.568360969,
                        "iteration": 413,
                        "remaining_time": 12.12816311,
                        "learn": [
                          0.3577320108,
                          0.8365282215
                        ]
                      },
                      {
                        "passed_time": 8.585445835,
                        "iteration": 414,
                        "remaining_time": 12.10237545,
                        "learn": [
                          0.3577209254,
                          0.8367057153
                        ]
                      },
                      {
                        "passed_time": 8.604840925,
                        "iteration": 415,
                        "remaining_time": 12.07987284,
                        "learn": [
                          0.3575929904,
                          0.8368832091
                        ]
                      },
                      {
                        "passed_time": 8.634814544,
                        "iteration": 416,
                        "remaining_time": 12.07217477,
                        "learn": [
                          0.3575478909,
                          0.8368832091
                        ]
                      },
                      {
                        "passed_time": 8.659256657,
                        "iteration": 417,
                        "remaining_time": 12.05666836,
                        "learn": [
                          0.3573709237,
                          0.8368832091
                        ]
                      },
                      {
                        "passed_time": 8.67936613,
                        "iteration": 418,
                        "remaining_time": 12.03511151,
                        "learn": [
                          0.3573337026,
                          0.8374156905
                        ]
                      },
                      {
                        "passed_time": 8.699294764,
                        "iteration": 419,
                        "remaining_time": 12.01331182,
                        "learn": [
                          0.3572883361,
                          0.8370607029
                        ]
                      },
                      {
                        "passed_time": 8.718161354,
                        "iteration": 420,
                        "remaining_time": 11.99006039,
                        "learn": [
                          0.3572320053,
                          0.8370607029
                        ]
                      },
                      {
                        "passed_time": 8.736279896,
                        "iteration": 421,
                        "remaining_time": 11.96580517,
                        "learn": [
                          0.3571593813,
                          0.8375931842
                        ]
                      },
                      {
                        "passed_time": 8.755664242,
                        "iteration": 422,
                        "remaining_time": 11.9433056,
                        "learn": [
                          0.357090243,
                          0.8375931842
                        ]
                      },
                      {
                        "passed_time": 8.774116056,
                        "iteration": 423,
                        "remaining_time": 11.91955389,
                        "learn": [
                          0.3570180337,
                          0.8375931842
                        ]
                      },
                      {
                        "passed_time": 8.79329733,
                        "iteration": 424,
                        "remaining_time": 11.89681404,
                        "learn": [
                          0.3569348458,
                          0.8381256656
                        ]
                      },
                      {
                        "passed_time": 8.813501301,
                        "iteration": 425,
                        "remaining_time": 11.87546889,
                        "learn": [
                          0.3568510568,
                          0.8379481718
                        ]
                      },
                      {
                        "passed_time": 8.834793467,
                        "iteration": 426,
                        "remaining_time": 11.85558936,
                        "learn": [
                          0.3567358895,
                          0.8381256656
                        ]
                      },
                      {
                        "passed_time": 8.854689984,
                        "iteration": 427,
                        "remaining_time": 11.83383802,
                        "learn": [
                          0.3566954507,
                          0.8383031594
                        ]
                      },
                      {
                        "passed_time": 8.874065752,
                        "iteration": 428,
                        "remaining_time": 11.8114022,
                        "learn": [
                          0.3566159652,
                          0.8381256656
                        ]
                      },
                      {
                        "passed_time": 8.895989805,
                        "iteration": 429,
                        "remaining_time": 11.79235858,
                        "learn": [
                          0.3562809393,
                          0.8379481718
                        ]
                      },
                      {
                        "passed_time": 8.914501805,
                        "iteration": 430,
                        "remaining_time": 11.76879705,
                        "learn": [
                          0.3561703655,
                          0.838658147
                        ]
                      },
                      {
                        "passed_time": 8.934596649,
                        "iteration": 431,
                        "remaining_time": 11.74734004,
                        "learn": [
                          0.356142995,
                          0.838658147
                        ]
                      },
                      {
                        "passed_time": 8.957541815,
                        "iteration": 432,
                        "remaining_time": 11.72962173,
                        "learn": [
                          0.3558973221,
                          0.8384806532
                        ]
                      },
                      {
                        "passed_time": 8.97746501,
                        "iteration": 433,
                        "remaining_time": 11.70793824,
                        "learn": [
                          0.3558374162,
                          0.8384806532
                        ]
                      },
                      {
                        "passed_time": 8.999226633,
                        "iteration": 434,
                        "remaining_time": 11.68865068,
                        "learn": [
                          0.3557447718,
                          0.838658147
                        ]
                      },
                      {
                        "passed_time": 9.020826319,
                        "iteration": 435,
                        "remaining_time": 11.6691423,
                        "learn": [
                          0.3556595295,
                          0.8383031594
                        ]
                      },
                      {
                        "passed_time": 9.040113252,
                        "iteration": 436,
                        "remaining_time": 11.64664476,
                        "learn": [
                          0.3556190298,
                          0.838658147
                        ]
                      },
                      {
                        "passed_time": 9.064650109,
                        "iteration": 437,
                        "remaining_time": 11.63089808,
                        "learn": [
                          0.3555124993,
                          0.8381256656
                        ]
                      },
                      {
                        "passed_time": 9.083258817,
                        "iteration": 438,
                        "remaining_time": 11.60753575,
                        "learn": [
                          0.3554590863,
                          0.837770678
                        ]
                      },
                      {
                        "passed_time": 9.103901714,
                        "iteration": 439,
                        "remaining_time": 11.586784,
                        "learn": [
                          0.3552661517,
                          0.8388356408
                        ]
                      },
                      {
                        "passed_time": 9.153039295,
                        "iteration": 440,
                        "remaining_time": 11.60215185,
                        "learn": [
                          0.3551857752,
                          0.838658147
                        ]
                      },
                      {
                        "passed_time": 9.19339192,
                        "iteration": 441,
                        "remaining_time": 11.60613731,
                        "learn": [
                          0.3550904076,
                          0.8388356408
                        ]
                      },
                      {
                        "passed_time": 9.215345779,
                        "iteration": 442,
                        "remaining_time": 11.58678916,
                        "learn": [
                          0.3549831638,
                          0.8388356408
                        ]
                      },
                      {
                        "passed_time": 9.236537032,
                        "iteration": 443,
                        "remaining_time": 11.5664743,
                        "learn": [
                          0.3549636368,
                          0.8388356408
                        ]
                      },
                      {
                        "passed_time": 9.256633484,
                        "iteration": 444,
                        "remaining_time": 11.54479008,
                        "learn": [
                          0.3545928542,
                          0.8393681221
                        ]
                      },
                      {
                        "passed_time": 9.27719641,
                        "iteration": 445,
                        "remaining_time": 11.5236924,
                        "learn": [
                          0.3545823697,
                          0.8393681221
                        ]
                      },
                      {
                        "passed_time": 9.301138556,
                        "iteration": 446,
                        "remaining_time": 11.50677768,
                        "learn": [
                          0.354420068,
                          0.8399006035
                        ]
                      },
                      {
                        "passed_time": 9.320237162,
                        "iteration": 447,
                        "remaining_time": 11.48386365,
                        "learn": [
                          0.3542825517,
                          0.8400780973
                        ]
                      },
                      {
                        "passed_time": 9.338440228,
                        "iteration": 448,
                        "remaining_time": 11.45986763,
                        "learn": [
                          0.3541787447,
                          0.8404330848
                        ]
                      },
                      {
                        "passed_time": 9.357818138,
                        "iteration": 449,
                        "remaining_time": 11.43733328,
                        "learn": [
                          0.3540523584,
                          0.8406105786
                        ]
                      },
                      {
                        "passed_time": 9.377716728,
                        "iteration": 450,
                        "remaining_time": 11.41544675,
                        "learn": [
                          0.3539785901,
                          0.8404330848
                        ]
                      },
                      {
                        "passed_time": 9.396266789,
                        "iteration": 451,
                        "remaining_time": 11.39193407,
                        "learn": [
                          0.3539683916,
                          0.8406105786
                        ]
                      },
                      {
                        "passed_time": 9.417927203,
                        "iteration": 452,
                        "remaining_time": 11.37219907,
                        "learn": [
                          0.3538758124,
                          0.8402555911
                        ]
                      },
                      {
                        "passed_time": 9.438067427,
                        "iteration": 453,
                        "remaining_time": 11.35062735,
                        "learn": [
                          0.3538009165,
                          0.8397231097
                        ]
                      },
                      {
                        "passed_time": 9.461455277,
                        "iteration": 454,
                        "remaining_time": 11.33295193,
                        "learn": [
                          0.3537336766,
                          0.8406105786
                        ]
                      },
                      {
                        "passed_time": 9.481860196,
                        "iteration": 455,
                        "remaining_time": 11.31169287,
                        "learn": [
                          0.353618489,
                          0.8406105786
                        ]
                      },
                      {
                        "passed_time": 9.501986251,
                        "iteration": 456,
                        "remaining_time": 11.2901062,
                        "learn": [
                          0.3533901556,
                          0.8407880724
                        ]
                      },
                      {
                        "passed_time": 9.522344366,
                        "iteration": 457,
                        "remaining_time": 11.26880054,
                        "learn": [
                          0.3532118045,
                          0.8409655662
                        ]
                      },
                      {
                        "passed_time": 9.539990282,
                        "iteration": 458,
                        "remaining_time": 11.24430227,
                        "learn": [
                          0.3531143814,
                          0.8414980476
                        ]
                      },
                      {
                        "passed_time": 9.558971901,
                        "iteration": 459,
                        "remaining_time": 11.2214018,
                        "learn": [
                          0.3527055456,
                          0.8413205538
                        ]
                      },
                      {
                        "passed_time": 9.580265205,
                        "iteration": 460,
                        "remaining_time": 11.20122114,
                        "learn": [
                          0.3525933852,
                          0.8413205538
                        ]
                      },
                      {
                        "passed_time": 9.599665989,
                        "iteration": 461,
                        "remaining_time": 11.17883182,
                        "learn": [
                          0.3525016247,
                          0.8414980476
                        ]
                      },
                      {
                        "passed_time": 9.624693496,
                        "iteration": 462,
                        "remaining_time": 11.16298144,
                        "learn": [
                          0.3523515344,
                          0.8414980476
                        ]
                      },
                      {
                        "passed_time": 9.647094546,
                        "iteration": 463,
                        "remaining_time": 11.14405749,
                        "learn": [
                          0.3522289257,
                          0.8414980476
                        ]
                      },
                      {
                        "passed_time": 9.665213155,
                        "iteration": 464,
                        "remaining_time": 11.12019148,
                        "learn": [
                          0.3521403601,
                          0.8414980476
                        ]
                      },
                      {
                        "passed_time": 9.687296269,
                        "iteration": 465,
                        "remaining_time": 11.10089315,
                        "learn": [
                          0.3521257374,
                          0.8414980476
                        ]
                      },
                      {
                        "passed_time": 9.706244683,
                        "iteration": 466,
                        "remaining_time": 11.07800517,
                        "learn": [
                          0.3516901463,
                          0.8420305289
                        ]
                      },
                      {
                        "passed_time": 9.727109164,
                        "iteration": 467,
                        "remaining_time": 11.05731213,
                        "learn": [
                          0.3516641701,
                          0.8418530351
                        ]
                      },
                      {
                        "passed_time": 9.745255064,
                        "iteration": 468,
                        "remaining_time": 11.03354038,
                        "learn": [
                          0.3515902363,
                          0.8420305289
                        ]
                      },
                      {
                        "passed_time": 9.764477959,
                        "iteration": 469,
                        "remaining_time": 11.01100706,
                        "learn": [
                          0.3515807712,
                          0.8420305289
                        ]
                      },
                      {
                        "passed_time": 9.781822762,
                        "iteration": 470,
                        "remaining_time": 10.98637843,
                        "learn": [
                          0.3515411164,
                          0.8420305289
                        ]
                      },
                      {
                        "passed_time": 9.803835358,
                        "iteration": 471,
                        "remaining_time": 10.96700226,
                        "learn": [
                          0.3513507215,
                          0.8420305289
                        ]
                      },
                      {
                        "passed_time": 9.823742303,
                        "iteration": 472,
                        "remaining_time": 10.94526891,
                        "learn": [
                          0.3511040239,
                          0.8414980476
                        ]
                      },
                      {
                        "passed_time": 9.844987309,
                        "iteration": 473,
                        "remaining_time": 10.92502811,
                        "learn": [
                          0.3510637501,
                          0.8413205538
                        ]
                      },
                      {
                        "passed_time": 9.864668349,
                        "iteration": 474,
                        "remaining_time": 10.90305449,
                        "learn": [
                          0.3510066966,
                          0.8413205538
                        ]
                      },
                      {
                        "passed_time": 9.885730115,
                        "iteration": 475,
                        "remaining_time": 10.88261046,
                        "learn": [
                          0.3507483602,
                          0.8413205538
                        ]
                      },
                      {
                        "passed_time": 9.905863499,
                        "iteration": 476,
                        "remaining_time": 10.86114593,
                        "learn": [
                          0.350688253,
                          0.8413205538
                        ]
                      },
                      {
                        "passed_time": 9.926840733,
                        "iteration": 477,
                        "remaining_time": 10.8406085,
                        "learn": [
                          0.3505916757,
                          0.8414980476
                        ]
                      },
                      {
                        "passed_time": 9.949018702,
                        "iteration": 478,
                        "remaining_time": 10.82137525,
                        "learn": [
                          0.3503894691,
                          0.8414980476
                        ]
                      },
                      {
                        "passed_time": 9.971590781,
                        "iteration": 479,
                        "remaining_time": 10.80255668,
                        "learn": [
                          0.3503084664,
                          0.8416755414
                        ]
                      },
                      {
                        "passed_time": 9.991460003,
                        "iteration": 480,
                        "remaining_time": 10.78080612,
                        "learn": [
                          0.3501882216,
                          0.8416755414
                        ]
                      },
                      {
                        "passed_time": 10.01236119,
                        "iteration": 481,
                        "remaining_time": 10.7601724,
                        "learn": [
                          0.3500475106,
                          0.8416755414
                        ]
                      },
                      {
                        "passed_time": 10.03479277,
                        "iteration": 482,
                        "remaining_time": 10.7411757,
                        "learn": [
                          0.3499268371,
                          0.8420305289
                        ]
                      },
                      {
                        "passed_time": 10.05537924,
                        "iteration": 483,
                        "remaining_time": 10.7201977,
                        "learn": [
                          0.3497990593,
                          0.8418530351
                        ]
                      },
                      {
                        "passed_time": 10.07661247,
                        "iteration": 484,
                        "remaining_time": 10.69990808,
                        "learn": [
                          0.3497003257,
                          0.8420305289
                        ]
                      },
                      {
                        "passed_time": 10.09424907,
                        "iteration": 485,
                        "remaining_time": 10.67581075,
                        "learn": [
                          0.3496328948,
                          0.8418530351
                        ]
                      },
                      {
                        "passed_time": 10.11321142,
                        "iteration": 486,
                        "remaining_time": 10.65313646,
                        "learn": [
                          0.3496139229,
                          0.8418530351
                        ]
                      },
                      {
                        "passed_time": 10.13380424,
                        "iteration": 487,
                        "remaining_time": 10.63218806,
                        "learn": [
                          0.3495273423,
                          0.8418530351
                        ]
                      },
                      {
                        "passed_time": 10.19846419,
                        "iteration": 488,
                        "remaining_time": 10.6572908,
                        "learn": [
                          0.3495172623,
                          0.8418530351
                        ]
                      },
                      {
                        "passed_time": 10.21793108,
                        "iteration": 489,
                        "remaining_time": 10.6349895,
                        "learn": [
                          0.3494920579,
                          0.8420305289
                        ]
                      },
                      {
                        "passed_time": 10.23991957,
                        "iteration": 490,
                        "remaining_time": 10.61531377,
                        "learn": [
                          0.3494370657,
                          0.8422080227
                        ]
                      },
                      {
                        "passed_time": 10.25920577,
                        "iteration": 491,
                        "remaining_time": 10.59283848,
                        "learn": [
                          0.3493858725,
                          0.8420305289
                        ]
                      },
                      {
                        "passed_time": 10.28303765,
                        "iteration": 492,
                        "remaining_time": 10.57505089,
                        "learn": [
                          0.3492645202,
                          0.8425630103
                        ]
                      },
                      {
                        "passed_time": 10.30174117,
                        "iteration": 493,
                        "remaining_time": 10.55198589,
                        "learn": [
                          0.3491101533,
                          0.8422080227
                        ]
                      },
                      {
                        "passed_time": 10.32158051,
                        "iteration": 494,
                        "remaining_time": 10.53009729,
                        "learn": [
                          0.3491031663,
                          0.8422080227
                        ]
                      },
                      {
                        "passed_time": 10.34180941,
                        "iteration": 495,
                        "remaining_time": 10.50861279,
                        "learn": [
                          0.3490021201,
                          0.8423855165
                        ]
                      },
                      {
                        "passed_time": 10.36099962,
                        "iteration": 496,
                        "remaining_time": 10.48608211,
                        "learn": [
                          0.348928155,
                          0.8420305289
                        ]
                      },
                      {
                        "passed_time": 10.38044892,
                        "iteration": 497,
                        "remaining_time": 10.46382602,
                        "learn": [
                          0.3488172079,
                          0.8423855165
                        ]
                      },
                      {
                        "passed_time": 10.3981539,
                        "iteration": 498,
                        "remaining_time": 10.43982987,
                        "learn": [
                          0.3487787796,
                          0.8423855165
                        ]
                      },
                      {
                        "passed_time": 10.41912633,
                        "iteration": 499,
                        "remaining_time": 10.41912633,
                        "learn": [
                          0.3487266031,
                          0.8423855165
                        ]
                      },
                      {
                        "passed_time": 10.43949763,
                        "iteration": 500,
                        "remaining_time": 10.39782298,
                        "learn": [
                          0.3486643141,
                          0.8429179979
                        ]
                      },
                      {
                        "passed_time": 10.45575433,
                        "iteration": 501,
                        "remaining_time": 10.37244155,
                        "learn": [
                          0.3486247222,
                          0.8423855165
                        ]
                      },
                      {
                        "passed_time": 10.47507113,
                        "iteration": 502,
                        "remaining_time": 10.35011998,
                        "learn": [
                          0.3485682657,
                          0.8423855165
                        ]
                      },
                      {
                        "passed_time": 10.49429641,
                        "iteration": 503,
                        "remaining_time": 10.32772028,
                        "learn": [
                          0.3484772554,
                          0.8425630103
                        ]
                      },
                      {
                        "passed_time": 10.51410783,
                        "iteration": 504,
                        "remaining_time": 10.30590768,
                        "learn": [
                          0.3483686398,
                          0.8425630103
                        ]
                      },
                      {
                        "passed_time": 10.53366373,
                        "iteration": 505,
                        "remaining_time": 10.28385352,
                        "learn": [
                          0.3483616119,
                          0.8425630103
                        ]
                      },
                      {
                        "passed_time": 10.5542304,
                        "iteration": 506,
                        "remaining_time": 10.26279209,
                        "learn": [
                          0.3481986877,
                          0.8427405041
                        ]
                      },
                      {
                        "passed_time": 10.57593869,
                        "iteration": 507,
                        "remaining_time": 10.24283826,
                        "learn": [
                          0.3479950377,
                          0.8432729854
                        ]
                      },
                      {
                        "passed_time": 10.59555719,
                        "iteration": 508,
                        "remaining_time": 10.22086165,
                        "learn": [
                          0.3479061362,
                          0.8430954917
                        ]
                      },
                      {
                        "passed_time": 10.61531887,
                        "iteration": 509,
                        "remaining_time": 10.19903185,
                        "learn": [
                          0.3477662966,
                          0.8430954917
                        ]
                      },
                      {
                        "passed_time": 10.64234382,
                        "iteration": 510,
                        "remaining_time": 10.18416072,
                        "learn": [
                          0.3476635833,
                          0.8432729854
                        ]
                      },
                      {
                        "passed_time": 10.66023572,
                        "iteration": 511,
                        "remaining_time": 10.16053717,
                        "learn": [
                          0.3475953767,
                          0.8432729854
                        ]
                      },
                      {
                        "passed_time": 10.67881734,
                        "iteration": 512,
                        "remaining_time": 10.13759073,
                        "learn": [
                          0.3475029823,
                          0.843627973
                        ]
                      },
                      {
                        "passed_time": 10.69627331,
                        "iteration": 513,
                        "remaining_time": 10.11359695,
                        "learn": [
                          0.3473600951,
                          0.8439829606
                        ]
                      },
                      {
                        "passed_time": 10.71396574,
                        "iteration": 514,
                        "remaining_time": 10.08985123,
                        "learn": [
                          0.3473120312,
                          0.8438054668
                        ]
                      },
                      {
                        "passed_time": 10.73302095,
                        "iteration": 515,
                        "remaining_time": 10.06740725,
                        "learn": [
                          0.3472065457,
                          0.843627973
                        ]
                      },
                      {
                        "passed_time": 10.75381291,
                        "iteration": 516,
                        "remaining_time": 10.04659891,
                        "learn": [
                          0.347071417,
                          0.8438054668
                        ]
                      },
                      {
                        "passed_time": 10.77445276,
                        "iteration": 517,
                        "remaining_time": 10.0256491,
                        "learn": [
                          0.347014341,
                          0.8439829606
                        ]
                      },
                      {
                        "passed_time": 10.79521342,
                        "iteration": 518,
                        "remaining_time": 10.00481244,
                        "learn": [
                          0.3468491855,
                          0.8441604544
                        ]
                      },
                      {
                        "passed_time": 10.816506,
                        "iteration": 519,
                        "remaining_time": 9.984467078,
                        "learn": [
                          0.3467471608,
                          0.8443379482
                        ]
                      },
                      {
                        "passed_time": 10.83622305,
                        "iteration": 520,
                        "remaining_time": 9.962669559,
                        "learn": [
                          0.3467143051,
                          0.8443379482
                        ]
                      },
                      {
                        "passed_time": 10.85295203,
                        "iteration": 521,
                        "remaining_time": 9.938143811,
                        "learn": [
                          0.3467020672,
                          0.8443379482
                        ]
                      },
                      {
                        "passed_time": 10.87916791,
                        "iteration": 522,
                        "remaining_time": 9.922300365,
                        "learn": [
                          0.3466334003,
                          0.8448704295
                        ]
                      },
                      {
                        "passed_time": 10.899567,
                        "iteration": 523,
                        "remaining_time": 9.901133384,
                        "learn": [
                          0.3465913622,
                          0.8448704295
                        ]
                      },
                      {
                        "passed_time": 10.91927164,
                        "iteration": 524,
                        "remaining_time": 9.879341005,
                        "learn": [
                          0.3465057011,
                          0.8441604544
                        ]
                      },
                      {
                        "passed_time": 10.93805861,
                        "iteration": 525,
                        "remaining_time": 9.856729625,
                        "learn": [
                          0.3463882689,
                          0.8441604544
                        ]
                      },
                      {
                        "passed_time": 10.95801449,
                        "iteration": 526,
                        "remaining_time": 9.83518189,
                        "learn": [
                          0.3461226949,
                          0.8446929357
                        ]
                      },
                      {
                        "passed_time": 10.97667833,
                        "iteration": 527,
                        "remaining_time": 9.812485178,
                        "learn": [
                          0.3460314322,
                          0.844515442
                        ]
                      },
                      {
                        "passed_time": 10.9985529,
                        "iteration": 528,
                        "remaining_time": 9.792662414,
                        "learn": [
                          0.3457918196,
                          0.844515442
                        ]
                      },
                      {
                        "passed_time": 11.01764039,
                        "iteration": 529,
                        "remaining_time": 9.770360345,
                        "learn": [
                          0.3455864803,
                          0.8454029109
                        ]
                      },
                      {
                        "passed_time": 11.03686515,
                        "iteration": 530,
                        "remaining_time": 9.748191628,
                        "learn": [
                          0.3455108921,
                          0.8455804047
                        ]
                      },
                      {
                        "passed_time": 11.05810004,
                        "iteration": 531,
                        "remaining_time": 9.727802293,
                        "learn": [
                          0.3454410129,
                          0.8455804047
                        ]
                      },
                      {
                        "passed_time": 11.07896426,
                        "iteration": 532,
                        "remaining_time": 9.70708501,
                        "learn": [
                          0.3453269562,
                          0.8454029109
                        ]
                      },
                      {
                        "passed_time": 11.09838513,
                        "iteration": 533,
                        "remaining_time": 9.685107621,
                        "learn": [
                          0.3452486666,
                          0.8454029109
                        ]
                      },
                      {
                        "passed_time": 11.1181228,
                        "iteration": 534,
                        "remaining_time": 9.663415148,
                        "learn": [
                          0.3451667269,
                          0.8454029109
                        ]
                      },
                      {
                        "passed_time": 11.13338034,
                        "iteration": 535,
                        "remaining_time": 9.637851637,
                        "learn": [
                          0.3451484262,
                          0.8454029109
                        ]
                      },
                      {
                        "passed_time": 11.17444924,
                        "iteration": 536,
                        "remaining_time": 9.634581002,
                        "learn": [
                          0.3450689099,
                          0.8455804047
                        ]
                      },
                      {
                        "passed_time": 11.22537213,
                        "iteration": 537,
                        "remaining_time": 9.639631829,
                        "learn": [
                          0.3449240383,
                          0.846112886
                        ]
                      },
                      {
                        "passed_time": 11.24815122,
                        "iteration": 538,
                        "remaining_time": 9.620403918,
                        "learn": [
                          0.3447369927,
                          0.8459353923
                        ]
                      },
                      {
                        "passed_time": 11.26676851,
                        "iteration": 539,
                        "remaining_time": 9.597617623,
                        "learn": [
                          0.3446770953,
                          0.8457578985
                        ]
                      },
                      {
                        "passed_time": 11.28742622,
                        "iteration": 540,
                        "remaining_time": 9.57657788,
                        "learn": [
                          0.3445999784,
                          0.8462903798
                        ]
                      },
                      {
                        "passed_time": 11.3048993,
                        "iteration": 541,
                        "remaining_time": 9.552848484,
                        "learn": [
                          0.3445116092,
                          0.8462903798
                        ]
                      },
                      {
                        "passed_time": 11.32396016,
                        "iteration": 542,
                        "remaining_time": 9.530478439,
                        "learn": [
                          0.3444407358,
                          0.8466453674
                        ]
                      },
                      {
                        "passed_time": 11.34556789,
                        "iteration": 543,
                        "remaining_time": 9.510255436,
                        "learn": [
                          0.3442460395,
                          0.847000355
                        ]
                      },
                      {
                        "passed_time": 11.36724501,
                        "iteration": 544,
                        "remaining_time": 9.490085281,
                        "learn": [
                          0.3441767283,
                          0.847000355
                        ]
                      },
                      {
                        "passed_time": 11.38771693,
                        "iteration": 545,
                        "remaining_time": 9.468907484,
                        "learn": [
                          0.3440277482,
                          0.847000355
                        ]
                      },
                      {
                        "passed_time": 11.40630801,
                        "iteration": 546,
                        "remaining_time": 9.446174645,
                        "learn": [
                          0.3439459328,
                          0.8473553426
                        ]
                      },
                      {
                        "passed_time": 11.42711566,
                        "iteration": 547,
                        "remaining_time": 9.425285177,
                        "learn": [
                          0.3438590008,
                          0.8475328364
                        ]
                      },
                      {
                        "passed_time": 11.44849787,
                        "iteration": 548,
                        "remaining_time": 9.404868014,
                        "learn": [
                          0.3438083235,
                          0.8475328364
                        ]
                      },
                      {
                        "passed_time": 11.47136981,
                        "iteration": 549,
                        "remaining_time": 9.385666211,
                        "learn": [
                          0.3437194816,
                          0.8475328364
                        ]
                      },
                      {
                        "passed_time": 11.49187789,
                        "iteration": 550,
                        "remaining_time": 9.364524815,
                        "learn": [
                          0.3436551608,
                          0.8477103301
                        ]
                      },
                      {
                        "passed_time": 11.50897799,
                        "iteration": 551,
                        "remaining_time": 9.340619817,
                        "learn": [
                          0.3435809573,
                          0.8480653177
                        ]
                      },
                      {
                        "passed_time": 11.52806628,
                        "iteration": 552,
                        "remaining_time": 9.318346525,
                        "learn": [
                          0.3434538222,
                          0.8478878239
                        ]
                      },
                      {
                        "passed_time": 11.5499945,
                        "iteration": 553,
                        "remaining_time": 9.298371025,
                        "learn": [
                          0.3433504415,
                          0.8480653177
                        ]
                      },
                      {
                        "passed_time": 11.5719833,
                        "iteration": 554,
                        "remaining_time": 9.278437063,
                        "learn": [
                          0.343286426,
                          0.8484203053
                        ]
                      },
                      {
                        "passed_time": 11.59377714,
                        "iteration": 555,
                        "remaining_time": 9.258340019,
                        "learn": [
                          0.3432294461,
                          0.8484203053
                        ]
                      },
                      {
                        "passed_time": 11.61295974,
                        "iteration": 556,
                        "remaining_time": 9.23616008,
                        "learn": [
                          0.3431391088,
                          0.8484203053
                        ]
                      },
                      {
                        "passed_time": 11.64024572,
                        "iteration": 557,
                        "remaining_time": 9.220409696,
                        "learn": [
                          0.343035177,
                          0.8478878239
                        ]
                      },
                      {
                        "passed_time": 11.66506913,
                        "iteration": 558,
                        "remaining_time": 9.202675292,
                        "learn": [
                          0.3429207817,
                          0.8480653177
                        ]
                      },
                      {
                        "passed_time": 11.68588159,
                        "iteration": 559,
                        "remaining_time": 9.181764104,
                        "learn": [
                          0.3428155259,
                          0.8480653177
                        ]
                      },
                      {
                        "passed_time": 11.707224,
                        "iteration": 560,
                        "remaining_time": 9.161267975,
                        "learn": [
                          0.3426731134,
                          0.8480653177
                        ]
                      },
                      {
                        "passed_time": 11.72741916,
                        "iteration": 561,
                        "remaining_time": 9.139874721,
                        "learn": [
                          0.3425526072,
                          0.8477103301
                        ]
                      },
                      {
                        "passed_time": 11.75116733,
                        "iteration": 562,
                        "remaining_time": 9.121243558,
                        "learn": [
                          0.3424995838,
                          0.8477103301
                        ]
                      },
                      {
                        "passed_time": 11.77372234,
                        "iteration": 563,
                        "remaining_time": 9.101671878,
                        "learn": [
                          0.3423694293,
                          0.8480653177
                        ]
                      },
                      {
                        "passed_time": 11.79555824,
                        "iteration": 564,
                        "remaining_time": 9.081535994,
                        "learn": [
                          0.342260263,
                          0.8482428115
                        ]
                      },
                      {
                        "passed_time": 11.81672963,
                        "iteration": 565,
                        "remaining_time": 9.060884557,
                        "learn": [
                          0.3420646551,
                          0.8482428115
                        ]
                      },
                      {
                        "passed_time": 11.83772913,
                        "iteration": 566,
                        "remaining_time": 9.040100023,
                        "learn": [
                          0.3419956622,
                          0.8482428115
                        ]
                      },
                      {
                        "passed_time": 11.85936972,
                        "iteration": 567,
                        "remaining_time": 9.019802322,
                        "learn": [
                          0.3418795792,
                          0.8482428115
                        ]
                      },
                      {
                        "passed_time": 11.87514196,
                        "iteration": 568,
                        "remaining_time": 8.995054807,
                        "learn": [
                          0.3418710447,
                          0.8482428115
                        ]
                      },
                      {
                        "passed_time": 11.8966859,
                        "iteration": 569,
                        "remaining_time": 8.97469287,
                        "learn": [
                          0.3418161792,
                          0.8480653177
                        ]
                      },
                      {
                        "passed_time": 11.91794886,
                        "iteration": 570,
                        "remaining_time": 8.954115695,
                        "learn": [
                          0.341752631,
                          0.8484203053
                        ]
                      },
                      {
                        "passed_time": 11.93770803,
                        "iteration": 571,
                        "remaining_time": 8.932410906,
                        "learn": [
                          0.3415609627,
                          0.8484203053
                        ]
                      },
                      {
                        "passed_time": 11.96197047,
                        "iteration": 572,
                        "remaining_time": 8.914068742,
                        "learn": [
                          0.3415041152,
                          0.8487752929
                        ]
                      },
                      {
                        "passed_time": 11.98301936,
                        "iteration": 573,
                        "remaining_time": 8.893320989,
                        "learn": [
                          0.3414316385,
                          0.8485977991
                        ]
                      },
                      {
                        "passed_time": 12.00335226,
                        "iteration": 574,
                        "remaining_time": 8.872042974,
                        "learn": [
                          0.3413731166,
                          0.8487752929
                        ]
                      },
                      {
                        "passed_time": 12.02485777,
                        "iteration": 575,
                        "remaining_time": 8.851631411,
                        "learn": [
                          0.3412665333,
                          0.8485977991
                        ]
                      },
                      {
                        "passed_time": 12.04629121,
                        "iteration": 576,
                        "remaining_time": 8.831163224,
                        "learn": [
                          0.3411839295,
                          0.8487752929
                        ]
                      },
                      {
                        "passed_time": 12.06786842,
                        "iteration": 577,
                        "remaining_time": 8.810796663,
                        "learn": [
                          0.3410040461,
                          0.8487752929
                        ]
                      },
                      {
                        "passed_time": 12.0888448,
                        "iteration": 578,
                        "remaining_time": 8.789989055,
                        "learn": [
                          0.3408770024,
                          0.8487752929
                        ]
                      },
                      {
                        "passed_time": 12.10815776,
                        "iteration": 579,
                        "remaining_time": 8.767976306,
                        "learn": [
                          0.3407094665,
                          0.8485977991
                        ]
                      },
                      {
                        "passed_time": 12.12649511,
                        "iteration": 580,
                        "remaining_time": 8.745269275,
                        "learn": [
                          0.3407030505,
                          0.8485977991
                        ]
                      },
                      {
                        "passed_time": 12.14540141,
                        "iteration": 581,
                        "remaining_time": 8.722985894,
                        "learn": [
                          0.3406971162,
                          0.8485977991
                        ]
                      },
                      {
                        "passed_time": 12.16579208,
                        "iteration": 582,
                        "remaining_time": 8.701775812,
                        "learn": [
                          0.3405942977,
                          0.8485977991
                        ]
                      },
                      {
                        "passed_time": 12.22156305,
                        "iteration": 583,
                        "remaining_time": 8.705770937,
                        "learn": [
                          0.3404398358,
                          0.8489527867
                        ]
                      },
                      {
                        "passed_time": 12.26553266,
                        "iteration": 584,
                        "remaining_time": 8.701189836,
                        "learn": [
                          0.3404007536,
                          0.8489527867
                        ]
                      },
                      {
                        "passed_time": 12.28470112,
                        "iteration": 585,
                        "remaining_time": 8.678952671,
                        "learn": [
                          0.3401984954,
                          0.8487752929
                        ]
                      },
                      {
                        "passed_time": 12.30701705,
                        "iteration": 586,
                        "remaining_time": 8.658940449,
                        "learn": [
                          0.3400700491,
                          0.8491302804
                        ]
                      },
                      {
                        "passed_time": 12.32822315,
                        "iteration": 587,
                        "remaining_time": 8.638142751,
                        "learn": [
                          0.3400251817,
                          0.8491302804
                        ]
                      },
                      {
                        "passed_time": 12.349833,
                        "iteration": 588,
                        "remaining_time": 8.617625403,
                        "learn": [
                          0.3399520347,
                          0.8489527867
                        ]
                      },
                      {
                        "passed_time": 12.37413715,
                        "iteration": 589,
                        "remaining_time": 8.598976661,
                        "learn": [
                          0.339894511,
                          0.8489527867
                        ]
                      },
                      {
                        "passed_time": 12.39318368,
                        "iteration": 590,
                        "remaining_time": 8.576670263,
                        "learn": [
                          0.3397748146,
                          0.8491302804
                        ]
                      },
                      {
                        "passed_time": 12.41313784,
                        "iteration": 591,
                        "remaining_time": 8.555000402,
                        "learn": [
                          0.3396768274,
                          0.849485268
                        ]
                      },
                      {
                        "passed_time": 12.43331971,
                        "iteration": 592,
                        "remaining_time": 8.53349262,
                        "learn": [
                          0.3395203074,
                          0.8493077742
                        ]
                      },
                      {
                        "passed_time": 12.45413112,
                        "iteration": 593,
                        "remaining_time": 8.512419586,
                        "learn": [
                          0.3394660257,
                          0.849485268
                        ]
                      },
                      {
                        "passed_time": 12.47587488,
                        "iteration": 594,
                        "remaining_time": 8.491982064,
                        "learn": [
                          0.3393841402,
                          0.8493077742
                        ]
                      },
                      {
                        "passed_time": 12.49515823,
                        "iteration": 595,
                        "remaining_time": 8.469872361,
                        "learn": [
                          0.3393614242,
                          0.849485268
                        ]
                      },
                      {
                        "passed_time": 12.51854463,
                        "iteration": 596,
                        "remaining_time": 8.450541855,
                        "learn": [
                          0.3391184708,
                          0.8489527867
                        ]
                      },
                      {
                        "passed_time": 12.53802253,
                        "iteration": 597,
                        "remaining_time": 8.428570331,
                        "learn": [
                          0.3390780661,
                          0.8493077742
                        ]
                      },
                      {
                        "passed_time": 12.55871779,
                        "iteration": 598,
                        "remaining_time": 8.407422095,
                        "learn": [
                          0.3390350644,
                          0.8491302804
                        ]
                      },
                      {
                        "passed_time": 12.5785998,
                        "iteration": 599,
                        "remaining_time": 8.385733203,
                        "learn": [
                          0.3389430714,
                          0.8493077742
                        ]
                      },
                      {
                        "passed_time": 12.60091461,
                        "iteration": 600,
                        "remaining_time": 8.365665438,
                        "learn": [
                          0.3388098747,
                          0.8489527867
                        ]
                      },
                      {
                        "passed_time": 12.62142519,
                        "iteration": 601,
                        "remaining_time": 8.344397385,
                        "learn": [
                          0.3387637459,
                          0.8491302804
                        ]
                      },
                      {
                        "passed_time": 12.6451763,
                        "iteration": 602,
                        "remaining_time": 8.325265327,
                        "learn": [
                          0.338646434,
                          0.8487752929
                        ]
                      },
                      {
                        "passed_time": 12.66956604,
                        "iteration": 603,
                        "remaining_time": 8.306536674,
                        "learn": [
                          0.3385927823,
                          0.8489527867
                        ]
                      },
                      {
                        "passed_time": 12.69141553,
                        "iteration": 604,
                        "remaining_time": 8.2861308,
                        "learn": [
                          0.3385087656,
                          0.8493077742
                        ]
                      },
                      {
                        "passed_time": 12.71183759,
                        "iteration": 605,
                        "remaining_time": 8.264792095,
                        "learn": [
                          0.338330571,
                          0.8498402556
                        ]
                      },
                      {
                        "passed_time": 12.73590882,
                        "iteration": 606,
                        "remaining_time": 8.245819057,
                        "learn": [
                          0.3382567845,
                          0.8498402556
                        ]
                      },
                      {
                        "passed_time": 12.75640141,
                        "iteration": 607,
                        "remaining_time": 8.22452196,
                        "learn": [
                          0.3382290581,
                          0.8496627618
                        ]
                      },
                      {
                        "passed_time": 12.77722713,
                        "iteration": 608,
                        "remaining_time": 8.203441395,
                        "learn": [
                          0.3381388242,
                          0.8496627618
                        ]
                      },
                      {
                        "passed_time": 12.7966094,
                        "iteration": 609,
                        "remaining_time": 8.181438797,
                        "learn": [
                          0.3380626645,
                          0.8500177494
                        ]
                      },
                      {
                        "passed_time": 12.8145543,
                        "iteration": 610,
                        "remaining_time": 8.158529659,
                        "learn": [
                          0.3379843792,
                          0.8498402556
                        ]
                      },
                      {
                        "passed_time": 12.83662284,
                        "iteration": 611,
                        "remaining_time": 8.138251081,
                        "learn": [
                          0.3379028969,
                          0.849485268
                        ]
                      },
                      {
                        "passed_time": 12.85731617,
                        "iteration": 612,
                        "remaining_time": 8.117098463,
                        "learn": [
                          0.3377039737,
                          0.8496627618
                        ]
                      },
                      {
                        "passed_time": 12.87751222,
                        "iteration": 613,
                        "remaining_time": 8.095634716,
                        "learn": [
                          0.3376351265,
                          0.8496627618
                        ]
                      },
                      {
                        "passed_time": 12.89871098,
                        "iteration": 614,
                        "remaining_time": 8.074802806,
                        "learn": [
                          0.3374461467,
                          0.850372737
                        ]
                      },
                      {
                        "passed_time": 12.91877707,
                        "iteration": 615,
                        "remaining_time": 8.05326363,
                        "learn": [
                          0.3373304149,
                          0.850372737
                        ]
                      },
                      {
                        "passed_time": 12.93835208,
                        "iteration": 616,
                        "remaining_time": 8.031424388,
                        "learn": [
                          0.3371625365,
                          0.850372737
                        ]
                      },
                      {
                        "passed_time": 12.96145993,
                        "iteration": 617,
                        "remaining_time": 8.011776206,
                        "learn": [
                          0.3371116078,
                          0.8505502307
                        ]
                      },
                      {
                        "passed_time": 12.98323065,
                        "iteration": 618,
                        "remaining_time": 7.991293823,
                        "learn": [
                          0.3369261403,
                          0.8509052183
                        ]
                      },
                      {
                        "passed_time": 13.00350114,
                        "iteration": 619,
                        "remaining_time": 7.969887797,
                        "learn": [
                          0.3367550036,
                          0.8514376997
                        ]
                      },
                      {
                        "passed_time": 13.02201209,
                        "iteration": 620,
                        "remaining_time": 7.947411564,
                        "learn": [
                          0.336647504,
                          0.8514376997
                        ]
                      },
                      {
                        "passed_time": 13.04205484,
                        "iteration": 621,
                        "remaining_time": 7.925878987,
                        "learn": [
                          0.3365634034,
                          0.8517926873
                        ]
                      },
                      {
                        "passed_time": 13.06312987,
                        "iteration": 622,
                        "remaining_time": 7.904975858,
                        "learn": [
                          0.3364045247,
                          0.8517926873
                        ]
                      },
                      {
                        "passed_time": 13.08666188,
                        "iteration": 623,
                        "remaining_time": 7.885552673,
                        "learn": [
                          0.3363408922,
                          0.851970181
                        ]
                      },
                      {
                        "passed_time": 13.10805197,
                        "iteration": 624,
                        "remaining_time": 7.864831184,
                        "learn": [
                          0.33627723,
                          0.8517926873
                        ]
                      },
                      {
                        "passed_time": 13.12918766,
                        "iteration": 625,
                        "remaining_time": 7.843955565,
                        "learn": [
                          0.3361954062,
                          0.8516151935
                        ]
                      },
                      {
                        "passed_time": 13.1488334,
                        "iteration": 626,
                        "remaining_time": 7.822192757,
                        "learn": [
                          0.336045686,
                          0.851970181
                        ]
                      },
                      {
                        "passed_time": 13.16841169,
                        "iteration": 627,
                        "remaining_time": 7.800396732,
                        "learn": [
                          0.3359963569,
                          0.8517926873
                        ]
                      },
                      {
                        "passed_time": 13.18704829,
                        "iteration": 628,
                        "remaining_time": 7.778052327,
                        "learn": [
                          0.3359477816,
                          0.851970181
                        ]
                      },
                      {
                        "passed_time": 13.23490481,
                        "iteration": 629,
                        "remaining_time": 7.7728806,
                        "learn": [
                          0.3358311529,
                          0.8521476748
                        ]
                      },
                      {
                        "passed_time": 13.29388926,
                        "iteration": 630,
                        "remaining_time": 7.774081038,
                        "learn": [
                          0.3356335153,
                          0.8521476748
                        ]
                      },
                      {
                        "passed_time": 13.31449018,
                        "iteration": 631,
                        "remaining_time": 7.75274112,
                        "learn": [
                          0.3354275562,
                          0.8523251686
                        ]
                      },
                      {
                        "passed_time": 13.34284944,
                        "iteration": 632,
                        "remaining_time": 7.735901649,
                        "learn": [
                          0.3353913849,
                          0.8526801562
                        ]
                      },
                      {
                        "passed_time": 13.37408545,
                        "iteration": 633,
                        "remaining_time": 7.72068655,
                        "learn": [
                          0.3352326414,
                          0.8525026624
                        ]
                      },
                      {
                        "passed_time": 13.39617872,
                        "iteration": 634,
                        "remaining_time": 7.700165721,
                        "learn": [
                          0.3351845712,
                          0.8526801562
                        ]
                      },
                      {
                        "passed_time": 13.41832232,
                        "iteration": 635,
                        "remaining_time": 7.679668751,
                        "learn": [
                          0.3350391025,
                          0.8526801562
                        ]
                      },
                      {
                        "passed_time": 13.440239,
                        "iteration": 636,
                        "remaining_time": 7.659037294,
                        "learn": [
                          0.3350169272,
                          0.8526801562
                        ]
                      },
                      {
                        "passed_time": 13.45975693,
                        "iteration": 637,
                        "remaining_time": 7.637040766,
                        "learn": [
                          0.3349581749,
                          0.8530351438
                        ]
                      },
                      {
                        "passed_time": 13.4802911,
                        "iteration": 638,
                        "remaining_time": 7.615626115,
                        "learn": [
                          0.3348179878,
                          0.8532126376
                        ]
                      },
                      {
                        "passed_time": 13.50095926,
                        "iteration": 639,
                        "remaining_time": 7.594289586,
                        "learn": [
                          0.3347861118,
                          0.8533901313
                        ]
                      },
                      {
                        "passed_time": 13.52239772,
                        "iteration": 640,
                        "remaining_time": 7.573386557,
                        "learn": [
                          0.3347143819,
                          0.85285765
                        ]
                      },
                      {
                        "passed_time": 13.54357272,
                        "iteration": 641,
                        "remaining_time": 7.552334941,
                        "learn": [
                          0.334579483,
                          0.8530351438
                        ]
                      },
                      {
                        "passed_time": 13.56474774,
                        "iteration": 642,
                        "remaining_time": 7.531282957,
                        "learn": [
                          0.334389106,
                          0.8532126376
                        ]
                      },
                      {
                        "passed_time": 13.58694556,
                        "iteration": 643,
                        "remaining_time": 7.510795994,
                        "learn": [
                          0.3343176064,
                          0.8530351438
                        ]
                      },
                      {
                        "passed_time": 13.60615649,
                        "iteration": 644,
                        "remaining_time": 7.488659772,
                        "learn": [
                          0.3342510081,
                          0.8530351438
                        ]
                      },
                      {
                        "passed_time": 13.62766591,
                        "iteration": 645,
                        "remaining_time": 7.467792154,
                        "learn": [
                          0.3341910414,
                          0.8530351438
                        ]
                      },
                      {
                        "passed_time": 13.65378861,
                        "iteration": 646,
                        "remaining_time": 7.449439535,
                        "learn": [
                          0.3339884643,
                          0.8533901313
                        ]
                      },
                      {
                        "passed_time": 13.68350418,
                        "iteration": 647,
                        "remaining_time": 7.433014614,
                        "learn": [
                          0.3338892,
                          0.8533901313
                        ]
                      },
                      {
                        "passed_time": 13.7040532,
                        "iteration": 648,
                        "remaining_time": 7.411591177,
                        "learn": [
                          0.3337792803,
                          0.8535676251
                        ]
                      },
                      {
                        "passed_time": 13.72371453,
                        "iteration": 649,
                        "remaining_time": 7.38969244,
                        "learn": [
                          0.333722575,
                          0.8537451189
                        ]
                      },
                      {
                        "passed_time": 13.74463135,
                        "iteration": 650,
                        "remaining_time": 7.368473643,
                        "learn": [
                          0.3335784761,
                          0.8537451189
                        ]
                      },
                      {
                        "passed_time": 13.76197248,
                        "iteration": 651,
                        "remaining_time": 7.345347277,
                        "learn": [
                          0.333541968,
                          0.8537451189
                        ]
                      },
                      {
                        "passed_time": 13.78160938,
                        "iteration": 652,
                        "remaining_time": 7.323458581,
                        "learn": [
                          0.3334602785,
                          0.8535676251
                        ]
                      },
                      {
                        "passed_time": 13.80795795,
                        "iteration": 653,
                        "remaining_time": 7.305127599,
                        "learn": [
                          0.3333942667,
                          0.8535676251
                        ]
                      },
                      {
                        "passed_time": 13.82669426,
                        "iteration": 654,
                        "remaining_time": 7.282762623,
                        "learn": [
                          0.3333422431,
                          0.8535676251
                        ]
                      },
                      {
                        "passed_time": 13.84692525,
                        "iteration": 655,
                        "remaining_time": 7.261192508,
                        "learn": [
                          0.3332927292,
                          0.8535676251
                        ]
                      },
                      {
                        "passed_time": 13.86952463,
                        "iteration": 656,
                        "remaining_time": 7.240862936,
                        "learn": [
                          0.3332073396,
                          0.8537451189
                        ]
                      },
                      {
                        "passed_time": 13.89104285,
                        "iteration": 657,
                        "remaining_time": 7.219964523,
                        "learn": [
                          0.33289178,
                          0.8533901313
                        ]
                      },
                      {
                        "passed_time": 13.91422698,
                        "iteration": 658,
                        "remaining_time": 7.199926252,
                        "learn": [
                          0.3327792283,
                          0.8533901313
                        ]
                      },
                      {
                        "passed_time": 13.93652168,
                        "iteration": 659,
                        "remaining_time": 7.179420258,
                        "learn": [
                          0.332674107,
                          0.8533901313
                        ]
                      },
                      {
                        "passed_time": 13.95654352,
                        "iteration": 660,
                        "remaining_time": 7.157743199,
                        "learn": [
                          0.3325245137,
                          0.8533901313
                        ]
                      },
                      {
                        "passed_time": 13.97769403,
                        "iteration": 661,
                        "remaining_time": 7.136647404,
                        "learn": [
                          0.3324324693,
                          0.8542776003
                        ]
                      },
                      {
                        "passed_time": 13.99488015,
                        "iteration": 662,
                        "remaining_time": 7.113536365,
                        "learn": [
                          0.3323929531,
                          0.8542776003
                        ]
                      },
                      {
                        "passed_time": 14.01607315,
                        "iteration": 663,
                        "remaining_time": 7.09247075,
                        "learn": [
                          0.3322071085,
                          0.8539226127
                        ]
                      },
                      {
                        "passed_time": 14.03721687,
                        "iteration": 664,
                        "remaining_time": 7.071379929,
                        "learn": [
                          0.332178006,
                          0.8541001065
                        ]
                      },
                      {
                        "passed_time": 14.06024577,
                        "iteration": 665,
                        "remaining_time": 7.051234364,
                        "learn": [
                          0.3320563054,
                          0.8541001065
                        ]
                      },
                      {
                        "passed_time": 14.08152591,
                        "iteration": 666,
                        "remaining_time": 7.030207088,
                        "learn": [
                          0.3320256538,
                          0.8541001065
                        ]
                      },
                      {
                        "passed_time": 14.10316135,
                        "iteration": 667,
                        "remaining_time": 7.009355641,
                        "learn": [
                          0.331875365,
                          0.8542776003
                        ]
                      },
                      {
                        "passed_time": 14.12459078,
                        "iteration": 668,
                        "remaining_time": 6.988399924,
                        "learn": [
                          0.3317752241,
                          0.8541001065
                        ]
                      },
                      {
                        "passed_time": 14.14790381,
                        "iteration": 669,
                        "remaining_time": 6.968370532,
                        "learn": [
                          0.3317048354,
                          0.8544550941
                        ]
                      },
                      {
                        "passed_time": 14.16890745,
                        "iteration": 670,
                        "remaining_time": 6.947199034,
                        "learn": [
                          0.3316698844,
                          0.8542776003
                        ]
                      },
                      {
                        "passed_time": 14.18966661,
                        "iteration": 671,
                        "remaining_time": 6.925908704,
                        "learn": [
                          0.3315114119,
                          0.8546325879
                        ]
                      },
                      {
                        "passed_time": 14.2118402,
                        "iteration": 672,
                        "remaining_time": 6.905307198,
                        "learn": [
                          0.3314764688,
                          0.8546325879
                        ]
                      },
                      {
                        "passed_time": 14.23964593,
                        "iteration": 673,
                        "remaining_time": 6.887425183,
                        "learn": [
                          0.3312793577,
                          0.8548100816
                        ]
                      },
                      {
                        "passed_time": 14.31244004,
                        "iteration": 674,
                        "remaining_time": 6.891174836,
                        "learn": [
                          0.3311019201,
                          0.8546325879
                        ]
                      },
                      {
                        "passed_time": 14.34459336,
                        "iteration": 675,
                        "remaining_time": 6.875219302,
                        "learn": [
                          0.3309342412,
                          0.8546325879
                        ]
                      },
                      {
                        "passed_time": 14.36616697,
                        "iteration": 676,
                        "remaining_time": 6.85416829,
                        "learn": [
                          0.3307744541,
                          0.8546325879
                        ]
                      },
                      {
                        "passed_time": 14.38646595,
                        "iteration": 677,
                        "remaining_time": 6.832510377,
                        "learn": [
                          0.3306835956,
                          0.8548100816
                        ]
                      },
                      {
                        "passed_time": 14.40832807,
                        "iteration": 678,
                        "remaining_time": 6.811595449,
                        "learn": [
                          0.3305204111,
                          0.8542776003
                        ]
                      },
                      {
                        "passed_time": 14.42990378,
                        "iteration": 679,
                        "remaining_time": 6.790542953,
                        "learn": [
                          0.3303871476,
                          0.8544550941
                        ]
                      },
                      {
                        "passed_time": 14.45092648,
                        "iteration": 680,
                        "remaining_time": 6.76922988,
                        "learn": [
                          0.3303161599,
                          0.8546325879
                        ]
                      },
                      {
                        "passed_time": 14.47095416,
                        "iteration": 681,
                        "remaining_time": 6.7474537,
                        "learn": [
                          0.330225558,
                          0.8548100816
                        ]
                      },
                      {
                        "passed_time": 14.48816088,
                        "iteration": 682,
                        "remaining_time": 6.724373352,
                        "learn": [
                          0.3301719801,
                          0.8542776003
                        ]
                      },
                      {
                        "passed_time": 14.50783852,
                        "iteration": 683,
                        "remaining_time": 6.702451713,
                        "learn": [
                          0.3300359875,
                          0.8546325879
                        ]
                      },
                      {
                        "passed_time": 14.52887756,
                        "iteration": 684,
                        "remaining_time": 6.681162674,
                        "learn": [
                          0.3299297869,
                          0.8546325879
                        ]
                      },
                      {
                        "passed_time": 14.54624122,
                        "iteration": 685,
                        "remaining_time": 6.658192046,
                        "learn": [
                          0.329755012,
                          0.8548100816
                        ]
                      },
                      {
                        "passed_time": 14.56825338,
                        "iteration": 686,
                        "remaining_time": 6.637355615,
                        "learn": [
                          0.3297117843,
                          0.8549875754
                        ]
                      },
                      {
                        "passed_time": 14.58802614,
                        "iteration": 687,
                        "remaining_time": 6.615500226,
                        "learn": [
                          0.3295288823,
                          0.8549875754
                        ]
                      },
                      {
                        "passed_time": 14.60965164,
                        "iteration": 688,
                        "remaining_time": 6.594487171,
                        "learn": [
                          0.3293356892,
                          0.8549875754
                        ]
                      },
                      {
                        "passed_time": 14.63096362,
                        "iteration": 689,
                        "remaining_time": 6.57333148,
                        "learn": [
                          0.3293006149,
                          0.8549875754
                        ]
                      },
                      {
                        "passed_time": 14.65038953,
                        "iteration": 690,
                        "remaining_time": 6.551331933,
                        "learn": [
                          0.3292155768,
                          0.8549875754
                        ]
                      },
                      {
                        "passed_time": 14.67609114,
                        "iteration": 691,
                        "remaining_time": 6.53213305,
                        "learn": [
                          0.3290605376,
                          0.855342563
                        ]
                      },
                      {
                        "passed_time": 14.69545764,
                        "iteration": 692,
                        "remaining_time": 6.510108941,
                        "learn": [
                          0.328980908,
                          0.855342563
                        ]
                      },
                      {
                        "passed_time": 14.7178359,
                        "iteration": 693,
                        "remaining_time": 6.48942044,
                        "learn": [
                          0.3289025399,
                          0.8551650692
                        ]
                      },
                      {
                        "passed_time": 14.7370691,
                        "iteration": 694,
                        "remaining_time": 6.467346873,
                        "learn": [
                          0.328758481,
                          0.8555200568
                        ]
                      },
                      {
                        "passed_time": 14.75887131,
                        "iteration": 695,
                        "remaining_time": 6.446403559,
                        "learn": [
                          0.3286296887,
                          0.8555200568
                        ]
                      },
                      {
                        "passed_time": 14.78030844,
                        "iteration": 696,
                        "remaining_time": 6.425299076,
                        "learn": [
                          0.3285355185,
                          0.8555200568
                        ]
                      },
                      {
                        "passed_time": 14.80262696,
                        "iteration": 697,
                        "remaining_time": 6.404574987,
                        "learn": [
                          0.3284623345,
                          0.8555200568
                        ]
                      },
                      {
                        "passed_time": 14.82364726,
                        "iteration": 698,
                        "remaining_time": 6.383287305,
                        "learn": [
                          0.3283493545,
                          0.8556975506
                        ]
                      },
                      {
                        "passed_time": 14.84410857,
                        "iteration": 699,
                        "remaining_time": 6.361760816,
                        "learn": [
                          0.3283247592,
                          0.8556975506
                        ]
                      },
                      {
                        "passed_time": 14.86432421,
                        "iteration": 700,
                        "remaining_time": 6.34013258,
                        "learn": [
                          0.3281892891,
                          0.8558750444
                        ]
                      },
                      {
                        "passed_time": 14.88550474,
                        "iteration": 701,
                        "remaining_time": 6.318917965,
                        "learn": [
                          0.3281369492,
                          0.8558750444
                        ]
                      },
                      {
                        "passed_time": 14.90997223,
                        "iteration": 702,
                        "remaining_time": 6.299092109,
                        "learn": [
                          0.3280928541,
                          0.8556975506
                        ]
                      },
                      {
                        "passed_time": 14.93014765,
                        "iteration": 703,
                        "remaining_time": 6.277448442,
                        "learn": [
                          0.3279191756,
                          0.8560525382
                        ]
                      },
                      {
                        "passed_time": 14.95074279,
                        "iteration": 704,
                        "remaining_time": 6.25598457,
                        "learn": [
                          0.3277349706,
                          0.8562300319
                        ]
                      },
                      {
                        "passed_time": 14.97170576,
                        "iteration": 705,
                        "remaining_time": 6.234676335,
                        "learn": [
                          0.3276105085,
                          0.8560525382
                        ]
                      },
                      {
                        "passed_time": 14.99175837,
                        "iteration": 706,
                        "remaining_time": 6.212991798,
                        "learn": [
                          0.3275098333,
                          0.8560525382
                        ]
                      },
                      {
                        "passed_time": 15.0130741,
                        "iteration": 707,
                        "remaining_time": 6.19183282,
                        "learn": [
                          0.3274741783,
                          0.8560525382
                        ]
                      },
                      {
                        "passed_time": 15.03279145,
                        "iteration": 708,
                        "remaining_time": 6.170017367,
                        "learn": [
                          0.3273458676,
                          0.8558750444
                        ]
                      },
                      {
                        "passed_time": 15.04968971,
                        "iteration": 709,
                        "remaining_time": 6.147056359,
                        "learn": [
                          0.327236812,
                          0.8564075257
                        ]
                      },
                      {
                        "passed_time": 15.07166935,
                        "iteration": 710,
                        "remaining_time": 6.126177837,
                        "learn": [
                          0.3271513047,
                          0.8565850195
                        ]
                      },
                      {
                        "passed_time": 15.09271014,
                        "iteration": 711,
                        "remaining_time": 6.104916461,
                        "learn": [
                          0.327049224,
                          0.8567625133
                        ]
                      },
                      {
                        "passed_time": 15.11299289,
                        "iteration": 712,
                        "remaining_time": 6.083350574,
                        "learn": [
                          0.3269824692,
                          0.8569400071
                        ]
                      },
                      {
                        "passed_time": 15.13348162,
                        "iteration": 713,
                        "remaining_time": 6.061870787,
                        "learn": [
                          0.3267582332,
                          0.8574724885
                        ]
                      },
                      {
                        "passed_time": 15.1545236,
                        "iteration": 714,
                        "remaining_time": 6.040614303,
                        "learn": [
                          0.3267018572,
                          0.8571175009
                        ]
                      },
                      {
                        "passed_time": 15.1726654,
                        "iteration": 715,
                        "remaining_time": 6.018208064,
                        "learn": [
                          0.3264056505,
                          0.8580049698
                        ]
                      },
                      {
                        "passed_time": 15.1946926,
                        "iteration": 716,
                        "remaining_time": 5.997347289,
                        "learn": [
                          0.3262884287,
                          0.8580049698
                        ]
                      },
                      {
                        "passed_time": 15.21600458,
                        "iteration": 717,
                        "remaining_time": 5.976202355,
                        "learn": [
                          0.3261051491,
                          0.8580049698
                        ]
                      },
                      {
                        "passed_time": 15.23886343,
                        "iteration": 718,
                        "remaining_time": 5.955661509,
                        "learn": [
                          0.3260797642,
                          0.8580049698
                        ]
                      },
                      {
                        "passed_time": 15.25748018,
                        "iteration": 719,
                        "remaining_time": 5.933464514,
                        "learn": [
                          0.3260735776,
                          0.857827476
                        ]
                      },
                      {
                        "passed_time": 15.31376615,
                        "iteration": 720,
                        "remaining_time": 5.925854029,
                        "learn": [
                          0.3260434099,
                          0.8580049698
                        ]
                      },
                      {
                        "passed_time": 15.3728984,
                        "iteration": 721,
                        "remaining_time": 5.919204648,
                        "learn": [
                          0.326015907,
                          0.857827476
                        ]
                      },
                      {
                        "passed_time": 15.39288909,
                        "iteration": 722,
                        "remaining_time": 5.89741394,
                        "learn": [
                          0.3259828225,
                          0.857827476
                        ]
                      },
                      {
                        "passed_time": 15.41595793,
                        "iteration": 723,
                        "remaining_time": 5.87680164,
                        "learn": [
                          0.3259032052,
                          0.8580049698
                        ]
                      },
                      {
                        "passed_time": 15.43707802,
                        "iteration": 724,
                        "remaining_time": 5.855443389,
                        "learn": [
                          0.3258917252,
                          0.8581824636
                        ]
                      },
                      {
                        "passed_time": 15.45943599,
                        "iteration": 725,
                        "remaining_time": 5.834552978,
                        "learn": [
                          0.3258361688,
                          0.8580049698
                        ]
                      },
                      {
                        "passed_time": 15.47386794,
                        "iteration": 726,
                        "remaining_time": 5.810682184,
                        "learn": [
                          0.325750265,
                          0.8580049698
                        ]
                      },
                      {
                        "passed_time": 15.49486451,
                        "iteration": 727,
                        "remaining_time": 5.789290038,
                        "learn": [
                          0.3256356465,
                          0.8581824636
                        ]
                      },
                      {
                        "passed_time": 15.51648003,
                        "iteration": 728,
                        "remaining_time": 5.768129065,
                        "learn": [
                          0.3255369634,
                          0.8585374512
                        ]
                      },
                      {
                        "passed_time": 15.53543725,
                        "iteration": 729,
                        "remaining_time": 5.745983642,
                        "learn": [
                          0.32538524,
                          0.8588924388
                        ]
                      },
                      {
                        "passed_time": 15.55415155,
                        "iteration": 730,
                        "remaining_time": 5.723757546,
                        "learn": [
                          0.325342375,
                          0.8588924388
                        ]
                      },
                      {
                        "passed_time": 15.57377418,
                        "iteration": 731,
                        "remaining_time": 5.701873605,
                        "learn": [
                          0.3253103939,
                          0.8588924388
                        ]
                      },
                      {
                        "passed_time": 15.59318178,
                        "iteration": 732,
                        "remaining_time": 5.67991751,
                        "learn": [
                          0.325209506,
                          0.8590699326
                        ]
                      },
                      {
                        "passed_time": 15.61622146,
                        "iteration": 733,
                        "remaining_time": 5.659284618,
                        "learn": [
                          0.3250884907,
                          0.8592474263
                        ]
                      },
                      {
                        "passed_time": 15.63721266,
                        "iteration": 734,
                        "remaining_time": 5.637906606,
                        "learn": [
                          0.3249870871,
                          0.8594249201
                        ]
                      },
                      {
                        "passed_time": 15.65634649,
                        "iteration": 735,
                        "remaining_time": 5.615863414,
                        "learn": [
                          0.32493243,
                          0.8594249201
                        ]
                      },
                      {
                        "passed_time": 15.68402153,
                        "iteration": 736,
                        "remaining_time": 5.596876067,
                        "learn": [
                          0.3249170541,
                          0.8594249201
                        ]
                      },
                      {
                        "passed_time": 15.70173684,
                        "iteration": 737,
                        "remaining_time": 5.574329338,
                        "learn": [
                          0.3248506643,
                          0.8594249201
                        ]
                      },
                      {
                        "passed_time": 15.72015971,
                        "iteration": 738,
                        "remaining_time": 5.552045583,
                        "learn": [
                          0.3247149156,
                          0.8592474263
                        ]
                      },
                      {
                        "passed_time": 15.74240474,
                        "iteration": 739,
                        "remaining_time": 5.53111518,
                        "learn": [
                          0.32452222,
                          0.8594249201
                        ]
                      },
                      {
                        "passed_time": 15.76331352,
                        "iteration": 740,
                        "remaining_time": 5.509714173,
                        "learn": [
                          0.3245111784,
                          0.8594249201
                        ]
                      },
                      {
                        "passed_time": 15.78595127,
                        "iteration": 741,
                        "remaining_time": 5.488915669,
                        "learn": [
                          0.3244533209,
                          0.8596024139
                        ]
                      },
                      {
                        "passed_time": 15.80748294,
                        "iteration": 742,
                        "remaining_time": 5.467729632,
                        "learn": [
                          0.3243925447,
                          0.8596024139
                        ]
                      },
                      {
                        "passed_time": 15.82763831,
                        "iteration": 743,
                        "remaining_time": 5.446069096,
                        "learn": [
                          0.3243468937,
                          0.8594249201
                        ]
                      },
                      {
                        "passed_time": 15.85482145,
                        "iteration": 744,
                        "remaining_time": 5.426818081,
                        "learn": [
                          0.3243105406,
                          0.8594249201
                        ]
                      },
                      {
                        "passed_time": 15.87466222,
                        "iteration": 745,
                        "remaining_time": 5.405045849,
                        "learn": [
                          0.3241500293,
                          0.8594249201
                        ]
                      },
                      {
                        "passed_time": 15.89671516,
                        "iteration": 746,
                        "remaining_time": 5.384028026,
                        "learn": [
                          0.3240090659,
                          0.8596024139
                        ]
                      },
                      {
                        "passed_time": 15.915171,
                        "iteration": 747,
                        "remaining_time": 5.361795579,
                        "learn": [
                          0.3239149226,
                          0.8596024139
                        ]
                      },
                      {
                        "passed_time": 15.93449936,
                        "iteration": 748,
                        "remaining_time": 5.339865607,
                        "learn": [
                          0.3238978448,
                          0.8594249201
                        ]
                      },
                      {
                        "passed_time": 15.95515665,
                        "iteration": 749,
                        "remaining_time": 5.318385551,
                        "learn": [
                          0.3238593878,
                          0.8594249201
                        ]
                      },
                      {
                        "passed_time": 15.97907798,
                        "iteration": 750,
                        "remaining_time": 5.297989903,
                        "learn": [
                          0.3237687029,
                          0.8596024139
                        ]
                      },
                      {
                        "passed_time": 15.99898636,
                        "iteration": 751,
                        "remaining_time": 5.27626146,
                        "learn": [
                          0.3237036869,
                          0.8596024139
                        ]
                      },
                      {
                        "passed_time": 16.01997995,
                        "iteration": 752,
                        "remaining_time": 5.254893823,
                        "learn": [
                          0.3236569294,
                          0.8596024139
                        ]
                      },
                      {
                        "passed_time": 16.04083503,
                        "iteration": 753,
                        "remaining_time": 5.233481986,
                        "learn": [
                          0.323612785,
                          0.8594249201
                        ]
                      },
                      {
                        "passed_time": 16.06254466,
                        "iteration": 754,
                        "remaining_time": 5.212348929,
                        "learn": [
                          0.3235707517,
                          0.8594249201
                        ]
                      },
                      {
                        "passed_time": 16.08493645,
                        "iteration": 755,
                        "remaining_time": 5.191434515,
                        "learn": [
                          0.323446186,
                          0.8601348953
                        ]
                      },
                      {
                        "passed_time": 16.09824574,
                        "iteration": 756,
                        "remaining_time": 5.167600682,
                        "learn": [
                          0.3234446592,
                          0.8599574015
                        ]
                      },
                      {
                        "passed_time": 16.11612022,
                        "iteration": 757,
                        "remaining_time": 5.145252101,
                        "learn": [
                          0.3234309722,
                          0.8599574015
                        ]
                      },
                      {
                        "passed_time": 16.13711079,
                        "iteration": 758,
                        "remaining_time": 5.123904745,
                        "learn": [
                          0.323339941,
                          0.8596024139
                        ]
                      },
                      {
                        "passed_time": 16.15725469,
                        "iteration": 759,
                        "remaining_time": 5.102290955,
                        "learn": [
                          0.323245286,
                          0.8599574015
                        ]
                      },
                      {
                        "passed_time": 16.17792991,
                        "iteration": 760,
                        "remaining_time": 5.080847896,
                        "learn": [
                          0.3231599054,
                          0.8599574015
                        ]
                      },
                      {
                        "passed_time": 16.1950691,
                        "iteration": 761,
                        "remaining_time": 5.058302422,
                        "learn": [
                          0.323114848,
                          0.8599574015
                        ]
                      },
                      {
                        "passed_time": 16.21885277,
                        "iteration": 762,
                        "remaining_time": 5.037835001,
                        "learn": [
                          0.3229502107,
                          0.8596024139
                        ]
                      },
                      {
                        "passed_time": 16.24147152,
                        "iteration": 763,
                        "remaining_time": 5.016999057,
                        "learn": [
                          0.3229253857,
                          0.8596024139
                        ]
                      },
                      {
                        "passed_time": 16.26298806,
                        "iteration": 764,
                        "remaining_time": 4.995819861,
                        "learn": [
                          0.3228530741,
                          0.8599574015
                        ]
                      },
                      {
                        "passed_time": 16.28322635,
                        "iteration": 765,
                        "remaining_time": 4.974249303,
                        "learn": [
                          0.3227893867,
                          0.8603123891
                        ]
                      },
                      {
                        "passed_time": 16.33514341,
                        "iteration": 766,
                        "remaining_time": 4.962305626,
                        "learn": [
                          0.3227795993,
                          0.8603123891
                        ]
                      },
                      {
                        "passed_time": 16.40721165,
                        "iteration": 767,
                        "remaining_time": 4.956345185,
                        "learn": [
                          0.3226915679,
                          0.8604898829
                        ]
                      },
                      {
                        "passed_time": 16.43288748,
                        "iteration": 768,
                        "remaining_time": 4.936276994,
                        "learn": [
                          0.3224635836,
                          0.8608448704
                        ]
                      },
                      {
                        "passed_time": 16.45656742,
                        "iteration": 769,
                        "remaining_time": 4.91559806,
                        "learn": [
                          0.3222747497,
                          0.8608448704
                        ]
                      },
                      {
                        "passed_time": 16.47868819,
                        "iteration": 770,
                        "remaining_time": 4.894448243,
                        "learn": [
                          0.3221897081,
                          0.8606673766
                        ]
                      },
                      {
                        "passed_time": 16.48838508,
                        "iteration": 771,
                        "remaining_time": 4.869626681,
                        "learn": [
                          0.3221887252,
                          0.8606673766
                        ]
                      },
                      {
                        "passed_time": 16.50996023,
                        "iteration": 772,
                        "remaining_time": 4.848332434,
                        "learn": [
                          0.3220731935,
                          0.8603123891
                        ]
                      },
                      {
                        "passed_time": 16.53116771,
                        "iteration": 773,
                        "remaining_time": 4.826930105,
                        "learn": [
                          0.3220288255,
                          0.8608448704
                        ]
                      },
                      {
                        "passed_time": 16.5511467,
                        "iteration": 774,
                        "remaining_time": 4.805171621,
                        "learn": [
                          0.3217434662,
                          0.8610223642
                        ]
                      },
                      {
                        "passed_time": 16.57032278,
                        "iteration": 775,
                        "remaining_time": 4.783185957,
                        "learn": [
                          0.3216614382,
                          0.861199858
                        ]
                      },
                      {
                        "passed_time": 16.59069038,
                        "iteration": 776,
                        "remaining_time": 4.761549491,
                        "learn": [
                          0.3215270875,
                          0.8615548456
                        ]
                      },
                      {
                        "passed_time": 16.6111732,
                        "iteration": 777,
                        "remaining_time": 4.739949165,
                        "learn": [
                          0.3213762278,
                          0.8615548456
                        ]
                      },
                      {
                        "passed_time": 16.63175839,
                        "iteration": 778,
                        "remaining_time": 4.718380749,
                        "learn": [
                          0.3213474395,
                          0.8613773518
                        ]
                      },
                      {
                        "passed_time": 16.65373566,
                        "iteration": 779,
                        "remaining_time": 4.697207494,
                        "learn": [
                          0.3212876658,
                          0.861199858
                        ]
                      },
                      {
                        "passed_time": 16.68149823,
                        "iteration": 780,
                        "remaining_time": 4.677654433,
                        "learn": [
                          0.3211871863,
                          0.8619098332
                        ]
                      },
                      {
                        "passed_time": 16.70330786,
                        "iteration": 781,
                        "remaining_time": 4.656420862,
                        "learn": [
                          0.3210806888,
                          0.8619098332
                        ]
                      },
                      {
                        "passed_time": 16.72155242,
                        "iteration": 782,
                        "remaining_time": 4.634197797,
                        "learn": [
                          0.3210385344,
                          0.8617323394
                        ]
                      },
                      {
                        "passed_time": 16.74212646,
                        "iteration": 783,
                        "remaining_time": 4.612626678,
                        "learn": [
                          0.3208949255,
                          0.8613773518
                        ]
                      },
                      {
                        "passed_time": 16.76299201,
                        "iteration": 784,
                        "remaining_time": 4.591137939,
                        "learn": [
                          0.3208542212,
                          0.8613773518
                        ]
                      },
                      {
                        "passed_time": 16.78523967,
                        "iteration": 785,
                        "remaining_time": 4.570027086,
                        "learn": [
                          0.3207876357,
                          0.8617323394
                        ]
                      },
                      {
                        "passed_time": 16.80535282,
                        "iteration": 786,
                        "remaining_time": 4.548335642,
                        "learn": [
                          0.3207343594,
                          0.8619098332
                        ]
                      },
                      {
                        "passed_time": 16.82608885,
                        "iteration": 787,
                        "remaining_time": 4.526815781,
                        "learn": [
                          0.3207188228,
                          0.8619098332
                        ]
                      },
                      {
                        "passed_time": 16.84864501,
                        "iteration": 788,
                        "remaining_time": 4.505784661,
                        "learn": [
                          0.3205714017,
                          0.8615548456
                        ]
                      },
                      {
                        "passed_time": 16.87589621,
                        "iteration": 789,
                        "remaining_time": 4.485997727,
                        "learn": [
                          0.3205213759,
                          0.8617323394
                        ]
                      },
                      {
                        "passed_time": 16.89577509,
                        "iteration": 790,
                        "remaining_time": 4.464243987,
                        "learn": [
                          0.320482158,
                          0.8617323394
                        ]
                      },
                      {
                        "passed_time": 16.91493229,
                        "iteration": 791,
                        "remaining_time": 4.44230545,
                        "learn": [
                          0.3203839695,
                          0.8617323394
                        ]
                      },
                      {
                        "passed_time": 16.93681969,
                        "iteration": 792,
                        "remaining_time": 4.421086603,
                        "learn": [
                          0.3203294526,
                          0.8615548456
                        ]
                      },
                      {
                        "passed_time": 16.95698697,
                        "iteration": 793,
                        "remaining_time": 4.399419794,
                        "learn": [
                          0.3202382097,
                          0.8615548456
                        ]
                      },
                      {
                        "passed_time": 16.97868525,
                        "iteration": 794,
                        "remaining_time": 4.378151543,
                        "learn": [
                          0.3201930195,
                          0.8615548456
                        ]
                      },
                      {
                        "passed_time": 16.99680033,
                        "iteration": 795,
                        "remaining_time": 4.355963904,
                        "learn": [
                          0.3201413027,
                          0.8617323394
                        ]
                      },
                      {
                        "passed_time": 17.01739344,
                        "iteration": 796,
                        "remaining_time": 4.334417652,
                        "learn": [
                          0.3200444962,
                          0.8620873269
                        ]
                      },
                      {
                        "passed_time": 17.03805596,
                        "iteration": 797,
                        "remaining_time": 4.312891357,
                        "learn": [
                          0.319991116,
                          0.8619098332
                        ]
                      },
                      {
                        "passed_time": 17.05810607,
                        "iteration": 798,
                        "remaining_time": 4.291213166,
                        "learn": [
                          0.3199221068,
                          0.8620873269
                        ]
                      },
                      {
                        "passed_time": 17.07982897,
                        "iteration": 799,
                        "remaining_time": 4.269957242,
                        "learn": [
                          0.3198475354,
                          0.8620873269
                        ]
                      },
                      {
                        "passed_time": 17.09772544,
                        "iteration": 800,
                        "remaining_time": 4.247749516,
                        "learn": [
                          0.3197845006,
                          0.8620873269
                        ]
                      },
                      {
                        "passed_time": 17.11988134,
                        "iteration": 801,
                        "remaining_time": 4.226604121,
                        "learn": [
                          0.3197236288,
                          0.8620873269
                        ]
                      },
                      {
                        "passed_time": 17.14152481,
                        "iteration": 802,
                        "remaining_time": 4.205330494,
                        "learn": [
                          0.3195965574,
                          0.8620873269
                        ]
                      },
                      {
                        "passed_time": 17.16240923,
                        "iteration": 803,
                        "remaining_time": 4.183870906,
                        "learn": [
                          0.3195675235,
                          0.8619098332
                        ]
                      },
                      {
                        "passed_time": 17.18289459,
                        "iteration": 804,
                        "remaining_time": 4.16231608,
                        "learn": [
                          0.3195486199,
                          0.8619098332
                        ]
                      },
                      {
                        "passed_time": 17.20243159,
                        "iteration": 805,
                        "remaining_time": 4.140535644,
                        "learn": [
                          0.3195107471,
                          0.8620873269
                        ]
                      },
                      {
                        "passed_time": 17.22300083,
                        "iteration": 806,
                        "remaining_time": 4.119007633,
                        "learn": [
                          0.3194700683,
                          0.8620873269
                        ]
                      },
                      {
                        "passed_time": 17.24255671,
                        "iteration": 807,
                        "remaining_time": 4.097241198,
                        "learn": [
                          0.3193189059,
                          0.8620873269
                        ]
                      },
                      {
                        "passed_time": 17.26261838,
                        "iteration": 808,
                        "remaining_time": 4.075599643,
                        "learn": [
                          0.3192921757,
                          0.8620873269
                        ]
                      },
                      {
                        "passed_time": 17.28335038,
                        "iteration": 809,
                        "remaining_time": 4.054119225,
                        "learn": [
                          0.3192076242,
                          0.8619098332
                        ]
                      },
                      {
                        "passed_time": 17.30556255,
                        "iteration": 810,
                        "remaining_time": 4.032985601,
                        "learn": [
                          0.3191152391,
                          0.8624423145
                        ]
                      },
                      {
                        "passed_time": 17.32313347,
                        "iteration": 811,
                        "remaining_time": 4.010774744,
                        "learn": [
                          0.3190548858,
                          0.8624423145
                        ]
                      },
                      {
                        "passed_time": 17.37250693,
                        "iteration": 812,
                        "remaining_time": 3.995890279,
                        "learn": [
                          0.3189947417,
                          0.8627973021
                        ]
                      },
                      {
                        "passed_time": 17.4378229,
                        "iteration": 813,
                        "remaining_time": 3.984563955,
                        "learn": [
                          0.3189082732,
                          0.8626198083
                        ]
                      },
                      {
                        "passed_time": 17.46063925,
                        "iteration": 814,
                        "remaining_time": 3.963457989,
                        "learn": [
                          0.3188340388,
                          0.8626198083
                        ]
                      },
                      {
                        "passed_time": 17.48309233,
                        "iteration": 815,
                        "remaining_time": 3.942265919,
                        "learn": [
                          0.3187830865,
                          0.8626198083
                        ]
                      },
                      {
                        "passed_time": 17.50575212,
                        "iteration": 816,
                        "remaining_time": 3.921117059,
                        "learn": [
                          0.3186486891,
                          0.8626198083
                        ]
                      },
                      {
                        "passed_time": 17.51481184,
                        "iteration": 817,
                        "remaining_time": 3.896938576,
                        "learn": [
                          0.3186477887,
                          0.8626198083
                        ]
                      },
                      {
                        "passed_time": 17.53187314,
                        "iteration": 818,
                        "remaining_time": 3.87456537,
                        "learn": [
                          0.3185519878,
                          0.8624423145
                        ]
                      },
                      {
                        "passed_time": 17.55361047,
                        "iteration": 819,
                        "remaining_time": 3.853231567,
                        "learn": [
                          0.3185040532,
                          0.8629747959
                        ]
                      },
                      {
                        "passed_time": 17.57362323,
                        "iteration": 820,
                        "remaining_time": 3.831520776,
                        "learn": [
                          0.318350039,
                          0.8626198083
                        ]
                      },
                      {
                        "passed_time": 17.59358311,
                        "iteration": 821,
                        "remaining_time": 3.809802668,
                        "learn": [
                          0.3181808113,
                          0.8624423145
                        ]
                      },
                      {
                        "passed_time": 17.61685743,
                        "iteration": 822,
                        "remaining_time": 3.788801659,
                        "learn": [
                          0.3181223366,
                          0.8624423145
                        ]
                      },
                      {
                        "passed_time": 17.63763089,
                        "iteration": 823,
                        "remaining_time": 3.767260968,
                        "learn": [
                          0.3180581038,
                          0.8624423145
                        ]
                      },
                      {
                        "passed_time": 17.65669391,
                        "iteration": 824,
                        "remaining_time": 3.745359315,
                        "learn": [
                          0.317926961,
                          0.8626198083
                        ]
                      },
                      {
                        "passed_time": 17.68085256,
                        "iteration": 825,
                        "remaining_time": 3.724537949,
                        "learn": [
                          0.3178798058,
                          0.8624423145
                        ]
                      },
                      {
                        "passed_time": 17.70715251,
                        "iteration": 826,
                        "remaining_time": 3.704156449,
                        "learn": [
                          0.3177826089,
                          0.8622648207
                        ]
                      },
                      {
                        "passed_time": 17.7284435,
                        "iteration": 827,
                        "remaining_time": 3.682720146,
                        "learn": [
                          0.3176193068,
                          0.8626198083
                        ]
                      },
                      {
                        "passed_time": 17.75203449,
                        "iteration": 828,
                        "remaining_time": 3.661758623,
                        "learn": [
                          0.3175643068,
                          0.8627973021
                        ]
                      },
                      {
                        "passed_time": 17.77216521,
                        "iteration": 829,
                        "remaining_time": 3.64008203,
                        "learn": [
                          0.3175318287,
                          0.8627973021
                        ]
                      },
                      {
                        "passed_time": 17.79355042,
                        "iteration": 830,
                        "remaining_time": 3.618664286,
                        "learn": [
                          0.3174619564,
                          0.8631522897
                        ]
                      },
                      {
                        "passed_time": 17.81197291,
                        "iteration": 831,
                        "remaining_time": 3.596648376,
                        "learn": [
                          0.3173868351,
                          0.8629747959
                        ]
                      },
                      {
                        "passed_time": 17.82929042,
                        "iteration": 832,
                        "remaining_time": 3.574419568,
                        "learn": [
                          0.3173242322,
                          0.8629747959
                        ]
                      },
                      {
                        "passed_time": 17.85553215,
                        "iteration": 833,
                        "remaining_time": 3.553978821,
                        "learn": [
                          0.317238402,
                          0.8629747959
                        ]
                      },
                      {
                        "passed_time": 17.87830584,
                        "iteration": 834,
                        "remaining_time": 3.532838878,
                        "learn": [
                          0.3170661913,
                          0.8631522897
                        ]
                      },
                      {
                        "passed_time": 17.89867256,
                        "iteration": 835,
                        "remaining_time": 3.511222847,
                        "learn": [
                          0.3170387477,
                          0.8631522897
                        ]
                      },
                      {
                        "passed_time": 17.92022847,
                        "iteration": 836,
                        "remaining_time": 3.489841388,
                        "learn": [
                          0.3169808369,
                          0.8629747959
                        ]
                      },
                      {
                        "passed_time": 17.94072249,
                        "iteration": 837,
                        "remaining_time": 3.468254229,
                        "learn": [
                          0.3169419839,
                          0.8629747959
                        ]
                      },
                      {
                        "passed_time": 17.96276164,
                        "iteration": 838,
                        "remaining_time": 3.446966179,
                        "learn": [
                          0.3168630861,
                          0.8629747959
                        ]
                      },
                      {
                        "passed_time": 17.98414555,
                        "iteration": 839,
                        "remaining_time": 3.425551534,
                        "learn": [
                          0.3167915718,
                          0.8629747959
                        ]
                      },
                      {
                        "passed_time": 18.0055282,
                        "iteration": 840,
                        "remaining_time": 3.404136722,
                        "learn": [
                          0.316684795,
                          0.8629747959
                        ]
                      },
                      {
                        "passed_time": 18.02582808,
                        "iteration": 841,
                        "remaining_time": 3.382518809,
                        "learn": [
                          0.3166460727,
                          0.8629747959
                        ]
                      },
                      {
                        "passed_time": 18.04853845,
                        "iteration": 842,
                        "remaining_time": 3.36135295,
                        "learn": [
                          0.3165655406,
                          0.8631522897
                        ]
                      },
                      {
                        "passed_time": 18.06842363,
                        "iteration": 843,
                        "remaining_time": 3.339661239,
                        "learn": [
                          0.3164331027,
                          0.8635072772
                        ]
                      },
                      {
                        "passed_time": 18.08903465,
                        "iteration": 844,
                        "remaining_time": 3.318106948,
                        "learn": [
                          0.3163898277,
                          0.8635072772
                        ]
                      },
                      {
                        "passed_time": 18.10930419,
                        "iteration": 845,
                        "remaining_time": 3.296492726,
                        "learn": [
                          0.3162423268,
                          0.8633297835
                        ]
                      },
                      {
                        "passed_time": 18.13053932,
                        "iteration": 846,
                        "remaining_time": 3.2750561,
                        "learn": [
                          0.3161817304,
                          0.863684771
                        ]
                      },
                      {
                        "passed_time": 18.15222439,
                        "iteration": 847,
                        "remaining_time": 3.253700598,
                        "learn": [
                          0.3161166301,
                          0.8638622648
                        ]
                      },
                      {
                        "passed_time": 18.17477358,
                        "iteration": 848,
                        "remaining_time": 3.23249801,
                        "learn": [
                          0.3160907255,
                          0.863684771
                        ]
                      },
                      {
                        "passed_time": 18.19655343,
                        "iteration": 849,
                        "remaining_time": 3.211156487,
                        "learn": [
                          0.3160459,
                          0.8635072772
                        ]
                      },
                      {
                        "passed_time": 18.21684783,
                        "iteration": 850,
                        "remaining_time": 3.18955385,
                        "learn": [
                          0.3160106079,
                          0.863684771
                        ]
                      },
                      {
                        "passed_time": 18.23633847,
                        "iteration": 851,
                        "remaining_time": 3.167814663,
                        "learn": [
                          0.3159365136,
                          0.863684771
                        ]
                      },
                      {
                        "passed_time": 18.25738421,
                        "iteration": 852,
                        "remaining_time": 3.146348743,
                        "learn": [
                          0.3158726487,
                          0.863684771
                        ]
                      },
                      {
                        "passed_time": 18.27813999,
                        "iteration": 853,
                        "remaining_time": 3.124834237,
                        "learn": [
                          0.3157870636,
                          0.8635072772
                        ]
                      },
                      {
                        "passed_time": 18.29648806,
                        "iteration": 854,
                        "remaining_time": 3.102913181,
                        "learn": [
                          0.3157217658,
                          0.8635072772
                        ]
                      },
                      {
                        "passed_time": 18.31857199,
                        "iteration": 855,
                        "remaining_time": 3.081628934,
                        "learn": [
                          0.3156013422,
                          0.8640397586
                        ]
                      },
                      {
                        "passed_time": 18.33848071,
                        "iteration": 856,
                        "remaining_time": 3.059979861,
                        "learn": [
                          0.3155756317,
                          0.8640397586
                        ]
                      },
                      {
                        "passed_time": 18.36042891,
                        "iteration": 857,
                        "remaining_time": 3.038672383,
                        "learn": [
                          0.315469412,
                          0.8638622648
                        ]
                      },
                      {
                        "passed_time": 18.41293682,
                        "iteration": 858,
                        "remaining_time": 3.022379618,
                        "learn": [
                          0.315358918,
                          0.8642172524
                        ]
                      },
                      {
                        "passed_time": 18.45957154,
                        "iteration": 859,
                        "remaining_time": 3.005046529,
                        "learn": [
                          0.3152641205,
                          0.8643947462
                        ]
                      },
                      {
                        "passed_time": 18.48759942,
                        "iteration": 860,
                        "remaining_time": 2.984641485,
                        "learn": [
                          0.3151844127,
                          0.8642172524
                        ]
                      },
                      {
                        "passed_time": 18.5266681,
                        "iteration": 861,
                        "remaining_time": 2.965986308,
                        "learn": [
                          0.3151034799,
                          0.8640397586
                        ]
                      },
                      {
                        "passed_time": 18.55528448,
                        "iteration": 862,
                        "remaining_time": 2.945624535,
                        "learn": [
                          0.3149910471,
                          0.8638622648
                        ]
                      },
                      {
                        "passed_time": 18.57366328,
                        "iteration": 863,
                        "remaining_time": 2.923632184,
                        "learn": [
                          0.3149243081,
                          0.8640397586
                        ]
                      },
                      {
                        "passed_time": 18.59369522,
                        "iteration": 864,
                        "remaining_time": 2.901906191,
                        "learn": [
                          0.3148163255,
                          0.8640397586
                        ]
                      },
                      {
                        "passed_time": 18.61351075,
                        "iteration": 865,
                        "remaining_time": 2.880150624,
                        "learn": [
                          0.3146538251,
                          0.8640397586
                        ]
                      },
                      {
                        "passed_time": 18.63352348,
                        "iteration": 866,
                        "remaining_time": 2.858429784,
                        "learn": [
                          0.3145781639,
                          0.8640397586
                        ]
                      },
                      {
                        "passed_time": 18.6530196,
                        "iteration": 867,
                        "remaining_time": 2.836634317,
                        "learn": [
                          0.314513069,
                          0.8638622648
                        ]
                      },
                      {
                        "passed_time": 18.67118261,
                        "iteration": 868,
                        "remaining_time": 2.814643178,
                        "learn": [
                          0.3144402711,
                          0.8638622648
                        ]
                      },
                      {
                        "passed_time": 18.69808798,
                        "iteration": 869,
                        "remaining_time": 2.793967169,
                        "learn": [
                          0.3143012233,
                          0.863684771
                        ]
                      },
                      {
                        "passed_time": 18.71849156,
                        "iteration": 870,
                        "remaining_time": 2.772313905,
                        "learn": [
                          0.3142541482,
                          0.8635072772
                        ]
                      },
                      {
                        "passed_time": 18.74028943,
                        "iteration": 871,
                        "remaining_time": 2.750868173,
                        "learn": [
                          0.314143551,
                          0.8638622648
                        ]
                      },
                      {
                        "passed_time": 18.76151172,
                        "iteration": 872,
                        "remaining_time": 2.729337902,
                        "learn": [
                          0.3140167417,
                          0.8642172524
                        ]
                      },
                      {
                        "passed_time": 18.77344521,
                        "iteration": 873,
                        "remaining_time": 2.706469218,
                        "learn": [
                          0.3140069171,
                          0.8642172524
                        ]
                      },
                      {
                        "passed_time": 18.79511806,
                        "iteration": 874,
                        "remaining_time": 2.685016866,
                        "learn": [
                          0.3139400753,
                          0.8640397586
                        ]
                      },
                      {
                        "passed_time": 18.81601656,
                        "iteration": 875,
                        "remaining_time": 2.663454399,
                        "learn": [
                          0.3139221584,
                          0.8640397586
                        ]
                      },
                      {
                        "passed_time": 18.83309079,
                        "iteration": 876,
                        "remaining_time": 2.641357089,
                        "learn": [
                          0.3138406116,
                          0.8643947462
                        ]
                      },
                      {
                        "passed_time": 18.85579914,
                        "iteration": 877,
                        "remaining_time": 2.620054095,
                        "learn": [
                          0.3138012298,
                          0.8643947462
                        ]
                      },
                      {
                        "passed_time": 18.87442654,
                        "iteration": 878,
                        "remaining_time": 2.598186134,
                        "learn": [
                          0.313609438,
                          0.8640397586
                        ]
                      },
                      {
                        "passed_time": 18.89264829,
                        "iteration": 879,
                        "remaining_time": 2.576270222,
                        "learn": [
                          0.3135146981,
                          0.86457224
                        ]
                      },
                      {
                        "passed_time": 18.91206067,
                        "iteration": 880,
                        "remaining_time": 2.554523518,
                        "learn": [
                          0.3134907043,
                          0.86457224
                        ]
                      },
                      {
                        "passed_time": 18.93485377,
                        "iteration": 881,
                        "remaining_time": 2.533234405,
                        "learn": [
                          0.3134180077,
                          0.8647497338
                        ]
                      },
                      {
                        "passed_time": 18.95451096,
                        "iteration": 882,
                        "remaining_time": 2.511526368,
                        "learn": [
                          0.3133100249,
                          0.8643947462
                        ]
                      },
                      {
                        "passed_time": 18.97526934,
                        "iteration": 883,
                        "remaining_time": 2.48996747,
                        "learn": [
                          0.3132640751,
                          0.8647497338
                        ]
                      },
                      {
                        "passed_time": 18.99525176,
                        "iteration": 884,
                        "remaining_time": 2.46830955,
                        "learn": [
                          0.3131689265,
                          0.86457224
                        ]
                      },
                      {
                        "passed_time": 19.01315789,
                        "iteration": 885,
                        "remaining_time": 2.446388261,
                        "learn": [
                          0.3131604726,
                          0.86457224
                        ]
                      },
                      {
                        "passed_time": 19.03370085,
                        "iteration": 886,
                        "remaining_time": 2.424811946,
                        "learn": [
                          0.3130205,
                          0.8643947462
                        ]
                      },
                      {
                        "passed_time": 19.05212389,
                        "iteration": 887,
                        "remaining_time": 2.40297058,
                        "learn": [
                          0.3129513807,
                          0.86457224
                        ]
                      },
                      {
                        "passed_time": 19.0704005,
                        "iteration": 888,
                        "remaining_time": 2.381118622,
                        "learn": [
                          0.3129062404,
                          0.86457224
                        ]
                      },
                      {
                        "passed_time": 19.09147754,
                        "iteration": 889,
                        "remaining_time": 2.35962082,
                        "learn": [
                          0.3128537546,
                          0.86457224
                        ]
                      },
                      {
                        "passed_time": 19.11246181,
                        "iteration": 890,
                        "remaining_time": 2.338112612,
                        "learn": [
                          0.3127528611,
                          0.86457224
                        ]
                      },
                      {
                        "passed_time": 19.13454939,
                        "iteration": 891,
                        "remaining_time": 2.316739164,
                        "learn": [
                          0.3125842931,
                          0.8647497338
                        ]
                      },
                      {
                        "passed_time": 19.15484768,
                        "iteration": 892,
                        "remaining_time": 2.295149721,
                        "learn": [
                          0.3124740083,
                          0.8649272275
                        ]
                      },
                      {
                        "passed_time": 19.17352118,
                        "iteration": 893,
                        "remaining_time": 2.27337052,
                        "learn": [
                          0.312379435,
                          0.8649272275
                        ]
                      },
                      {
                        "passed_time": 19.19269901,
                        "iteration": 894,
                        "remaining_time": 2.251657426,
                        "learn": [
                          0.3123678399,
                          0.8649272275
                        ]
                      },
                      {
                        "passed_time": 19.21010136,
                        "iteration": 895,
                        "remaining_time": 2.229743908,
                        "learn": [
                          0.312305862,
                          0.8651047213
                        ]
                      },
                      {
                        "passed_time": 19.23303117,
                        "iteration": 896,
                        "remaining_time": 2.208475151,
                        "learn": [
                          0.3122778694,
                          0.8651047213
                        ]
                      },
                      {
                        "passed_time": 19.2498818,
                        "iteration": 897,
                        "remaining_time": 2.186512186,
                        "learn": [
                          0.3122338952,
                          0.8649272275
                        ]
                      },
                      {
                        "passed_time": 19.26823608,
                        "iteration": 898,
                        "remaining_time": 2.164729527,
                        "learn": [
                          0.3120801847,
                          0.8651047213
                        ]
                      },
                      {
                        "passed_time": 19.2939633,
                        "iteration": 899,
                        "remaining_time": 2.1437737,
                        "learn": [
                          0.3120442273,
                          0.8649272275
                        ]
                      },
                      {
                        "passed_time": 19.3128665,
                        "iteration": 900,
                        "remaining_time": 2.122057473,
                        "learn": [
                          0.3119496001,
                          0.8654597089
                        ]
                      },
                      {
                        "passed_time": 19.33443523,
                        "iteration": 901,
                        "remaining_time": 2.100637087,
                        "learn": [
                          0.3118666863,
                          0.8658146965
                        ]
                      },
                      {
                        "passed_time": 19.35173387,
                        "iteration": 902,
                        "remaining_time": 2.078757681,
                        "learn": [
                          0.3118252892,
                          0.8658146965
                        ]
                      },
                      {
                        "passed_time": 19.37265402,
                        "iteration": 903,
                        "remaining_time": 2.057272994,
                        "learn": [
                          0.3116745812,
                          0.8652822151
                        ]
                      },
                      {
                        "passed_time": 19.39378448,
                        "iteration": 904,
                        "remaining_time": 2.03581163,
                        "learn": [
                          0.3115950783,
                          0.8652822151
                        ]
                      },
                      {
                        "passed_time": 19.41367916,
                        "iteration": 905,
                        "remaining_time": 2.014222783,
                        "learn": [
                          0.3115226045,
                          0.8654597089
                        ]
                      },
                      {
                        "passed_time": 19.47754161,
                        "iteration": 906,
                        "remaining_time": 1.997145942,
                        "learn": [
                          0.3114278558,
                          0.8654597089
                        ]
                      },
                      {
                        "passed_time": 19.52600586,
                        "iteration": 907,
                        "remaining_time": 1.97840588,
                        "learn": [
                          0.3113812896,
                          0.8658146965
                        ]
                      },
                      {
                        "passed_time": 19.56574917,
                        "iteration": 908,
                        "remaining_time": 1.958727365,
                        "learn": [
                          0.3113185093,
                          0.8658146965
                        ]
                      },
                      {
                        "passed_time": 19.58724885,
                        "iteration": 909,
                        "remaining_time": 1.937200436,
                        "learn": [
                          0.3111939015,
                          0.8658146965
                        ]
                      },
                      {
                        "passed_time": 19.60796405,
                        "iteration": 910,
                        "remaining_time": 1.915596927,
                        "learn": [
                          0.3110724156,
                          0.8654597089
                        ]
                      },
                      {
                        "passed_time": 19.62991726,
                        "iteration": 911,
                        "remaining_time": 1.894114823,
                        "learn": [
                          0.311045153,
                          0.8654597089
                        ]
                      },
                      {
                        "passed_time": 19.6502742,
                        "iteration": 912,
                        "remaining_time": 1.872479579,
                        "learn": [
                          0.3109896223,
                          0.8658146965
                        ]
                      },
                      {
                        "passed_time": 19.6702977,
                        "iteration": 913,
                        "remaining_time": 1.850815758,
                        "learn": [
                          0.3108559198,
                          0.8659921903
                        ]
                      },
                      {
                        "passed_time": 19.68904215,
                        "iteration": 914,
                        "remaining_time": 1.829036703,
                        "learn": [
                          0.3107375826,
                          0.8658146965
                        ]
                      },
                      {
                        "passed_time": 19.71784362,
                        "iteration": 915,
                        "remaining_time": 1.808186532,
                        "learn": [
                          0.3107205496,
                          0.8658146965
                        ]
                      },
                      {
                        "passed_time": 19.73829096,
                        "iteration": 916,
                        "remaining_time": 1.786562868,
                        "learn": [
                          0.3107051351,
                          0.8658146965
                        ]
                      },
                      {
                        "passed_time": 19.75928829,
                        "iteration": 917,
                        "remaining_time": 1.764990893,
                        "learn": [
                          0.3106734311,
                          0.8659921903
                        ]
                      },
                      {
                        "passed_time": 19.7803382,
                        "iteration": 918,
                        "remaining_time": 1.743424803,
                        "learn": [
                          0.3106222079,
                          0.8661696841
                        ]
                      },
                      {
                        "passed_time": 19.80166364,
                        "iteration": 919,
                        "remaining_time": 1.721883795,
                        "learn": [
                          0.3105923951,
                          0.8661696841
                        ]
                      },
                      {
                        "passed_time": 19.81942749,
                        "iteration": 920,
                        "remaining_time": 1.700037754,
                        "learn": [
                          0.3105745336,
                          0.8661696841
                        ]
                      },
                      {
                        "passed_time": 19.84338568,
                        "iteration": 921,
                        "remaining_time": 1.678724602,
                        "learn": [
                          0.3105161257,
                          0.8661696841
                        ]
                      },
                      {
                        "passed_time": 19.8655655,
                        "iteration": 922,
                        "remaining_time": 1.65725736,
                        "learn": [
                          0.3104010904,
                          0.8659921903
                        ]
                      },
                      {
                        "passed_time": 19.88841076,
                        "iteration": 923,
                        "remaining_time": 1.635843309,
                        "learn": [
                          0.3103073,
                          0.8659921903
                        ]
                      },
                      {
                        "passed_time": 19.90992408,
                        "iteration": 924,
                        "remaining_time": 1.614318168,
                        "learn": [
                          0.3102324122,
                          0.8661696841
                        ]
                      },
                      {
                        "passed_time": 19.93144661,
                        "iteration": 925,
                        "remaining_time": 1.59279379,
                        "learn": [
                          0.3101955477,
                          0.8661696841
                        ]
                      },
                      {
                        "passed_time": 19.95457954,
                        "iteration": 926,
                        "remaining_time": 1.571396231,
                        "learn": [
                          0.3101551329,
                          0.8663471778
                        ]
                      },
                      {
                        "passed_time": 19.97742871,
                        "iteration": 927,
                        "remaining_time": 1.549972918,
                        "learn": [
                          0.310114251,
                          0.8663471778
                        ]
                      },
                      {
                        "passed_time": 19.99855069,
                        "iteration": 928,
                        "remaining_time": 1.528414531,
                        "learn": [
                          0.3100692401,
                          0.8661696841
                        ]
                      },
                      {
                        "passed_time": 20.02156885,
                        "iteration": 929,
                        "remaining_time": 1.506999806,
                        "learn": [
                          0.3100633243,
                          0.8661696841
                        ]
                      },
                      {
                        "passed_time": 20.0416538,
                        "iteration": 930,
                        "remaining_time": 1.485364245,
                        "learn": [
                          0.3099295328,
                          0.8663471778
                        ]
                      },
                      {
                        "passed_time": 20.06249496,
                        "iteration": 931,
                        "remaining_time": 1.463787186,
                        "learn": [
                          0.3098656601,
                          0.8661696841
                        ]
                      },
                      {
                        "passed_time": 20.08564042,
                        "iteration": 932,
                        "remaining_time": 1.442377179,
                        "learn": [
                          0.3098408916,
                          0.8663471778
                        ]
                      },
                      {
                        "passed_time": 20.10756408,
                        "iteration": 933,
                        "remaining_time": 1.420877119,
                        "learn": [
                          0.3098232059,
                          0.8661696841
                        ]
                      },
                      {
                        "passed_time": 20.12692785,
                        "iteration": 934,
                        "remaining_time": 1.399198193,
                        "learn": [
                          0.3097747722,
                          0.8661696841
                        ]
                      },
                      {
                        "passed_time": 20.15095057,
                        "iteration": 935,
                        "remaining_time": 1.377842774,
                        "learn": [
                          0.309682762,
                          0.8661696841
                        ]
                      },
                      {
                        "passed_time": 20.18201831,
                        "iteration": 936,
                        "remaining_time": 1.35695534,
                        "learn": [
                          0.3095862494,
                          0.8658146965
                        ]
                      },
                      {
                        "passed_time": 20.20440441,
                        "iteration": 937,
                        "remaining_time": 1.33547236,
                        "learn": [
                          0.3095081642,
                          0.8658146965
                        ]
                      },
                      {
                        "passed_time": 20.22553926,
                        "iteration": 938,
                        "remaining_time": 1.313906171,
                        "learn": [
                          0.3094032186,
                          0.8659921903
                        ]
                      },
                      {
                        "passed_time": 20.24554874,
                        "iteration": 939,
                        "remaining_time": 1.292269068,
                        "learn": [
                          0.3093942485,
                          0.8659921903
                        ]
                      },
                      {
                        "passed_time": 20.26591701,
                        "iteration": 940,
                        "remaining_time": 1.270657921,
                        "learn": [
                          0.3093451644,
                          0.8658146965
                        ]
                      },
                      {
                        "passed_time": 20.28431359,
                        "iteration": 941,
                        "remaining_time": 1.248928013,
                        "learn": [
                          0.3091749937,
                          0.8658146965
                        ]
                      },
                      {
                        "passed_time": 20.30282674,
                        "iteration": 942,
                        "remaining_time": 1.227212221,
                        "learn": [
                          0.3091285228,
                          0.8658146965
                        ]
                      },
                      {
                        "passed_time": 20.32424153,
                        "iteration": 943,
                        "remaining_time": 1.205675345,
                        "learn": [
                          0.3090111194,
                          0.8658146965
                        ]
                      },
                      {
                        "passed_time": 20.34264741,
                        "iteration": 944,
                        "remaining_time": 1.183963606,
                        "learn": [
                          0.3089679321,
                          0.8658146965
                        ]
                      },
                      {
                        "passed_time": 20.36438457,
                        "iteration": 945,
                        "remaining_time": 1.162449013,
                        "learn": [
                          0.3089131627,
                          0.8659921903
                        ]
                      },
                      {
                        "passed_time": 20.38831033,
                        "iteration": 946,
                        "remaining_time": 1.141056439,
                        "learn": [
                          0.3088455253,
                          0.8661696841
                        ]
                      },
                      {
                        "passed_time": 20.40652318,
                        "iteration": 947,
                        "remaining_time": 1.119345154,
                        "learn": [
                          0.3088080753,
                          0.8659921903
                        ]
                      },
                      {
                        "passed_time": 20.42898962,
                        "iteration": 948,
                        "remaining_time": 1.097869832,
                        "learn": [
                          0.3086389182,
                          0.8661696841
                        ]
                      },
                      {
                        "passed_time": 20.44991604,
                        "iteration": 949,
                        "remaining_time": 1.076311371,
                        "learn": [
                          0.3085856236,
                          0.8661696841
                        ]
                      },
                      {
                        "passed_time": 20.51999574,
                        "iteration": 950,
                        "remaining_time": 1.057286847,
                        "learn": [
                          0.3084948239,
                          0.8659921903
                        ]
                      },
                      {
                        "passed_time": 20.5661913,
                        "iteration": 951,
                        "remaining_time": 1.036950822,
                        "learn": [
                          0.3084062676,
                          0.8661696841
                        ]
                      },
                      {
                        "passed_time": 20.59892542,
                        "iteration": 952,
                        "remaining_time": 1.015896637,
                        "learn": [
                          0.3083099037,
                          0.8659921903
                        ]
                      },
                      {
                        "passed_time": 20.62100972,
                        "iteration": 953,
                        "remaining_time": 0.9943044521,
                        "learn": [
                          0.3082195934,
                          0.8661696841
                        ]
                      },
                      {
                        "passed_time": 20.6413051,
                        "iteration": 954,
                        "remaining_time": 0.9726269419,
                        "learn": [
                          0.3081591425,
                          0.8659921903
                        ]
                      },
                      {
                        "passed_time": 20.66113186,
                        "iteration": 955,
                        "remaining_time": 0.9509307549,
                        "learn": [
                          0.3081242013,
                          0.8659921903
                        ]
                      },
                      {
                        "passed_time": 20.68014147,
                        "iteration": 956,
                        "remaining_time": 0.9292017587,
                        "learn": [
                          0.3080692993,
                          0.8661696841
                        ]
                      },
                      {
                        "passed_time": 20.69909484,
                        "iteration": 957,
                        "remaining_time": 0.9074759744,
                        "learn": [
                          0.3080091877,
                          0.8659921903
                        ]
                      },
                      {
                        "passed_time": 20.72871809,
                        "iteration": 958,
                        "remaining_time": 0.8862121393,
                        "learn": [
                          0.3079875657,
                          0.8659921903
                        ]
                      },
                      {
                        "passed_time": 20.74956176,
                        "iteration": 959,
                        "remaining_time": 0.8645650733,
                        "learn": [
                          0.3079597375,
                          0.8659921903
                        ]
                      },
                      {
                        "passed_time": 20.77042762,
                        "iteration": 960,
                        "remaining_time": 0.8429205798,
                        "learn": [
                          0.307843461,
                          0.8661696841
                        ]
                      },
                      {
                        "passed_time": 20.79160938,
                        "iteration": 961,
                        "remaining_time": 0.8212901832,
                        "learn": [
                          0.3078094998,
                          0.8661696841
                        ]
                      },
                      {
                        "passed_time": 20.81257952,
                        "iteration": 962,
                        "remaining_time": 0.799652588,
                        "learn": [
                          0.3077170649,
                          0.8661696841
                        ]
                      },
                      {
                        "passed_time": 20.83442968,
                        "iteration": 963,
                        "remaining_time": 0.7780492412,
                        "learn": [
                          0.3076482622,
                          0.8663471778
                        ]
                      },
                      {
                        "passed_time": 20.85670422,
                        "iteration": 964,
                        "remaining_time": 0.7564607749,
                        "learn": [
                          0.3075763178,
                          0.8665246716
                        ]
                      },
                      {
                        "passed_time": 20.87665398,
                        "iteration": 965,
                        "remaining_time": 0.7347890634,
                        "learn": [
                          0.3074913862,
                          0.8665246716
                        ]
                      },
                      {
                        "passed_time": 20.89505354,
                        "iteration": 966,
                        "remaining_time": 0.7130680111,
                        "learn": [
                          0.307464883,
                          0.8661696841
                        ]
                      },
                      {
                        "passed_time": 20.91683271,
                        "iteration": 967,
                        "remaining_time": 0.691465544,
                        "learn": [
                          0.3074091634,
                          0.8663471778
                        ]
                      },
                      {
                        "passed_time": 20.9377496,
                        "iteration": 968,
                        "remaining_time": 0.6698351266,
                        "learn": [
                          0.3073225081,
                          0.8665246716
                        ]
                      },
                      {
                        "passed_time": 20.95868894,
                        "iteration": 969,
                        "remaining_time": 0.6482068746,
                        "learn": [
                          0.3072680292,
                          0.8665246716
                        ]
                      },
                      {
                        "passed_time": 20.97861162,
                        "iteration": 970,
                        "remaining_time": 0.6265496775,
                        "learn": [
                          0.3071738709,
                          0.8665246716
                        ]
                      },
                      {
                        "passed_time": 21.00512311,
                        "iteration": 971,
                        "remaining_time": 0.6050858509,
                        "learn": [
                          0.307084092,
                          0.8665246716
                        ]
                      },
                      {
                        "passed_time": 21.02538179,
                        "iteration": 972,
                        "remaining_time": 0.583438138,
                        "learn": [
                          0.307032921,
                          0.8665246716
                        ]
                      },
                      {
                        "passed_time": 21.04615152,
                        "iteration": 973,
                        "remaining_time": 0.5618069193,
                        "learn": [
                          0.3069809429,
                          0.8667021654
                        ]
                      },
                      {
                        "passed_time": 21.06719112,
                        "iteration": 974,
                        "remaining_time": 0.5401843877,
                        "learn": [
                          0.306914313,
                          0.8668796592
                        ]
                      },
                      {
                        "passed_time": 21.08793124,
                        "iteration": 975,
                        "remaining_time": 0.5185556862,
                        "learn": [
                          0.3068070992,
                          0.8667021654
                        ]
                      },
                      {
                        "passed_time": 21.10886976,
                        "iteration": 976,
                        "remaining_time": 0.4969334743,
                        "learn": [
                          0.306735938,
                          0.8665246716
                        ]
                      },
                      {
                        "passed_time": 21.13191969,
                        "iteration": 977,
                        "remaining_time": 0.4753601567,
                        "learn": [
                          0.3066949478,
                          0.8665246716
                        ]
                      },
                      {
                        "passed_time": 21.15301796,
                        "iteration": 978,
                        "remaining_time": 0.4537419582,
                        "learn": [
                          0.3066933136,
                          0.8665246716
                        ]
                      },
                      {
                        "passed_time": 21.17320718,
                        "iteration": 979,
                        "remaining_time": 0.432106269,
                        "learn": [
                          0.3065796165,
                          0.867057153
                        ]
                      },
                      {
                        "passed_time": 21.1941448,
                        "iteration": 980,
                        "remaining_time": 0.4104880237,
                        "learn": [
                          0.3065286229,
                          0.8672346468
                        ]
                      },
                      {
                        "passed_time": 21.21719427,
                        "iteration": 981,
                        "remaining_time": 0.3889098745,
                        "learn": [
                          0.3064553023,
                          0.867057153
                        ]
                      },
                      {
                        "passed_time": 21.23720893,
                        "iteration": 982,
                        "remaining_time": 0.367276248,
                        "learn": [
                          0.3062870356,
                          0.8674121406
                        ]
                      },
                      {
                        "passed_time": 21.25997365,
                        "iteration": 983,
                        "remaining_time": 0.3456906284,
                        "learn": [
                          0.3062227475,
                          0.8674121406
                        ]
                      },
                      {
                        "passed_time": 21.27974538,
                        "iteration": 984,
                        "remaining_time": 0.3240570362,
                        "learn": [
                          0.3061907266,
                          0.8675896344
                        ]
                      },
                      {
                        "passed_time": 21.30121831,
                        "iteration": 985,
                        "remaining_time": 0.3024513756,
                        "learn": [
                          0.306033683,
                          0.8674121406
                        ]
                      },
                      {
                        "passed_time": 21.31946207,
                        "iteration": 986,
                        "remaining_time": 0.2808034518,
                        "learn": [
                          0.3059757402,
                          0.8677671282
                        ]
                      },
                      {
                        "passed_time": 21.33989709,
                        "iteration": 987,
                        "remaining_time": 0.2591890334,
                        "learn": [
                          0.3059485063,
                          0.8677671282
                        ]
                      },
                      {
                        "passed_time": 21.35866394,
                        "iteration": 988,
                        "remaining_time": 0.2375584463,
                        "learn": [
                          0.305683581,
                          0.8677671282
                        ]
                      },
                      {
                        "passed_time": 21.37888868,
                        "iteration": 989,
                        "remaining_time": 0.2159483705,
                        "learn": [
                          0.3055626745,
                          0.8677671282
                        ]
                      },
                      {
                        "passed_time": 21.39895674,
                        "iteration": 990,
                        "remaining_time": 0.1943396676,
                        "learn": [
                          0.3054502546,
                          0.8679446219
                        ]
                      },
                      {
                        "passed_time": 21.41743547,
                        "iteration": 991,
                        "remaining_time": 0.1727212538,
                        "learn": [
                          0.3053696411,
                          0.8679446219
                        ]
                      },
                      {
                        "passed_time": 21.4386478,
                        "iteration": 992,
                        "remaining_time": 0.1511284336,
                        "learn": [
                          0.3052878207,
                          0.8679446219
                        ]
                      },
                      {
                        "passed_time": 21.45812865,
                        "iteration": 993,
                        "remaining_time": 0.1295259274,
                        "learn": [
                          0.3052239529,
                          0.8679446219
                        ]
                      },
                      {
                        "passed_time": 21.47911307,
                        "iteration": 994,
                        "remaining_time": 0.1079352416,
                        "learn": [
                          0.3051948014,
                          0.8679446219
                        ]
                      },
                      {
                        "passed_time": 21.52622097,
                        "iteration": 995,
                        "remaining_time": 0.08645068664,
                        "learn": [
                          0.3051361943,
                          0.8679446219
                        ]
                      },
                      {
                        "passed_time": 21.57842138,
                        "iteration": 996,
                        "remaining_time": 0.06493005429,
                        "learn": [
                          0.3050573336,
                          0.8677671282
                        ]
                      },
                      {
                        "passed_time": 21.6160887,
                        "iteration": 997,
                        "remaining_time": 0.04331881504,
                        "learn": [
                          0.3049630292,
                          0.8677671282
                        ]
                      },
                      {
                        "passed_time": 21.64227739,
                        "iteration": 998,
                        "remaining_time": 0.02166394133,
                        "learn": [
                          0.3047912207,
                          0.8681221157
                        ]
                      },
                      {
                        "passed_time": 21.66325002,
                        "iteration": 999,
                        "remaining_time": 0,
                        "learn": [
                          0.3047304911,
                          0.8686545971
                        ]
                      }
                    ]
                  },
                  "total_iterations": 1000,
                  "passed_iterations": 999
                },
                "path": "catboost_info",
                "name": "catboost_info"
              }
            },
            "_view_module": "catboost-widget",
            "_model_module_version": "^1.0.0",
            "_view_count": null,
            "_view_module_version": "^1.0.0",
            "layout": "IPY_MODEL_f1903b09c18349c88ce1ab6cce6fc03e",
            "_model_module": "catboost-widget"
          }
        }
      }
    }
  },
  "cells": [
    {
      "cell_type": "markdown",
      "metadata": {
        "id": "lVcwKKpUmPjL"
      },
      "source": [
        "# IMPORTING REQUIRED LIBRARIES:"
      ]
    },
    {
      "cell_type": "code",
      "metadata": {
        "id": "SjHKtb3cmPjQ"
      },
      "source": [
        "import numpy as np\n",
        "import pandas as pd\n",
        "import matplotlib.pyplot as plt\n",
        "%matplotlib inline\n",
        "from sklearn.model_selection import train_test_split"
      ],
      "execution_count": null,
      "outputs": []
    },
    {
      "cell_type": "code",
      "metadata": {
        "id": "6B6GpSVqpL_j"
      },
      "source": [
        "# basically, this function plota a confusion matrix using the prediction values and test values of the target variable\n",
        "def plot_confusion_matrix(cm, classes,\n",
        "                          normalize=False,\n",
        "                          title='Confusion matrix',\n",
        "                          cmap=plt.cm.Blues):\n",
        "    \"\"\"\n",
        "    This function prints and plots the confusion matrix.\n",
        "    Normalization can be applied by setting `normalize=True`.\n",
        "    \"\"\"\n",
        "    plt.imshow(cm, interpolation='nearest', cmap=cmap)\n",
        "    plt.title(title)\n",
        "    plt.colorbar()\n",
        "    tick_marks = np.arange(len(classes))\n",
        "    plt.xticks(tick_marks, classes, rotation=0)\n",
        "    plt.yticks(tick_marks, classes)\n",
        "\n",
        "    if normalize:\n",
        "        cm = cm.astype('float') / cm.sum(axis=1)[:, np.newaxis]\n",
        "    else:\n",
        "        pass\n",
        "    \n",
        "    thresh = cm.max() / 2.\n",
        "    for i, j in itertools.product(range(cm.shape[0]), range(cm.shape[1])):\n",
        "        plt.text(j, i, cm[i, j],\n",
        "                 horizontalalignment=\"center\",\n",
        "                 color=\"white\" if cm[i, j] > thresh else \"black\")\n",
        "\n",
        "    plt.tight_layout()\n",
        "    plt.ylabel('True label')\n",
        "    plt.xlabel('Predicted label')"
      ],
      "execution_count": null,
      "outputs": []
    },
    {
      "cell_type": "code",
      "metadata": {
        "colab": {
          "base_uri": "https://localhost:8080/",
          "height": 309
        },
        "id": "rBlGAAF5mPjT",
        "outputId": "2ea1a2ce-a4dd-40a1-c6b1-60adde7716bb"
      },
      "source": [
        "train = pd.read_csv('tc.csv')\n",
        "train.head()"
      ],
      "execution_count": null,
      "outputs": [
        {
          "output_type": "execute_result",
          "data": {
            "text/html": [
              "<div>\n",
              "<style scoped>\n",
              "    .dataframe tbody tr th:only-of-type {\n",
              "        vertical-align: middle;\n",
              "    }\n",
              "\n",
              "    .dataframe tbody tr th {\n",
              "        vertical-align: top;\n",
              "    }\n",
              "\n",
              "    .dataframe thead th {\n",
              "        text-align: right;\n",
              "    }\n",
              "</style>\n",
              "<table border=\"1\" class=\"dataframe\">\n",
              "  <thead>\n",
              "    <tr style=\"text-align: right;\">\n",
              "      <th></th>\n",
              "      <th>customerID</th>\n",
              "      <th>gender</th>\n",
              "      <th>SeniorCitizen</th>\n",
              "      <th>Partner</th>\n",
              "      <th>Dependents</th>\n",
              "      <th>tenure</th>\n",
              "      <th>PhoneService</th>\n",
              "      <th>MultipleLines</th>\n",
              "      <th>InternetService</th>\n",
              "      <th>OnlineSecurity</th>\n",
              "      <th>OnlineBackup</th>\n",
              "      <th>DeviceProtection</th>\n",
              "      <th>TechSupport</th>\n",
              "      <th>StreamingTV</th>\n",
              "      <th>StreamingMovies</th>\n",
              "      <th>Contract</th>\n",
              "      <th>PaperlessBilling</th>\n",
              "      <th>PaymentMethod</th>\n",
              "      <th>MonthlyCharges</th>\n",
              "      <th>TotalCharges</th>\n",
              "      <th>Churn</th>\n",
              "    </tr>\n",
              "  </thead>\n",
              "  <tbody>\n",
              "    <tr>\n",
              "      <th>0</th>\n",
              "      <td>7590-VHVEG</td>\n",
              "      <td>Female</td>\n",
              "      <td>0</td>\n",
              "      <td>Yes</td>\n",
              "      <td>No</td>\n",
              "      <td>1</td>\n",
              "      <td>No</td>\n",
              "      <td>No phone service</td>\n",
              "      <td>DSL</td>\n",
              "      <td>No</td>\n",
              "      <td>Yes</td>\n",
              "      <td>No</td>\n",
              "      <td>No</td>\n",
              "      <td>No</td>\n",
              "      <td>No</td>\n",
              "      <td>Month-to-month</td>\n",
              "      <td>Yes</td>\n",
              "      <td>Electronic check</td>\n",
              "      <td>29.85</td>\n",
              "      <td>29.85</td>\n",
              "      <td>No</td>\n",
              "    </tr>\n",
              "    <tr>\n",
              "      <th>1</th>\n",
              "      <td>5575-GNVDE</td>\n",
              "      <td>Male</td>\n",
              "      <td>0</td>\n",
              "      <td>No</td>\n",
              "      <td>No</td>\n",
              "      <td>34</td>\n",
              "      <td>Yes</td>\n",
              "      <td>No</td>\n",
              "      <td>DSL</td>\n",
              "      <td>Yes</td>\n",
              "      <td>No</td>\n",
              "      <td>Yes</td>\n",
              "      <td>No</td>\n",
              "      <td>No</td>\n",
              "      <td>No</td>\n",
              "      <td>One year</td>\n",
              "      <td>No</td>\n",
              "      <td>Mailed check</td>\n",
              "      <td>56.95</td>\n",
              "      <td>1889.5</td>\n",
              "      <td>No</td>\n",
              "    </tr>\n",
              "    <tr>\n",
              "      <th>2</th>\n",
              "      <td>3668-QPYBK</td>\n",
              "      <td>Male</td>\n",
              "      <td>0</td>\n",
              "      <td>No</td>\n",
              "      <td>No</td>\n",
              "      <td>2</td>\n",
              "      <td>Yes</td>\n",
              "      <td>No</td>\n",
              "      <td>DSL</td>\n",
              "      <td>Yes</td>\n",
              "      <td>Yes</td>\n",
              "      <td>No</td>\n",
              "      <td>No</td>\n",
              "      <td>No</td>\n",
              "      <td>No</td>\n",
              "      <td>Month-to-month</td>\n",
              "      <td>Yes</td>\n",
              "      <td>Mailed check</td>\n",
              "      <td>53.85</td>\n",
              "      <td>108.15</td>\n",
              "      <td>Yes</td>\n",
              "    </tr>\n",
              "    <tr>\n",
              "      <th>3</th>\n",
              "      <td>7795-CFOCW</td>\n",
              "      <td>Male</td>\n",
              "      <td>0</td>\n",
              "      <td>No</td>\n",
              "      <td>No</td>\n",
              "      <td>45</td>\n",
              "      <td>No</td>\n",
              "      <td>No phone service</td>\n",
              "      <td>DSL</td>\n",
              "      <td>Yes</td>\n",
              "      <td>No</td>\n",
              "      <td>Yes</td>\n",
              "      <td>Yes</td>\n",
              "      <td>No</td>\n",
              "      <td>No</td>\n",
              "      <td>One year</td>\n",
              "      <td>No</td>\n",
              "      <td>Bank transfer (automatic)</td>\n",
              "      <td>42.30</td>\n",
              "      <td>1840.75</td>\n",
              "      <td>No</td>\n",
              "    </tr>\n",
              "    <tr>\n",
              "      <th>4</th>\n",
              "      <td>9237-HQITU</td>\n",
              "      <td>Female</td>\n",
              "      <td>0</td>\n",
              "      <td>No</td>\n",
              "      <td>No</td>\n",
              "      <td>2</td>\n",
              "      <td>Yes</td>\n",
              "      <td>No</td>\n",
              "      <td>Fiber optic</td>\n",
              "      <td>No</td>\n",
              "      <td>No</td>\n",
              "      <td>No</td>\n",
              "      <td>No</td>\n",
              "      <td>No</td>\n",
              "      <td>No</td>\n",
              "      <td>Month-to-month</td>\n",
              "      <td>Yes</td>\n",
              "      <td>Electronic check</td>\n",
              "      <td>70.70</td>\n",
              "      <td>151.65</td>\n",
              "      <td>Yes</td>\n",
              "    </tr>\n",
              "  </tbody>\n",
              "</table>\n",
              "</div>"
            ],
            "text/plain": [
              "   customerID  gender  SeniorCitizen  ... MonthlyCharges TotalCharges  Churn\n",
              "0  7590-VHVEG  Female              0  ...          29.85        29.85     No\n",
              "1  5575-GNVDE    Male              0  ...          56.95       1889.5     No\n",
              "2  3668-QPYBK    Male              0  ...          53.85       108.15    Yes\n",
              "3  7795-CFOCW    Male              0  ...          42.30      1840.75     No\n",
              "4  9237-HQITU  Female              0  ...          70.70       151.65    Yes\n",
              "\n",
              "[5 rows x 21 columns]"
            ]
          },
          "metadata": {
            "tags": []
          },
          "execution_count": 7
        }
      ]
    },
    {
      "cell_type": "code",
      "metadata": {
        "colab": {
          "base_uri": "https://localhost:8080/"
        },
        "id": "6vQlZ_4LmPjW",
        "outputId": "c33b4ca3-d17b-43a3-ab4a-49cc5857e22f"
      },
      "source": [
        "train.shape"
      ],
      "execution_count": null,
      "outputs": [
        {
          "output_type": "execute_result",
          "data": {
            "text/plain": [
              "(7043, 21)"
            ]
          },
          "metadata": {
            "tags": []
          },
          "execution_count": 8
        }
      ]
    },
    {
      "cell_type": "code",
      "metadata": {
        "colab": {
          "base_uri": "https://localhost:8080/",
          "height": 309
        },
        "id": "pV0zbS7xmPjX",
        "outputId": "66361a0d-10d0-434b-8a61-98e36f18fffb"
      },
      "source": [
        "train.head()"
      ],
      "execution_count": null,
      "outputs": [
        {
          "output_type": "execute_result",
          "data": {
            "text/html": [
              "<div>\n",
              "<style scoped>\n",
              "    .dataframe tbody tr th:only-of-type {\n",
              "        vertical-align: middle;\n",
              "    }\n",
              "\n",
              "    .dataframe tbody tr th {\n",
              "        vertical-align: top;\n",
              "    }\n",
              "\n",
              "    .dataframe thead th {\n",
              "        text-align: right;\n",
              "    }\n",
              "</style>\n",
              "<table border=\"1\" class=\"dataframe\">\n",
              "  <thead>\n",
              "    <tr style=\"text-align: right;\">\n",
              "      <th></th>\n",
              "      <th>customerID</th>\n",
              "      <th>gender</th>\n",
              "      <th>SeniorCitizen</th>\n",
              "      <th>Partner</th>\n",
              "      <th>Dependents</th>\n",
              "      <th>tenure</th>\n",
              "      <th>PhoneService</th>\n",
              "      <th>MultipleLines</th>\n",
              "      <th>InternetService</th>\n",
              "      <th>OnlineSecurity</th>\n",
              "      <th>OnlineBackup</th>\n",
              "      <th>DeviceProtection</th>\n",
              "      <th>TechSupport</th>\n",
              "      <th>StreamingTV</th>\n",
              "      <th>StreamingMovies</th>\n",
              "      <th>Contract</th>\n",
              "      <th>PaperlessBilling</th>\n",
              "      <th>PaymentMethod</th>\n",
              "      <th>MonthlyCharges</th>\n",
              "      <th>TotalCharges</th>\n",
              "      <th>Churn</th>\n",
              "    </tr>\n",
              "  </thead>\n",
              "  <tbody>\n",
              "    <tr>\n",
              "      <th>0</th>\n",
              "      <td>7590-VHVEG</td>\n",
              "      <td>Female</td>\n",
              "      <td>0</td>\n",
              "      <td>Yes</td>\n",
              "      <td>No</td>\n",
              "      <td>1</td>\n",
              "      <td>No</td>\n",
              "      <td>No phone service</td>\n",
              "      <td>DSL</td>\n",
              "      <td>No</td>\n",
              "      <td>Yes</td>\n",
              "      <td>No</td>\n",
              "      <td>No</td>\n",
              "      <td>No</td>\n",
              "      <td>No</td>\n",
              "      <td>Month-to-month</td>\n",
              "      <td>Yes</td>\n",
              "      <td>Electronic check</td>\n",
              "      <td>29.85</td>\n",
              "      <td>29.85</td>\n",
              "      <td>No</td>\n",
              "    </tr>\n",
              "    <tr>\n",
              "      <th>1</th>\n",
              "      <td>5575-GNVDE</td>\n",
              "      <td>Male</td>\n",
              "      <td>0</td>\n",
              "      <td>No</td>\n",
              "      <td>No</td>\n",
              "      <td>34</td>\n",
              "      <td>Yes</td>\n",
              "      <td>No</td>\n",
              "      <td>DSL</td>\n",
              "      <td>Yes</td>\n",
              "      <td>No</td>\n",
              "      <td>Yes</td>\n",
              "      <td>No</td>\n",
              "      <td>No</td>\n",
              "      <td>No</td>\n",
              "      <td>One year</td>\n",
              "      <td>No</td>\n",
              "      <td>Mailed check</td>\n",
              "      <td>56.95</td>\n",
              "      <td>1889.5</td>\n",
              "      <td>No</td>\n",
              "    </tr>\n",
              "    <tr>\n",
              "      <th>2</th>\n",
              "      <td>3668-QPYBK</td>\n",
              "      <td>Male</td>\n",
              "      <td>0</td>\n",
              "      <td>No</td>\n",
              "      <td>No</td>\n",
              "      <td>2</td>\n",
              "      <td>Yes</td>\n",
              "      <td>No</td>\n",
              "      <td>DSL</td>\n",
              "      <td>Yes</td>\n",
              "      <td>Yes</td>\n",
              "      <td>No</td>\n",
              "      <td>No</td>\n",
              "      <td>No</td>\n",
              "      <td>No</td>\n",
              "      <td>Month-to-month</td>\n",
              "      <td>Yes</td>\n",
              "      <td>Mailed check</td>\n",
              "      <td>53.85</td>\n",
              "      <td>108.15</td>\n",
              "      <td>Yes</td>\n",
              "    </tr>\n",
              "    <tr>\n",
              "      <th>3</th>\n",
              "      <td>7795-CFOCW</td>\n",
              "      <td>Male</td>\n",
              "      <td>0</td>\n",
              "      <td>No</td>\n",
              "      <td>No</td>\n",
              "      <td>45</td>\n",
              "      <td>No</td>\n",
              "      <td>No phone service</td>\n",
              "      <td>DSL</td>\n",
              "      <td>Yes</td>\n",
              "      <td>No</td>\n",
              "      <td>Yes</td>\n",
              "      <td>Yes</td>\n",
              "      <td>No</td>\n",
              "      <td>No</td>\n",
              "      <td>One year</td>\n",
              "      <td>No</td>\n",
              "      <td>Bank transfer (automatic)</td>\n",
              "      <td>42.30</td>\n",
              "      <td>1840.75</td>\n",
              "      <td>No</td>\n",
              "    </tr>\n",
              "    <tr>\n",
              "      <th>4</th>\n",
              "      <td>9237-HQITU</td>\n",
              "      <td>Female</td>\n",
              "      <td>0</td>\n",
              "      <td>No</td>\n",
              "      <td>No</td>\n",
              "      <td>2</td>\n",
              "      <td>Yes</td>\n",
              "      <td>No</td>\n",
              "      <td>Fiber optic</td>\n",
              "      <td>No</td>\n",
              "      <td>No</td>\n",
              "      <td>No</td>\n",
              "      <td>No</td>\n",
              "      <td>No</td>\n",
              "      <td>No</td>\n",
              "      <td>Month-to-month</td>\n",
              "      <td>Yes</td>\n",
              "      <td>Electronic check</td>\n",
              "      <td>70.70</td>\n",
              "      <td>151.65</td>\n",
              "      <td>Yes</td>\n",
              "    </tr>\n",
              "  </tbody>\n",
              "</table>\n",
              "</div>"
            ],
            "text/plain": [
              "   customerID  gender  SeniorCitizen  ... MonthlyCharges TotalCharges  Churn\n",
              "0  7590-VHVEG  Female              0  ...          29.85        29.85     No\n",
              "1  5575-GNVDE    Male              0  ...          56.95       1889.5     No\n",
              "2  3668-QPYBK    Male              0  ...          53.85       108.15    Yes\n",
              "3  7795-CFOCW    Male              0  ...          42.30      1840.75     No\n",
              "4  9237-HQITU  Female              0  ...          70.70       151.65    Yes\n",
              "\n",
              "[5 rows x 21 columns]"
            ]
          },
          "metadata": {
            "tags": []
          },
          "execution_count": 9
        }
      ]
    },
    {
      "cell_type": "code",
      "metadata": {
        "id": "TPvwgOhgmPjY",
        "colab": {
          "base_uri": "https://localhost:8080/",
          "height": 306
        },
        "outputId": "8695b264-a737-49b9-ff07-2ed48a6fbf10"
      },
      "source": [
        "train = train.drop('customerID',axis=1)"
      ],
      "execution_count": null,
      "outputs": [
        {
          "output_type": "error",
          "ename": "KeyError",
          "evalue": "ignored",
          "traceback": [
            "\u001b[0;31m---------------------------------------------------------------------------\u001b[0m",
            "\u001b[0;31mKeyError\u001b[0m                                  Traceback (most recent call last)",
            "\u001b[0;32m<ipython-input-11-07bc1294aa89>\u001b[0m in \u001b[0;36m<module>\u001b[0;34m()\u001b[0m\n\u001b[0;32m----> 1\u001b[0;31m \u001b[0mtrain\u001b[0m \u001b[0;34m=\u001b[0m \u001b[0mtrain\u001b[0m\u001b[0;34m.\u001b[0m\u001b[0mdrop\u001b[0m\u001b[0;34m(\u001b[0m\u001b[0;34m'customerID'\u001b[0m\u001b[0;34m,\u001b[0m\u001b[0maxis\u001b[0m\u001b[0;34m=\u001b[0m\u001b[0;36m1\u001b[0m\u001b[0;34m)\u001b[0m\u001b[0;34m\u001b[0m\u001b[0;34m\u001b[0m\u001b[0m\n\u001b[0m",
            "\u001b[0;32m/usr/local/lib/python3.7/dist-packages/pandas/core/frame.py\u001b[0m in \u001b[0;36mdrop\u001b[0;34m(self, labels, axis, index, columns, level, inplace, errors)\u001b[0m\n\u001b[1;32m   4172\u001b[0m             \u001b[0mlevel\u001b[0m\u001b[0;34m=\u001b[0m\u001b[0mlevel\u001b[0m\u001b[0;34m,\u001b[0m\u001b[0;34m\u001b[0m\u001b[0;34m\u001b[0m\u001b[0m\n\u001b[1;32m   4173\u001b[0m             \u001b[0minplace\u001b[0m\u001b[0;34m=\u001b[0m\u001b[0minplace\u001b[0m\u001b[0;34m,\u001b[0m\u001b[0;34m\u001b[0m\u001b[0;34m\u001b[0m\u001b[0m\n\u001b[0;32m-> 4174\u001b[0;31m             \u001b[0merrors\u001b[0m\u001b[0;34m=\u001b[0m\u001b[0merrors\u001b[0m\u001b[0;34m,\u001b[0m\u001b[0;34m\u001b[0m\u001b[0;34m\u001b[0m\u001b[0m\n\u001b[0m\u001b[1;32m   4175\u001b[0m         )\n\u001b[1;32m   4176\u001b[0m \u001b[0;34m\u001b[0m\u001b[0m\n",
            "\u001b[0;32m/usr/local/lib/python3.7/dist-packages/pandas/core/generic.py\u001b[0m in \u001b[0;36mdrop\u001b[0;34m(self, labels, axis, index, columns, level, inplace, errors)\u001b[0m\n\u001b[1;32m   3887\u001b[0m         \u001b[0;32mfor\u001b[0m \u001b[0maxis\u001b[0m\u001b[0;34m,\u001b[0m \u001b[0mlabels\u001b[0m \u001b[0;32min\u001b[0m \u001b[0maxes\u001b[0m\u001b[0;34m.\u001b[0m\u001b[0mitems\u001b[0m\u001b[0;34m(\u001b[0m\u001b[0;34m)\u001b[0m\u001b[0;34m:\u001b[0m\u001b[0;34m\u001b[0m\u001b[0;34m\u001b[0m\u001b[0m\n\u001b[1;32m   3888\u001b[0m             \u001b[0;32mif\u001b[0m \u001b[0mlabels\u001b[0m \u001b[0;32mis\u001b[0m \u001b[0;32mnot\u001b[0m \u001b[0;32mNone\u001b[0m\u001b[0;34m:\u001b[0m\u001b[0;34m\u001b[0m\u001b[0;34m\u001b[0m\u001b[0m\n\u001b[0;32m-> 3889\u001b[0;31m                 \u001b[0mobj\u001b[0m \u001b[0;34m=\u001b[0m \u001b[0mobj\u001b[0m\u001b[0;34m.\u001b[0m\u001b[0m_drop_axis\u001b[0m\u001b[0;34m(\u001b[0m\u001b[0mlabels\u001b[0m\u001b[0;34m,\u001b[0m \u001b[0maxis\u001b[0m\u001b[0;34m,\u001b[0m \u001b[0mlevel\u001b[0m\u001b[0;34m=\u001b[0m\u001b[0mlevel\u001b[0m\u001b[0;34m,\u001b[0m \u001b[0merrors\u001b[0m\u001b[0;34m=\u001b[0m\u001b[0merrors\u001b[0m\u001b[0;34m)\u001b[0m\u001b[0;34m\u001b[0m\u001b[0;34m\u001b[0m\u001b[0m\n\u001b[0m\u001b[1;32m   3890\u001b[0m \u001b[0;34m\u001b[0m\u001b[0m\n\u001b[1;32m   3891\u001b[0m         \u001b[0;32mif\u001b[0m \u001b[0minplace\u001b[0m\u001b[0;34m:\u001b[0m\u001b[0;34m\u001b[0m\u001b[0;34m\u001b[0m\u001b[0m\n",
            "\u001b[0;32m/usr/local/lib/python3.7/dist-packages/pandas/core/generic.py\u001b[0m in \u001b[0;36m_drop_axis\u001b[0;34m(self, labels, axis, level, errors)\u001b[0m\n\u001b[1;32m   3921\u001b[0m                 \u001b[0mnew_axis\u001b[0m \u001b[0;34m=\u001b[0m \u001b[0maxis\u001b[0m\u001b[0;34m.\u001b[0m\u001b[0mdrop\u001b[0m\u001b[0;34m(\u001b[0m\u001b[0mlabels\u001b[0m\u001b[0;34m,\u001b[0m \u001b[0mlevel\u001b[0m\u001b[0;34m=\u001b[0m\u001b[0mlevel\u001b[0m\u001b[0;34m,\u001b[0m \u001b[0merrors\u001b[0m\u001b[0;34m=\u001b[0m\u001b[0merrors\u001b[0m\u001b[0;34m)\u001b[0m\u001b[0;34m\u001b[0m\u001b[0;34m\u001b[0m\u001b[0m\n\u001b[1;32m   3922\u001b[0m             \u001b[0;32melse\u001b[0m\u001b[0;34m:\u001b[0m\u001b[0;34m\u001b[0m\u001b[0;34m\u001b[0m\u001b[0m\n\u001b[0;32m-> 3923\u001b[0;31m                 \u001b[0mnew_axis\u001b[0m \u001b[0;34m=\u001b[0m \u001b[0maxis\u001b[0m\u001b[0;34m.\u001b[0m\u001b[0mdrop\u001b[0m\u001b[0;34m(\u001b[0m\u001b[0mlabels\u001b[0m\u001b[0;34m,\u001b[0m \u001b[0merrors\u001b[0m\u001b[0;34m=\u001b[0m\u001b[0merrors\u001b[0m\u001b[0;34m)\u001b[0m\u001b[0;34m\u001b[0m\u001b[0;34m\u001b[0m\u001b[0m\n\u001b[0m\u001b[1;32m   3924\u001b[0m             \u001b[0mresult\u001b[0m \u001b[0;34m=\u001b[0m \u001b[0mself\u001b[0m\u001b[0;34m.\u001b[0m\u001b[0mreindex\u001b[0m\u001b[0;34m(\u001b[0m\u001b[0;34m**\u001b[0m\u001b[0;34m{\u001b[0m\u001b[0maxis_name\u001b[0m\u001b[0;34m:\u001b[0m \u001b[0mnew_axis\u001b[0m\u001b[0;34m}\u001b[0m\u001b[0;34m)\u001b[0m\u001b[0;34m\u001b[0m\u001b[0;34m\u001b[0m\u001b[0m\n\u001b[1;32m   3925\u001b[0m \u001b[0;34m\u001b[0m\u001b[0m\n",
            "\u001b[0;32m/usr/local/lib/python3.7/dist-packages/pandas/core/indexes/base.py\u001b[0m in \u001b[0;36mdrop\u001b[0;34m(self, labels, errors)\u001b[0m\n\u001b[1;32m   5285\u001b[0m         \u001b[0;32mif\u001b[0m \u001b[0mmask\u001b[0m\u001b[0;34m.\u001b[0m\u001b[0many\u001b[0m\u001b[0;34m(\u001b[0m\u001b[0;34m)\u001b[0m\u001b[0;34m:\u001b[0m\u001b[0;34m\u001b[0m\u001b[0;34m\u001b[0m\u001b[0m\n\u001b[1;32m   5286\u001b[0m             \u001b[0;32mif\u001b[0m \u001b[0merrors\u001b[0m \u001b[0;34m!=\u001b[0m \u001b[0;34m\"ignore\"\u001b[0m\u001b[0;34m:\u001b[0m\u001b[0;34m\u001b[0m\u001b[0;34m\u001b[0m\u001b[0m\n\u001b[0;32m-> 5287\u001b[0;31m                 \u001b[0;32mraise\u001b[0m \u001b[0mKeyError\u001b[0m\u001b[0;34m(\u001b[0m\u001b[0;34mf\"{labels[mask]} not found in axis\"\u001b[0m\u001b[0;34m)\u001b[0m\u001b[0;34m\u001b[0m\u001b[0;34m\u001b[0m\u001b[0m\n\u001b[0m\u001b[1;32m   5288\u001b[0m             \u001b[0mindexer\u001b[0m \u001b[0;34m=\u001b[0m \u001b[0mindexer\u001b[0m\u001b[0;34m[\u001b[0m\u001b[0;34m~\u001b[0m\u001b[0mmask\u001b[0m\u001b[0;34m]\u001b[0m\u001b[0;34m\u001b[0m\u001b[0;34m\u001b[0m\u001b[0m\n\u001b[1;32m   5289\u001b[0m         \u001b[0;32mreturn\u001b[0m \u001b[0mself\u001b[0m\u001b[0;34m.\u001b[0m\u001b[0mdelete\u001b[0m\u001b[0;34m(\u001b[0m\u001b[0mindexer\u001b[0m\u001b[0;34m)\u001b[0m\u001b[0;34m\u001b[0m\u001b[0;34m\u001b[0m\u001b[0m\n",
            "\u001b[0;31mKeyError\u001b[0m: \"['customerID'] not found in axis\""
          ]
        }
      ]
    },
    {
      "cell_type": "code",
      "metadata": {
        "id": "dzhp1GZlmPjZ"
      },
      "source": [
        "train['Churn']  = train['Churn'].replace({'No': int(0),'Yes': int(1)})"
      ],
      "execution_count": null,
      "outputs": []
    },
    {
      "cell_type": "code",
      "metadata": {
        "colab": {
          "base_uri": "https://localhost:8080/",
          "height": 292
        },
        "id": "6Nzf8LXamPja",
        "outputId": "b5100b7a-b6ef-4afd-f382-3a8cfb4fb743"
      },
      "source": [
        "train.head()"
      ],
      "execution_count": null,
      "outputs": [
        {
          "output_type": "execute_result",
          "data": {
            "text/html": [
              "<div>\n",
              "<style scoped>\n",
              "    .dataframe tbody tr th:only-of-type {\n",
              "        vertical-align: middle;\n",
              "    }\n",
              "\n",
              "    .dataframe tbody tr th {\n",
              "        vertical-align: top;\n",
              "    }\n",
              "\n",
              "    .dataframe thead th {\n",
              "        text-align: right;\n",
              "    }\n",
              "</style>\n",
              "<table border=\"1\" class=\"dataframe\">\n",
              "  <thead>\n",
              "    <tr style=\"text-align: right;\">\n",
              "      <th></th>\n",
              "      <th>gender</th>\n",
              "      <th>SeniorCitizen</th>\n",
              "      <th>Partner</th>\n",
              "      <th>Dependents</th>\n",
              "      <th>tenure</th>\n",
              "      <th>PhoneService</th>\n",
              "      <th>MultipleLines</th>\n",
              "      <th>InternetService</th>\n",
              "      <th>OnlineSecurity</th>\n",
              "      <th>OnlineBackup</th>\n",
              "      <th>DeviceProtection</th>\n",
              "      <th>TechSupport</th>\n",
              "      <th>StreamingTV</th>\n",
              "      <th>StreamingMovies</th>\n",
              "      <th>Contract</th>\n",
              "      <th>PaperlessBilling</th>\n",
              "      <th>PaymentMethod</th>\n",
              "      <th>MonthlyCharges</th>\n",
              "      <th>TotalCharges</th>\n",
              "      <th>Churn</th>\n",
              "    </tr>\n",
              "  </thead>\n",
              "  <tbody>\n",
              "    <tr>\n",
              "      <th>0</th>\n",
              "      <td>Female</td>\n",
              "      <td>0</td>\n",
              "      <td>Yes</td>\n",
              "      <td>No</td>\n",
              "      <td>1</td>\n",
              "      <td>No</td>\n",
              "      <td>No phone service</td>\n",
              "      <td>DSL</td>\n",
              "      <td>No</td>\n",
              "      <td>Yes</td>\n",
              "      <td>No</td>\n",
              "      <td>No</td>\n",
              "      <td>No</td>\n",
              "      <td>No</td>\n",
              "      <td>Month-to-month</td>\n",
              "      <td>Yes</td>\n",
              "      <td>Electronic check</td>\n",
              "      <td>29.85</td>\n",
              "      <td>29.85</td>\n",
              "      <td>0</td>\n",
              "    </tr>\n",
              "    <tr>\n",
              "      <th>1</th>\n",
              "      <td>Male</td>\n",
              "      <td>0</td>\n",
              "      <td>No</td>\n",
              "      <td>No</td>\n",
              "      <td>34</td>\n",
              "      <td>Yes</td>\n",
              "      <td>No</td>\n",
              "      <td>DSL</td>\n",
              "      <td>Yes</td>\n",
              "      <td>No</td>\n",
              "      <td>Yes</td>\n",
              "      <td>No</td>\n",
              "      <td>No</td>\n",
              "      <td>No</td>\n",
              "      <td>One year</td>\n",
              "      <td>No</td>\n",
              "      <td>Mailed check</td>\n",
              "      <td>56.95</td>\n",
              "      <td>1889.5</td>\n",
              "      <td>0</td>\n",
              "    </tr>\n",
              "    <tr>\n",
              "      <th>2</th>\n",
              "      <td>Male</td>\n",
              "      <td>0</td>\n",
              "      <td>No</td>\n",
              "      <td>No</td>\n",
              "      <td>2</td>\n",
              "      <td>Yes</td>\n",
              "      <td>No</td>\n",
              "      <td>DSL</td>\n",
              "      <td>Yes</td>\n",
              "      <td>Yes</td>\n",
              "      <td>No</td>\n",
              "      <td>No</td>\n",
              "      <td>No</td>\n",
              "      <td>No</td>\n",
              "      <td>Month-to-month</td>\n",
              "      <td>Yes</td>\n",
              "      <td>Mailed check</td>\n",
              "      <td>53.85</td>\n",
              "      <td>108.15</td>\n",
              "      <td>1</td>\n",
              "    </tr>\n",
              "    <tr>\n",
              "      <th>3</th>\n",
              "      <td>Male</td>\n",
              "      <td>0</td>\n",
              "      <td>No</td>\n",
              "      <td>No</td>\n",
              "      <td>45</td>\n",
              "      <td>No</td>\n",
              "      <td>No phone service</td>\n",
              "      <td>DSL</td>\n",
              "      <td>Yes</td>\n",
              "      <td>No</td>\n",
              "      <td>Yes</td>\n",
              "      <td>Yes</td>\n",
              "      <td>No</td>\n",
              "      <td>No</td>\n",
              "      <td>One year</td>\n",
              "      <td>No</td>\n",
              "      <td>Bank transfer (automatic)</td>\n",
              "      <td>42.30</td>\n",
              "      <td>1840.75</td>\n",
              "      <td>0</td>\n",
              "    </tr>\n",
              "    <tr>\n",
              "      <th>4</th>\n",
              "      <td>Female</td>\n",
              "      <td>0</td>\n",
              "      <td>No</td>\n",
              "      <td>No</td>\n",
              "      <td>2</td>\n",
              "      <td>Yes</td>\n",
              "      <td>No</td>\n",
              "      <td>Fiber optic</td>\n",
              "      <td>No</td>\n",
              "      <td>No</td>\n",
              "      <td>No</td>\n",
              "      <td>No</td>\n",
              "      <td>No</td>\n",
              "      <td>No</td>\n",
              "      <td>Month-to-month</td>\n",
              "      <td>Yes</td>\n",
              "      <td>Electronic check</td>\n",
              "      <td>70.70</td>\n",
              "      <td>151.65</td>\n",
              "      <td>1</td>\n",
              "    </tr>\n",
              "  </tbody>\n",
              "</table>\n",
              "</div>"
            ],
            "text/plain": [
              "   gender  SeniorCitizen Partner  ... MonthlyCharges  TotalCharges Churn\n",
              "0  Female              0     Yes  ...          29.85         29.85     0\n",
              "1    Male              0      No  ...          56.95        1889.5     0\n",
              "2    Male              0      No  ...          53.85        108.15     1\n",
              "3    Male              0      No  ...          42.30       1840.75     0\n",
              "4  Female              0      No  ...          70.70        151.65     1\n",
              "\n",
              "[5 rows x 20 columns]"
            ]
          },
          "metadata": {
            "tags": []
          },
          "execution_count": 13
        }
      ]
    },
    {
      "cell_type": "markdown",
      "metadata": {
        "id": "6vB0K7G7mPjg"
      },
      "source": [
        "# TRAIN-TEST SPLIT FOR THE GIVEN DATA:"
      ]
    },
    {
      "cell_type": "code",
      "metadata": {
        "id": "IBiD7r8nmPjh"
      },
      "source": [
        "df_x = train.drop('Churn',axis=1)\n",
        "df_y = train['Churn']"
      ],
      "execution_count": null,
      "outputs": []
    },
    {
      "cell_type": "code",
      "metadata": {
        "id": "uqkzYMyimPjj"
      },
      "source": [
        "x_train,x_test,y_train,y_test = train_test_split(df_x,df_y,test_size=0.2, random_state=4)"
      ],
      "execution_count": null,
      "outputs": []
    },
    {
      "cell_type": "markdown",
      "metadata": {
        "id": "BU8PtH85mPjj"
      },
      "source": [
        "# DETERMINING CATEGORICAL FEATURES FOR CATBOOST CLASSIFIER:"
      ]
    },
    {
      "cell_type": "code",
      "metadata": {
        "colab": {
          "base_uri": "https://localhost:8080/"
        },
        "id": "GHqlVv0CmPjm",
        "outputId": "820f535a-902e-4aab-bb7e-71828e73aa96"
      },
      "source": [
        "train.columns"
      ],
      "execution_count": null,
      "outputs": [
        {
          "output_type": "execute_result",
          "data": {
            "text/plain": [
              "Index(['gender', 'SeniorCitizen', 'Partner', 'Dependents', 'tenure',\n",
              "       'PhoneService', 'MultipleLines', 'InternetService', 'OnlineSecurity',\n",
              "       'OnlineBackup', 'DeviceProtection', 'TechSupport', 'StreamingTV',\n",
              "       'StreamingMovies', 'Contract', 'PaperlessBilling', 'PaymentMethod',\n",
              "       'MonthlyCharges', 'TotalCharges', 'Churn'],\n",
              "      dtype='object')"
            ]
          },
          "metadata": {
            "tags": []
          },
          "execution_count": 16
        }
      ]
    },
    {
      "cell_type": "code",
      "metadata": {
        "id": "BRr1Uh83mPjn"
      },
      "source": [
        "cat_cols = ['gender', 'SeniorCitizen', 'Partner', 'Dependents', 'tenure',\n",
        "       'PhoneService', 'MultipleLines', 'InternetService', 'OnlineSecurity',\n",
        "       'OnlineBackup', 'DeviceProtection', 'TechSupport', 'StreamingTV',\n",
        "       'StreamingMovies', 'Contract', 'PaperlessBilling', 'PaymentMethod']\n",
        "features = ['gender', 'SeniorCitizen', 'Partner', 'Dependents', 'tenure',\n",
        "       'PhoneService', 'MultipleLines', 'InternetService', 'OnlineSecurity',\n",
        "       'OnlineBackup', 'DeviceProtection', 'TechSupport', 'StreamingTV',\n",
        "       'StreamingMovies', 'Contract', 'PaperlessBilling', 'PaymentMethod',\n",
        "       'MonthlyCharges', 'TotalCharges']"
      ],
      "execution_count": null,
      "outputs": []
    },
    {
      "cell_type": "markdown",
      "metadata": {
        "id": "Mc7Mr6GxmPjo"
      },
      "source": [
        "# INVESTIGATING THE FEATURES AVAILABLE:"
      ]
    },
    {
      "cell_type": "code",
      "metadata": {
        "colab": {
          "base_uri": "https://localhost:8080/"
        },
        "id": "h0kvZWQfmPjp",
        "outputId": "d40a8376-c0dd-4ba0-e5ef-b94a4579fd06"
      },
      "source": [
        "for col in cat_cols :\n",
        "    uniq = np.unique(train[col].astype(str))\n",
        "    print('-' * 100)\n",
        "    print('# col {}, n_uniq {}, uniq {}'.format(col, len(uniq), uniq))"
      ],
      "execution_count": null,
      "outputs": [
        {
          "output_type": "stream",
          "text": [
            "----------------------------------------------------------------------------------------------------\n",
            "# col gender, n_uniq 2, uniq ['Female' 'Male']\n",
            "----------------------------------------------------------------------------------------------------\n",
            "# col SeniorCitizen, n_uniq 2, uniq ['0' '1']\n",
            "----------------------------------------------------------------------------------------------------\n",
            "# col Partner, n_uniq 2, uniq ['No' 'Yes']\n",
            "----------------------------------------------------------------------------------------------------\n",
            "# col Dependents, n_uniq 2, uniq ['No' 'Yes']\n",
            "----------------------------------------------------------------------------------------------------\n",
            "# col tenure, n_uniq 73, uniq ['0' '1' '10' '11' '12' '13' '14' '15' '16' '17' '18' '19' '2' '20' '21'\n",
            " '22' '23' '24' '25' '26' '27' '28' '29' '3' '30' '31' '32' '33' '34' '35'\n",
            " '36' '37' '38' '39' '4' '40' '41' '42' '43' '44' '45' '46' '47' '48' '49'\n",
            " '5' '50' '51' '52' '53' '54' '55' '56' '57' '58' '59' '6' '60' '61' '62'\n",
            " '63' '64' '65' '66' '67' '68' '69' '7' '70' '71' '72' '8' '9']\n",
            "----------------------------------------------------------------------------------------------------\n",
            "# col PhoneService, n_uniq 2, uniq ['No' 'Yes']\n",
            "----------------------------------------------------------------------------------------------------\n",
            "# col MultipleLines, n_uniq 3, uniq ['No' 'No phone service' 'Yes']\n",
            "----------------------------------------------------------------------------------------------------\n",
            "# col InternetService, n_uniq 3, uniq ['DSL' 'Fiber optic' 'No']\n",
            "----------------------------------------------------------------------------------------------------\n",
            "# col OnlineSecurity, n_uniq 3, uniq ['No' 'No internet service' 'Yes']\n",
            "----------------------------------------------------------------------------------------------------\n",
            "# col OnlineBackup, n_uniq 3, uniq ['No' 'No internet service' 'Yes']\n",
            "----------------------------------------------------------------------------------------------------\n",
            "# col DeviceProtection, n_uniq 3, uniq ['No' 'No internet service' 'Yes']\n",
            "----------------------------------------------------------------------------------------------------\n",
            "# col TechSupport, n_uniq 3, uniq ['No' 'No internet service' 'Yes']\n",
            "----------------------------------------------------------------------------------------------------\n",
            "# col StreamingTV, n_uniq 3, uniq ['No' 'No internet service' 'Yes']\n",
            "----------------------------------------------------------------------------------------------------\n",
            "# col StreamingMovies, n_uniq 3, uniq ['No' 'No internet service' 'Yes']\n",
            "----------------------------------------------------------------------------------------------------\n",
            "# col Contract, n_uniq 3, uniq ['Month-to-month' 'One year' 'Two year']\n",
            "----------------------------------------------------------------------------------------------------\n",
            "# col PaperlessBilling, n_uniq 2, uniq ['No' 'Yes']\n",
            "----------------------------------------------------------------------------------------------------\n",
            "# col PaymentMethod, n_uniq 4, uniq ['Bank transfer (automatic)' 'Credit card (automatic)' 'Electronic check'\n",
            " 'Mailed check']\n"
          ],
          "name": "stdout"
        }
      ]
    },
    {
      "cell_type": "markdown",
      "metadata": {
        "id": "FzjcO62KmPjq"
      },
      "source": [
        "# MODELLING : CATBOOST CLASSIFIER (ACCURACY : 81.54)"
      ]
    },
    {
      "cell_type": "code",
      "metadata": {
        "colab": {
          "base_uri": "https://localhost:8080/"
        },
        "id": "UFS7PneXnJGw",
        "outputId": "aaa6dc5e-2c2c-4d2f-a2a8-ec715aa37dc1"
      },
      "source": [
        "!pip install catboost"
      ],
      "execution_count": null,
      "outputs": [
        {
          "output_type": "stream",
          "text": [
            "Collecting catboost\n",
            "\u001b[?25l  Downloading https://files.pythonhosted.org/packages/5a/41/24e14322b9986cf72a8763e0a0a69cc256cf963cf9502c8f0044a62c1ae8/catboost-0.26-cp37-none-manylinux1_x86_64.whl (69.2MB)\n",
            "\u001b[K     |████████████████████████████████| 69.2MB 41kB/s \n",
            "\u001b[?25hRequirement already satisfied: pandas>=0.24.0 in /usr/local/lib/python3.7/dist-packages (from catboost) (1.1.5)\n",
            "Requirement already satisfied: numpy>=1.16.0 in /usr/local/lib/python3.7/dist-packages (from catboost) (1.19.5)\n",
            "Requirement already satisfied: matplotlib in /usr/local/lib/python3.7/dist-packages (from catboost) (3.2.2)\n",
            "Requirement already satisfied: scipy in /usr/local/lib/python3.7/dist-packages (from catboost) (1.4.1)\n",
            "Requirement already satisfied: plotly in /usr/local/lib/python3.7/dist-packages (from catboost) (4.4.1)\n",
            "Requirement already satisfied: six in /usr/local/lib/python3.7/dist-packages (from catboost) (1.15.0)\n",
            "Requirement already satisfied: graphviz in /usr/local/lib/python3.7/dist-packages (from catboost) (0.10.1)\n",
            "Requirement already satisfied: python-dateutil>=2.7.3 in /usr/local/lib/python3.7/dist-packages (from pandas>=0.24.0->catboost) (2.8.1)\n",
            "Requirement already satisfied: pytz>=2017.2 in /usr/local/lib/python3.7/dist-packages (from pandas>=0.24.0->catboost) (2018.9)\n",
            "Requirement already satisfied: cycler>=0.10 in /usr/local/lib/python3.7/dist-packages (from matplotlib->catboost) (0.10.0)\n",
            "Requirement already satisfied: kiwisolver>=1.0.1 in /usr/local/lib/python3.7/dist-packages (from matplotlib->catboost) (1.3.1)\n",
            "Requirement already satisfied: pyparsing!=2.0.4,!=2.1.2,!=2.1.6,>=2.0.1 in /usr/local/lib/python3.7/dist-packages (from matplotlib->catboost) (2.4.7)\n",
            "Requirement already satisfied: retrying>=1.3.3 in /usr/local/lib/python3.7/dist-packages (from plotly->catboost) (1.3.3)\n",
            "Installing collected packages: catboost\n",
            "Successfully installed catboost-0.26\n"
          ],
          "name": "stdout"
        }
      ]
    },
    {
      "cell_type": "code",
      "metadata": {
        "id": "nSQfeRKhmPjt"
      },
      "source": [
        "from catboost import CatBoostClassifier,Pool,cv\n",
        "from sklearn.model_selection import train_test_split"
      ],
      "execution_count": null,
      "outputs": []
    },
    {
      "cell_type": "code",
      "metadata": {
        "id": "69Gtc2VAmPjt"
      },
      "source": [
        "train_data = Pool(\n",
        "data = x_train[features],\n",
        "label = y_train,\n",
        "cat_features = cat_cols)"
      ],
      "execution_count": null,
      "outputs": []
    },
    {
      "cell_type": "code",
      "metadata": {
        "id": "LnqYMh4zmPju"
      },
      "source": [
        "test_data = Pool(\n",
        "data = x_test[features],\n",
        "cat_features = cat_cols)"
      ],
      "execution_count": null,
      "outputs": []
    },
    {
      "cell_type": "code",
      "metadata": {
        "id": "dyDTXrYAmPjv"
      },
      "source": [
        "params = {\n",
        "    'iterations':1000,\n",
        "    'custom_metric':'Accuracy',\n",
        "    'loss_function':'CrossEntropy'\n",
        "}"
      ],
      "execution_count": null,
      "outputs": []
    },
    {
      "cell_type": "code",
      "metadata": {
        "scrolled": true,
        "colab": {
          "base_uri": "https://localhost:8080/",
          "referenced_widgets": [
            "902804030681436c9f3ab04bead9ec2e"
          ]
        },
        "id": "Z_PhWrVUmPjv",
        "outputId": "885a16e3-688a-4fc2-946e-12448f27ddd3"
      },
      "source": [
        "cv_results = cv(train_data, params, fold_count=5,plot=True,verbose=False)"
      ],
      "execution_count": null,
      "outputs": [
        {
          "output_type": "display_data",
          "data": {
            "application/vnd.jupyter.widget-view+json": {
              "model_id": "902804030681436c9f3ab04bead9ec2e",
              "version_minor": 0,
              "version_major": 2
            },
            "text/plain": [
              "MetricVisualizer(layout=Layout(align_self='stretch', height='500px'))"
            ]
          },
          "metadata": {
            "tags": []
          }
        }
      ]
    },
    {
      "cell_type": "code",
      "metadata": {
        "id": "hQA9mu3OmPjw"
      },
      "source": [
        "model = CatBoostClassifier(**params)"
      ],
      "execution_count": null,
      "outputs": []
    },
    {
      "cell_type": "code",
      "metadata": {
        "colab": {
          "base_uri": "https://localhost:8080/",
          "height": 34,
          "referenced_widgets": [
            "4b1285b09cdd416e9a5db63140a3432f"
          ]
        },
        "id": "g59yuWcfmPjx",
        "outputId": "5424ccd9-6955-4ee5-ec5f-a005c63bc00c"
      },
      "source": [
        "model.fit(train_data, plot =True,verbose=False)"
      ],
      "execution_count": null,
      "outputs": [
        {
          "output_type": "display_data",
          "data": {
            "application/vnd.jupyter.widget-view+json": {
              "model_id": "4b1285b09cdd416e9a5db63140a3432f",
              "version_minor": 0,
              "version_major": 2
            },
            "text/plain": [
              "MetricVisualizer(layout=Layout(align_self='stretch', height='500px'))"
            ]
          },
          "metadata": {
            "tags": []
          }
        },
        {
          "output_type": "execute_result",
          "data": {
            "text/plain": [
              "<catboost.core.CatBoostClassifier at 0x7f740795e350>"
            ]
          },
          "metadata": {
            "tags": []
          },
          "execution_count": 30
        }
      ]
    },
    {
      "cell_type": "code",
      "metadata": {
        "id": "Y8hEYktvmPjz"
      },
      "source": [
        "z = model.predict(test_data)"
      ],
      "execution_count": null,
      "outputs": []
    },
    {
      "cell_type": "code",
      "metadata": {
        "colab": {
          "base_uri": "https://localhost:8080/"
        },
        "id": "KgVeQpIwmPjz",
        "outputId": "9dd0ff2b-3359-4c08-941e-2ebae4c85e4e"
      },
      "source": [
        "z"
      ],
      "execution_count": null,
      "outputs": [
        {
          "output_type": "execute_result",
          "data": {
            "text/plain": [
              "array([0, 0, 0, ..., 0, 0, 0])"
            ]
          },
          "metadata": {
            "tags": []
          },
          "execution_count": 32
        }
      ]
    },
    {
      "cell_type": "code",
      "metadata": {
        "id": "n6Vkfqedocx3"
      },
      "source": [
        "from sklearn.metrics import f1_score"
      ],
      "execution_count": null,
      "outputs": []
    },
    {
      "cell_type": "code",
      "metadata": {
        "colab": {
          "base_uri": "https://localhost:8080/"
        },
        "id": "xKuVkNTBpC4b",
        "outputId": "5a96d458-a5bc-4306-9efc-2ef272ae0a35"
      },
      "source": [
        "print(f1_score(z, y_test))"
      ],
      "execution_count": null,
      "outputs": [
        {
          "output_type": "stream",
          "text": [
            "0.5491923641703378\n"
          ],
          "name": "stdout"
        }
      ]
    },
    {
      "cell_type": "code",
      "metadata": {
        "id": "vVFV1HOmp84I"
      },
      "source": [
        "from sklearn.tree import DecisionTreeClassifier\n",
        "from sklearn.metrics import confusion_matrix\n",
        "from sklearn.neural_network import MLPClassifier\n",
        "from sklearn.metrics import f1_score\n",
        "from sklearn.metrics import accuracy_score, classification_report\n",
        "\n",
        "import itertools"
      ],
      "execution_count": null,
      "outputs": []
    },
    {
      "cell_type": "code",
      "metadata": {
        "colab": {
          "base_uri": "https://localhost:8080/",
          "height": 599
        },
        "id": "8MxFjFlGpcLp",
        "outputId": "471f8153-cfbd-4457-be5b-0cc004f67c97"
      },
      "source": [
        "from sklearn.metrics import confusion_matrix\n",
        "# plot confusion matrix for decision DecisionTree\n",
        "cnf_matrix = confusion_matrix(y_test,z)\n",
        "np.set_printoptions(precision=2)\n",
        "\n",
        "\n",
        "class_names = [0,1]\n",
        "\n",
        "plt.figure(figsize=(10,8))\n",
        "plot_confusion_matrix(cnf_matrix, classes=class_names, title='Confusion matrix')\n",
        "plt.show()"
      ],
      "execution_count": null,
      "outputs": [
        {
          "output_type": "display_data",
          "data": {
            "image/png": "[encoded data removed]",
            "text/plain": [
              "<Figure size 720x576 with 2 Axes>"
            ]
          },
          "metadata": {
            "tags": [],
            "needs_background": "light"
          }
        }
      ]
    },
    {
      "cell_type": "markdown",
      "metadata": {
        "id": "prp2FcfBmPj1"
      },
      "source": [
        "# MODELLING : XGBOOST CLASSIFIER(ACCURACY : 80.83)"
      ]
    },
    {
      "cell_type": "code",
      "metadata": {
        "id": "3ANhpTP2mPj2"
      },
      "source": [
        "from sklearn.preprocessing import LabelEncoder\n",
        "encode=LabelEncoder()\n",
        "list = train.columns.tolist()\n",
        "for i in list:\n",
        "    train[i] = encode.fit_transform(train[i])"
      ],
      "execution_count": null,
      "outputs": []
    },
    {
      "cell_type": "code",
      "metadata": {
        "id": "xk-RHqjOmPj3",
        "colab": {
          "base_uri": "https://localhost:8080/",
          "height": 224
        },
        "outputId": "6e06ca48-80af-42ff-f0f8-f1c56347b1bd"
      },
      "source": [
        "train.head()"
      ],
      "execution_count": null,
      "outputs": [
        {
          "output_type": "execute_result",
          "data": {
            "text/html": [
              "<div>\n",
              "<style scoped>\n",
              "    .dataframe tbody tr th:only-of-type {\n",
              "        vertical-align: middle;\n",
              "    }\n",
              "\n",
              "    .dataframe tbody tr th {\n",
              "        vertical-align: top;\n",
              "    }\n",
              "\n",
              "    .dataframe thead th {\n",
              "        text-align: right;\n",
              "    }\n",
              "</style>\n",
              "<table border=\"1\" class=\"dataframe\">\n",
              "  <thead>\n",
              "    <tr style=\"text-align: right;\">\n",
              "      <th></th>\n",
              "      <th>gender</th>\n",
              "      <th>SeniorCitizen</th>\n",
              "      <th>Partner</th>\n",
              "      <th>Dependents</th>\n",
              "      <th>tenure</th>\n",
              "      <th>PhoneService</th>\n",
              "      <th>MultipleLines</th>\n",
              "      <th>InternetService</th>\n",
              "      <th>OnlineSecurity</th>\n",
              "      <th>OnlineBackup</th>\n",
              "      <th>DeviceProtection</th>\n",
              "      <th>TechSupport</th>\n",
              "      <th>StreamingTV</th>\n",
              "      <th>StreamingMovies</th>\n",
              "      <th>Contract</th>\n",
              "      <th>PaperlessBilling</th>\n",
              "      <th>PaymentMethod</th>\n",
              "      <th>MonthlyCharges</th>\n",
              "      <th>TotalCharges</th>\n",
              "      <th>Churn</th>\n",
              "    </tr>\n",
              "  </thead>\n",
              "  <tbody>\n",
              "    <tr>\n",
              "      <th>0</th>\n",
              "      <td>0</td>\n",
              "      <td>0</td>\n",
              "      <td>1</td>\n",
              "      <td>0</td>\n",
              "      <td>1</td>\n",
              "      <td>0</td>\n",
              "      <td>1</td>\n",
              "      <td>0</td>\n",
              "      <td>0</td>\n",
              "      <td>2</td>\n",
              "      <td>0</td>\n",
              "      <td>0</td>\n",
              "      <td>0</td>\n",
              "      <td>0</td>\n",
              "      <td>0</td>\n",
              "      <td>1</td>\n",
              "      <td>2</td>\n",
              "      <td>142</td>\n",
              "      <td>2505</td>\n",
              "      <td>0</td>\n",
              "    </tr>\n",
              "    <tr>\n",
              "      <th>1</th>\n",
              "      <td>1</td>\n",
              "      <td>0</td>\n",
              "      <td>0</td>\n",
              "      <td>0</td>\n",
              "      <td>34</td>\n",
              "      <td>1</td>\n",
              "      <td>0</td>\n",
              "      <td>0</td>\n",
              "      <td>2</td>\n",
              "      <td>0</td>\n",
              "      <td>2</td>\n",
              "      <td>0</td>\n",
              "      <td>0</td>\n",
              "      <td>0</td>\n",
              "      <td>1</td>\n",
              "      <td>0</td>\n",
              "      <td>3</td>\n",
              "      <td>498</td>\n",
              "      <td>1466</td>\n",
              "      <td>0</td>\n",
              "    </tr>\n",
              "    <tr>\n",
              "      <th>2</th>\n",
              "      <td>1</td>\n",
              "      <td>0</td>\n",
              "      <td>0</td>\n",
              "      <td>0</td>\n",
              "      <td>2</td>\n",
              "      <td>1</td>\n",
              "      <td>0</td>\n",
              "      <td>0</td>\n",
              "      <td>2</td>\n",
              "      <td>2</td>\n",
              "      <td>0</td>\n",
              "      <td>0</td>\n",
              "      <td>0</td>\n",
              "      <td>0</td>\n",
              "      <td>0</td>\n",
              "      <td>1</td>\n",
              "      <td>3</td>\n",
              "      <td>436</td>\n",
              "      <td>157</td>\n",
              "      <td>1</td>\n",
              "    </tr>\n",
              "    <tr>\n",
              "      <th>3</th>\n",
              "      <td>1</td>\n",
              "      <td>0</td>\n",
              "      <td>0</td>\n",
              "      <td>0</td>\n",
              "      <td>45</td>\n",
              "      <td>0</td>\n",
              "      <td>1</td>\n",
              "      <td>0</td>\n",
              "      <td>2</td>\n",
              "      <td>0</td>\n",
              "      <td>2</td>\n",
              "      <td>2</td>\n",
              "      <td>0</td>\n",
              "      <td>0</td>\n",
              "      <td>1</td>\n",
              "      <td>0</td>\n",
              "      <td>0</td>\n",
              "      <td>266</td>\n",
              "      <td>1400</td>\n",
              "      <td>0</td>\n",
              "    </tr>\n",
              "    <tr>\n",
              "      <th>4</th>\n",
              "      <td>0</td>\n",
              "      <td>0</td>\n",
              "      <td>0</td>\n",
              "      <td>0</td>\n",
              "      <td>2</td>\n",
              "      <td>1</td>\n",
              "      <td>0</td>\n",
              "      <td>1</td>\n",
              "      <td>0</td>\n",
              "      <td>0</td>\n",
              "      <td>0</td>\n",
              "      <td>0</td>\n",
              "      <td>0</td>\n",
              "      <td>0</td>\n",
              "      <td>0</td>\n",
              "      <td>1</td>\n",
              "      <td>2</td>\n",
              "      <td>729</td>\n",
              "      <td>925</td>\n",
              "      <td>1</td>\n",
              "    </tr>\n",
              "  </tbody>\n",
              "</table>\n",
              "</div>"
            ],
            "text/plain": [
              "   gender  SeniorCitizen  Partner  ...  MonthlyCharges  TotalCharges  Churn\n",
              "0       0              0        1  ...             142          2505      0\n",
              "1       1              0        0  ...             498          1466      0\n",
              "2       1              0        0  ...             436           157      1\n",
              "3       1              0        0  ...             266          1400      0\n",
              "4       0              0        0  ...             729           925      1\n",
              "\n",
              "[5 rows x 20 columns]"
            ]
          },
          "metadata": {
            "tags": []
          },
          "execution_count": 38
        }
      ]
    },
    {
      "cell_type": "code",
      "metadata": {
        "id": "8GhuPVigmPj4"
      },
      "source": [
        "from sklearn.model_selection import RandomizedSearchCV, GridSearchCV\n",
        "import xgboost"
      ],
      "execution_count": null,
      "outputs": []
    },
    {
      "cell_type": "code",
      "metadata": {
        "id": "6tNsBH7RmPj4"
      },
      "source": [
        "def timer(start_time=None):\n",
        "    if not start_time:\n",
        "        start_time = datetime.now()\n",
        "        return start_time\n",
        "    elif start_time:\n",
        "        thour, temp_sec = divmod((datetime.now() - start_time).total_seconds(), 3600)\n",
        "        tmin, tsec = divmod(temp_sec, 60)\n",
        "        print('\\n Time taken: %i hours %i minutes and %s seconds.' % (thour, tmin, round(tsec, 2)))"
      ],
      "execution_count": null,
      "outputs": []
    },
    {
      "cell_type": "code",
      "metadata": {
        "id": "ysV6rILcmPj9"
      },
      "source": [
        "classifier=xgboost.XGBClassifier()"
      ],
      "execution_count": null,
      "outputs": []
    },
    {
      "cell_type": "code",
      "metadata": {
        "id": "duIQrP7VmPj-"
      },
      "source": [
        "params={\n",
        " \"learning_rate\"    : [0.05, 0.10, 0.15, 0.20, 0.25, 0.30 ] ,\n",
        " \"max_depth\"        : [ 3, 4, 5, 6, 8, 10, 12, 15],\n",
        " \"min_child_weight\" : [ 1, 3, 5, 7 ],\n",
        " \"gamma\"            : [ 0.0, 0.1, 0.2 , 0.3, 0.4 ],\n",
        " \"colsample_bytree\" : [ 0.3, 0.4, 0.5 , 0.7 ]\n",
        "    \n",
        "}"
      ],
      "execution_count": null,
      "outputs": []
    },
    {
      "cell_type": "code",
      "metadata": {
        "id": "o8-0bJUwmPj_"
      },
      "source": [
        "random_search=RandomizedSearchCV(classifier,param_distributions=params,n_iter=5,scoring='accuracy',n_jobs=-1,cv=5,verbose=3)"
      ],
      "execution_count": null,
      "outputs": []
    },
    {
      "cell_type": "markdown",
      "metadata": {
        "id": "qA-lnuV5yE4Q"
      },
      "source": [
        "# Working with Encoded data"
      ]
    },
    {
      "cell_type": "code",
      "metadata": {
        "colab": {
          "base_uri": "https://localhost:8080/",
          "height": 224
        },
        "id": "RwDU_D38w2ad",
        "outputId": "e2506060-fe2c-444d-ef26-01afa041d32b"
      },
      "source": [
        "train.head()"
      ],
      "execution_count": null,
      "outputs": [
        {
          "output_type": "execute_result",
          "data": {
            "text/html": [
              "<div>\n",
              "<style scoped>\n",
              "    .dataframe tbody tr th:only-of-type {\n",
              "        vertical-align: middle;\n",
              "    }\n",
              "\n",
              "    .dataframe tbody tr th {\n",
              "        vertical-align: top;\n",
              "    }\n",
              "\n",
              "    .dataframe thead th {\n",
              "        text-align: right;\n",
              "    }\n",
              "</style>\n",
              "<table border=\"1\" class=\"dataframe\">\n",
              "  <thead>\n",
              "    <tr style=\"text-align: right;\">\n",
              "      <th></th>\n",
              "      <th>gender</th>\n",
              "      <th>SeniorCitizen</th>\n",
              "      <th>Partner</th>\n",
              "      <th>Dependents</th>\n",
              "      <th>tenure</th>\n",
              "      <th>PhoneService</th>\n",
              "      <th>MultipleLines</th>\n",
              "      <th>InternetService</th>\n",
              "      <th>OnlineSecurity</th>\n",
              "      <th>OnlineBackup</th>\n",
              "      <th>DeviceProtection</th>\n",
              "      <th>TechSupport</th>\n",
              "      <th>StreamingTV</th>\n",
              "      <th>StreamingMovies</th>\n",
              "      <th>Contract</th>\n",
              "      <th>PaperlessBilling</th>\n",
              "      <th>PaymentMethod</th>\n",
              "      <th>MonthlyCharges</th>\n",
              "      <th>TotalCharges</th>\n",
              "      <th>Churn</th>\n",
              "    </tr>\n",
              "  </thead>\n",
              "  <tbody>\n",
              "    <tr>\n",
              "      <th>0</th>\n",
              "      <td>0</td>\n",
              "      <td>0</td>\n",
              "      <td>1</td>\n",
              "      <td>0</td>\n",
              "      <td>1</td>\n",
              "      <td>0</td>\n",
              "      <td>1</td>\n",
              "      <td>0</td>\n",
              "      <td>0</td>\n",
              "      <td>2</td>\n",
              "      <td>0</td>\n",
              "      <td>0</td>\n",
              "      <td>0</td>\n",
              "      <td>0</td>\n",
              "      <td>0</td>\n",
              "      <td>1</td>\n",
              "      <td>2</td>\n",
              "      <td>142</td>\n",
              "      <td>2505</td>\n",
              "      <td>0</td>\n",
              "    </tr>\n",
              "    <tr>\n",
              "      <th>1</th>\n",
              "      <td>1</td>\n",
              "      <td>0</td>\n",
              "      <td>0</td>\n",
              "      <td>0</td>\n",
              "      <td>34</td>\n",
              "      <td>1</td>\n",
              "      <td>0</td>\n",
              "      <td>0</td>\n",
              "      <td>2</td>\n",
              "      <td>0</td>\n",
              "      <td>2</td>\n",
              "      <td>0</td>\n",
              "      <td>0</td>\n",
              "      <td>0</td>\n",
              "      <td>1</td>\n",
              "      <td>0</td>\n",
              "      <td>3</td>\n",
              "      <td>498</td>\n",
              "      <td>1466</td>\n",
              "      <td>0</td>\n",
              "    </tr>\n",
              "    <tr>\n",
              "      <th>2</th>\n",
              "      <td>1</td>\n",
              "      <td>0</td>\n",
              "      <td>0</td>\n",
              "      <td>0</td>\n",
              "      <td>2</td>\n",
              "      <td>1</td>\n",
              "      <td>0</td>\n",
              "      <td>0</td>\n",
              "      <td>2</td>\n",
              "      <td>2</td>\n",
              "      <td>0</td>\n",
              "      <td>0</td>\n",
              "      <td>0</td>\n",
              "      <td>0</td>\n",
              "      <td>0</td>\n",
              "      <td>1</td>\n",
              "      <td>3</td>\n",
              "      <td>436</td>\n",
              "      <td>157</td>\n",
              "      <td>1</td>\n",
              "    </tr>\n",
              "    <tr>\n",
              "      <th>3</th>\n",
              "      <td>1</td>\n",
              "      <td>0</td>\n",
              "      <td>0</td>\n",
              "      <td>0</td>\n",
              "      <td>45</td>\n",
              "      <td>0</td>\n",
              "      <td>1</td>\n",
              "      <td>0</td>\n",
              "      <td>2</td>\n",
              "      <td>0</td>\n",
              "      <td>2</td>\n",
              "      <td>2</td>\n",
              "      <td>0</td>\n",
              "      <td>0</td>\n",
              "      <td>1</td>\n",
              "      <td>0</td>\n",
              "      <td>0</td>\n",
              "      <td>266</td>\n",
              "      <td>1400</td>\n",
              "      <td>0</td>\n",
              "    </tr>\n",
              "    <tr>\n",
              "      <th>4</th>\n",
              "      <td>0</td>\n",
              "      <td>0</td>\n",
              "      <td>0</td>\n",
              "      <td>0</td>\n",
              "      <td>2</td>\n",
              "      <td>1</td>\n",
              "      <td>0</td>\n",
              "      <td>1</td>\n",
              "      <td>0</td>\n",
              "      <td>0</td>\n",
              "      <td>0</td>\n",
              "      <td>0</td>\n",
              "      <td>0</td>\n",
              "      <td>0</td>\n",
              "      <td>0</td>\n",
              "      <td>1</td>\n",
              "      <td>2</td>\n",
              "      <td>729</td>\n",
              "      <td>925</td>\n",
              "      <td>1</td>\n",
              "    </tr>\n",
              "  </tbody>\n",
              "</table>\n",
              "</div>"
            ],
            "text/plain": [
              "   gender  SeniorCitizen  Partner  ...  MonthlyCharges  TotalCharges  Churn\n",
              "0       0              0        1  ...             142          2505      0\n",
              "1       1              0        0  ...             498          1466      0\n",
              "2       1              0        0  ...             436           157      1\n",
              "3       1              0        0  ...             266          1400      0\n",
              "4       0              0        0  ...             729           925      1\n",
              "\n",
              "[5 rows x 20 columns]"
            ]
          },
          "metadata": {
            "tags": []
          },
          "execution_count": 47
        }
      ]
    },
    {
      "cell_type": "code",
      "metadata": {
        "id": "GxKH7owfzCOo"
      },
      "source": [
        "df_x = train.drop('Churn',axis=1)\n",
        "df_y = train['Churn']"
      ],
      "execution_count": null,
      "outputs": []
    },
    {
      "cell_type": "code",
      "metadata": {
        "id": "F2getuvQysqg"
      },
      "source": [
        "x1_train,x1_test,y1_train,y1_test = train_test_split(df_x,df_y,test_size=0.2, random_state=4)"
      ],
      "execution_count": null,
      "outputs": []
    },
    {
      "cell_type": "code",
      "metadata": {
        "id": "3hwv-kvHwrRV"
      },
      "source": [
        "# split encoded dataset\n",
        "train_data1 = Pool(\n",
        "data = x1_train[features],\n",
        "label = y1_train,\n",
        "cat_features = cat_cols)"
      ],
      "execution_count": null,
      "outputs": []
    },
    {
      "cell_type": "code",
      "metadata": {
        "id": "K53bGwVjxEQr"
      },
      "source": [
        "test_data1= Pool(\n",
        "data = x1_test[features],\n",
        "cat_features = cat_cols)"
      ],
      "execution_count": null,
      "outputs": []
    },
    {
      "cell_type": "code",
      "metadata": {
        "id": "4R2dGvRlmPj_",
        "colab": {
          "base_uri": "https://localhost:8080/"
        },
        "outputId": "3c89b8a0-48de-4e47-def8-1fb317163779"
      },
      "source": [
        "from datetime import datetime\n",
        "# Here we go\n",
        "start_time = timer(None) # timing starts from this point for \"start_time\" variable\n",
        "random_search.fit(x1_train,y1_train)\n",
        "timer(start_time)"
      ],
      "execution_count": null,
      "outputs": [
        {
          "output_type": "stream",
          "text": [
            "Fitting 5 folds for each of 5 candidates, totalling 25 fits\n"
          ],
          "name": "stdout"
        },
        {
          "output_type": "stream",
          "text": [
            "[Parallel(n_jobs=-1)]: Using backend LokyBackend with 2 concurrent workers.\n",
            "[Parallel(n_jobs=-1)]: Done  25 out of  25 | elapsed:    8.8s finished\n"
          ],
          "name": "stderr"
        },
        {
          "output_type": "stream",
          "text": [
            "\n",
            " Time taken: 0 hours 0 minutes and 9.24 seconds.\n"
          ],
          "name": "stdout"
        }
      ]
    },
    {
      "cell_type": "code",
      "metadata": {
        "id": "7YFpmv_xmPkA",
        "colab": {
          "base_uri": "https://localhost:8080/"
        },
        "outputId": "3f60a045-e48d-44cc-ddb8-96e402fda248"
      },
      "source": [
        "random_search.best_estimator_"
      ],
      "execution_count": null,
      "outputs": [
        {
          "output_type": "execute_result",
          "data": {
            "text/plain": [
              "XGBClassifier(base_score=0.5, booster='gbtree', colsample_bylevel=1,\n",
              "              colsample_bynode=1, colsample_bytree=0.7, gamma=0.3,\n",
              "              learning_rate=0.1, max_delta_step=0, max_depth=4,\n",
              "              min_child_weight=3, missing=None, n_estimators=100, n_jobs=1,\n",
              "              nthread=None, objective='binary:logistic', random_state=0,\n",
              "              reg_alpha=0, reg_lambda=1, scale_pos_weight=1, seed=None,\n",
              "              silent=None, subsample=1, verbosity=1)"
            ]
          },
          "metadata": {
            "tags": []
          },
          "execution_count": 53
        }
      ]
    },
    {
      "cell_type": "code",
      "metadata": {
        "id": "fLhISB_1mPkB",
        "colab": {
          "base_uri": "https://localhost:8080/"
        },
        "outputId": "fc1513bf-6811-41f9-bf98-74fcc3df2304"
      },
      "source": [
        "random_search.best_params_"
      ],
      "execution_count": null,
      "outputs": [
        {
          "output_type": "execute_result",
          "data": {
            "text/plain": [
              "{'colsample_bytree': 0.7,\n",
              " 'gamma': 0.3,\n",
              " 'learning_rate': 0.1,\n",
              " 'max_depth': 4,\n",
              " 'min_child_weight': 3}"
            ]
          },
          "metadata": {
            "tags": []
          },
          "execution_count": 54
        }
      ]
    },
    {
      "cell_type": "code",
      "metadata": {
        "id": "eFT3ZbvqmPkB"
      },
      "source": [
        "classifier=xgboost.XGBClassifier(base_score=0.5, booster='gbtree', colsample_bylevel=1,\n",
        "              colsample_bynode=1, colsample_bytree=0.5, gamma=0.1,\n",
        "              learning_rate=0.05, max_delta_step=0, max_depth=3,\n",
        "              min_child_weight=5, missing=None, n_estimators=100, n_jobs=1,\n",
        "              nthread=None, objective='binary:logistic', random_state=0,\n",
        "              reg_alpha=0, reg_lambda=1, scale_pos_weight=1, seed=None,\n",
        "              silent=None, subsample=1, verbosity=1)"
      ],
      "execution_count": null,
      "outputs": []
    },
    {
      "cell_type": "code",
      "metadata": {
        "id": "MUt2tecRmPkC"
      },
      "source": [
        "from sklearn.model_selection import cross_val_score\n",
        "score=cross_val_score(classifier,x1_train,y1_train,cv=10)"
      ],
      "execution_count": null,
      "outputs": []
    },
    {
      "cell_type": "code",
      "metadata": {
        "id": "f-1oZ5N8mPkC",
        "colab": {
          "base_uri": "https://localhost:8080/"
        },
        "outputId": "41db3fc2-db3f-479a-991d-fec35ef26763"
      },
      "source": [
        "score.mean()"
      ],
      "execution_count": null,
      "outputs": [
        {
          "output_type": "execute_result",
          "data": {
            "text/plain": [
              "0.809727208596299"
            ]
          },
          "metadata": {
            "tags": []
          },
          "execution_count": 57
        }
      ]
    },
    {
      "cell_type": "code",
      "metadata": {
        "colab": {
          "base_uri": "https://localhost:8080/"
        },
        "id": "ZTbdmDc30E24",
        "outputId": "5bc5e98e-e678-46e5-f251-fb65e8e9f01a"
      },
      "source": [
        "\n",
        "score"
      ],
      "execution_count": null,
      "outputs": [
        {
          "output_type": "execute_result",
          "data": {
            "text/plain": [
              "array([0.79, 0.82, 0.82, 0.81, 0.81, 0.8 , 0.81, 0.82, 0.82, 0.81])"
            ]
          },
          "metadata": {
            "tags": []
          },
          "execution_count": 59
        }
      ]
    },
    {
      "cell_type": "code",
      "metadata": {
        "colab": {
          "base_uri": "https://localhost:8080/"
        },
        "id": "vpJlOxkV0X1L",
        "outputId": "56ff3f07-f1e7-4b2e-fa36-c6b37f98268f"
      },
      "source": [
        "type(test_data1)"
      ],
      "execution_count": null,
      "outputs": [
        {
          "output_type": "execute_result",
          "data": {
            "text/plain": [
              "catboost.core.Pool"
            ]
          },
          "metadata": {
            "tags": []
          },
          "execution_count": 61
        }
      ]
    },
    {
      "cell_type": "code",
      "metadata": {
        "colab": {
          "base_uri": "https://localhost:8080/"
        },
        "id": "gLe-qRXy0-zC",
        "outputId": "f90d1e58-a026-41d8-bf66-378533e38b33"
      },
      "source": [
        "classifier.fit(x1_train, y1_train)"
      ],
      "execution_count": null,
      "outputs": [
        {
          "output_type": "execute_result",
          "data": {
            "text/plain": [
              "XGBClassifier(base_score=0.5, booster='gbtree', colsample_bylevel=1,\n",
              "              colsample_bynode=1, colsample_bytree=0.5, gamma=0.1,\n",
              "              learning_rate=0.05, max_delta_step=0, max_depth=3,\n",
              "              min_child_weight=5, missing=None, n_estimators=100, n_jobs=1,\n",
              "              nthread=None, objective='binary:logistic', random_state=0,\n",
              "              reg_alpha=0, reg_lambda=1, scale_pos_weight=1, seed=None,\n",
              "              silent=None, subsample=1, verbosity=1)"
            ]
          },
          "metadata": {
            "tags": []
          },
          "execution_count": 64
        }
      ]
    },
    {
      "cell_type": "code",
      "metadata": {
        "id": "gFKcRG5Ux5Oh"
      },
      "source": [
        "pred = classifier.predict(x1_test)"
      ],
      "execution_count": null,
      "outputs": []
    },
    {
      "cell_type": "code",
      "metadata": {
        "colab": {
          "base_uri": "https://localhost:8080/"
        },
        "id": "1HPHtiAg1Xck",
        "outputId": "1949ba21-4221-4872-a44e-26cc7a996b1a"
      },
      "source": [
        "pred"
      ],
      "execution_count": null,
      "outputs": [
        {
          "output_type": "execute_result",
          "data": {
            "text/plain": [
              "array([0, 0, 0, ..., 0, 0, 0])"
            ]
          },
          "metadata": {
            "tags": []
          },
          "execution_count": 66
        }
      ]
    },
    {
      "cell_type": "code",
      "metadata": {
        "id": "P4rpeSENpWoG",
        "colab": {
          "base_uri": "https://localhost:8080/"
        },
        "outputId": "2a35d4dd-8b64-4696-836d-3ff21444bb77"
      },
      "source": [
        "print(f1_score(pred, y1_test))"
      ],
      "execution_count": null,
      "outputs": [
        {
          "output_type": "stream",
          "text": [
            "0.5586924219910847\n"
          ],
          "name": "stdout"
        }
      ]
    },
    {
      "cell_type": "code",
      "metadata": {
        "colab": {
          "base_uri": "https://localhost:8080/",
          "height": 599
        },
        "id": "6esQ9lI81hJj",
        "outputId": "1ee59f85-e2d4-4fb7-898a-48d5b7862631"
      },
      "source": [
        "from sklearn.metrics import confusion_matrix\n",
        "# plot confusion matrix for decision DecisionTree\n",
        "cnf_matrix = confusion_matrix(y1_test,pred)\n",
        "np.set_printoptions(precision=2)\n",
        "\n",
        "\n",
        "class_names = [0,1]\n",
        "\n",
        "plt.figure(figsize=(10,8))\n",
        "plot_confusion_matrix(cnf_matrix, classes=class_names, title='Confusion matrix')\n",
        "plt.show()"
      ],
      "execution_count": null,
      "outputs": [
        {
          "output_type": "display_data",
          "data": {
            "image/png": "[encoded data removed]",
            "text/plain": [
              "<Figure size 720x576 with 2 Axes>"
            ]
          },
          "metadata": {
            "tags": [],
            "needs_background": "light"
          }
        }
      ]
    }
  ]
}